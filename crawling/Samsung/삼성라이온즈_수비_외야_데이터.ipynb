{
 "cells": [
  {
   "cell_type": "code",
   "execution_count": 31,
   "id": "0551d6d4",
   "metadata": {},
   "outputs": [
    {
     "name": "stdout",
     "output_type": "stream",
     "text": [
      "Requirement already satisfied: selenium in c:\\users\\melid\\anaconda3\\lib\\site-packages (4.19.0)\n",
      "Requirement already satisfied: urllib3[socks]<3,>=1.26 in c:\\users\\melid\\anaconda3\\lib\\site-packages (from selenium) (1.26.16)\n",
      "Requirement already satisfied: trio~=0.17 in c:\\users\\melid\\anaconda3\\lib\\site-packages (from selenium) (0.25.0)\n",
      "Requirement already satisfied: trio-websocket~=0.9 in c:\\users\\melid\\anaconda3\\lib\\site-packages (from selenium) (0.11.1)\n",
      "Requirement already satisfied: certifi>=2021.10.8 in c:\\users\\melid\\anaconda3\\lib\\site-packages (from selenium) (2024.2.2)\n",
      "Requirement already satisfied: typing_extensions>=4.9.0 in c:\\users\\melid\\anaconda3\\lib\\site-packages (from selenium) (4.10.0)\n",
      "Requirement already satisfied: attrs>=23.2.0 in c:\\users\\melid\\anaconda3\\lib\\site-packages (from trio~=0.17->selenium) (23.2.0)\n",
      "Requirement already satisfied: sortedcontainers in c:\\users\\melid\\anaconda3\\lib\\site-packages (from trio~=0.17->selenium) (2.4.0)\n",
      "Requirement already satisfied: idna in c:\\users\\melid\\anaconda3\\lib\\site-packages (from trio~=0.17->selenium) (3.4)\n",
      "Requirement already satisfied: outcome in c:\\users\\melid\\anaconda3\\lib\\site-packages (from trio~=0.17->selenium) (1.3.0.post0)\n",
      "Requirement already satisfied: sniffio>=1.3.0 in c:\\users\\melid\\anaconda3\\lib\\site-packages (from trio~=0.17->selenium) (1.3.1)\n",
      "Requirement already satisfied: cffi>=1.14 in c:\\users\\melid\\anaconda3\\lib\\site-packages (from trio~=0.17->selenium) (1.15.1)\n",
      "Requirement already satisfied: wsproto>=0.14 in c:\\users\\melid\\anaconda3\\lib\\site-packages (from trio-websocket~=0.9->selenium) (1.2.0)\n",
      "Requirement already satisfied: PySocks!=1.5.7,<2.0,>=1.5.6 in c:\\users\\melid\\anaconda3\\lib\\site-packages (from urllib3[socks]<3,>=1.26->selenium) (1.7.1)\n",
      "Requirement already satisfied: pycparser in c:\\users\\melid\\anaconda3\\lib\\site-packages (from cffi>=1.14->trio~=0.17->selenium) (2.21)\n",
      "Requirement already satisfied: h11<1,>=0.9.0 in c:\\users\\melid\\anaconda3\\lib\\site-packages (from wsproto>=0.14->trio-websocket~=0.9->selenium) (0.14.0)\n",
      "Collecting html_table_parser\n",
      "  Downloading html_table_parser-0.1.0.tar.gz (3.4 kB)\n",
      "  Preparing metadata (setup.py): started\n",
      "  Preparing metadata (setup.py): finished with status 'done'\n",
      "Collecting beautifulsoup4==4.4.1 (from html_table_parser)\n",
      "  Obtaining dependency information for beautifulsoup4==4.4.1 from https://files.pythonhosted.org/packages/cf/69/9abfdab06490af5e0233bcebe3f617ec128486d94ea987ad4f77b9332eef/beautifulsoup4-4.4.1-py3-none-any.whl.metadata\n",
      "  Downloading beautifulsoup4-4.4.1-py3-none-any.whl.metadata (1.1 kB)\n",
      "Downloading beautifulsoup4-4.4.1-py3-none-any.whl (81 kB)\n",
      "   ---------------------------------------- 0.0/81.4 kB ? eta -:--:--\n",
      "   --------------- ------------------------ 30.7/81.4 kB 1.4 MB/s eta 0:00:01\n",
      "   ---------------------------------------- 81.4/81.4 kB 1.5 MB/s eta 0:00:00\n",
      "Building wheels for collected packages: html_table_parser\n",
      "  Building wheel for html_table_parser (setup.py): started\n",
      "  Building wheel for html_table_parser (setup.py): finished with status 'done'\n",
      "  Created wheel for html_table_parser: filename=html_table_parser-0.1.0-py3-none-any.whl size=4638 sha256=2f599eac9f28c620288fd47ba00512a4bafaa8e8464d32c88e500e5168094cc8\n",
      "  Stored in directory: c:\\users\\melid\\appdata\\local\\pip\\cache\\wheels\\3f\\61\\3e\\205c3503f7c244357c1ba105368ba70095a71a075624689850\n",
      "Successfully built html_table_parser\n",
      "Installing collected packages: beautifulsoup4, html_table_parser\n",
      "  Attempting uninstall: beautifulsoup4\n",
      "    Found existing installation: beautifulsoup4 4.12.2\n",
      "    Uninstalling beautifulsoup4-4.12.2:\n",
      "      Successfully uninstalled beautifulsoup4-4.12.2\n",
      "Successfully installed beautifulsoup4-4.4.1 html_table_parser-0.1.0\n"
     ]
    },
    {
     "name": "stderr",
     "output_type": "stream",
     "text": [
      "ERROR: pip's dependency resolver does not currently take into account all the packages that are installed. This behaviour is the source of the following dependency conflicts.\n",
      "spyder 5.4.3 requires jedi<0.19.0,>=0.17.2, but you have jedi 0.19.1 which is incompatible.\n"
     ]
    }
   ],
   "source": [
    "! pip install selenium\n",
    "! pip install html_table_parser"
   ]
  },
  {
   "cell_type": "code",
   "execution_count": 2,
   "id": "39de7e59",
   "metadata": {},
   "outputs": [],
   "source": [
    "from selenium import webdriver\n",
    "from selenium.webdriver.common.keys import Keys\n",
    "from selenium.webdriver.common.by import By\n",
    "import time"
   ]
  },
  {
   "cell_type": "code",
   "execution_count": 3,
   "id": "bd840529",
   "metadata": {},
   "outputs": [],
   "source": [
    "driver = webdriver.Chrome()"
   ]
  },
  {
   "cell_type": "code",
   "execution_count": 4,
   "id": "887343fe",
   "metadata": {},
   "outputs": [],
   "source": [
    "url = \"https://statiz.sporki.com/stats/?m=main&m2=all\"\n",
    "driver.get(url)"
   ]
  },
  {
   "cell_type": "code",
   "execution_count": 5,
   "id": "eec9bc4c",
   "metadata": {},
   "outputs": [],
   "source": [
    "driver.find_element(By.XPATH, '/html/body/div[2]/div[5]/section/div[1]/div/button[4]').click()\n",
    "\n",
    "# 팀 옵션 드롭다운 선택\n",
    "driver.find_element(By.XPATH, '//*[@id=\"select_team\"]/button').click()\n",
    "# 삼성 라이온즈 선택\n",
    "driver.find_element(By.XPATH, '//*[@id=\"select_team\"]/ul/li[6]').click()\n",
    "\n",
    "# 수비 > 내야 선택\n",
    "driver.find_element(By.XPATH, '/html/body/div[2]/div[5]/section/div[6]/ul/li[4]/a').click()"
   ]
  },
  {
   "cell_type": "code",
   "execution_count": 6,
   "id": "d40fd5a1",
   "metadata": {},
   "outputs": [],
   "source": [
    "from urllib.request import urlopen\n",
    "\n",
    "import collections\n",
    "collections.Callable = collections.abc.Callable\n",
    "\n",
    "from bs4 import BeautifulSoup\n",
    "from html_table_parser import parser_functions as parser\n",
    "import pandas as pd"
   ]
  },
  {
   "cell_type": "code",
   "execution_count": 7,
   "id": "879f5b0b",
   "metadata": {},
   "outputs": [],
   "source": [
    "page = driver.page_source\n",
    "soup = BeautifulSoup(page, 'html.parser')"
   ]
  },
  {
   "cell_type": "code",
   "execution_count": 8,
   "id": "22e78c51",
   "metadata": {},
   "outputs": [
    {
     "name": "stdout",
     "output_type": "stream",
     "text": [
      "0 ['Rank', 'Name', 'Team', 'Sort▼', 'G', 'GS', 'IP', 'BAFZ', 'RF9', 'ofAss', 'F12', 'F12', 'F12', 'F23', 'F23', 'F23', 'F34', 'F34', 'F34', 'H13', 'H13', 'H13', 'H24', 'H24', 'H24', 'D14', 'D14', 'D14', '수비 관련 득점 기여도', '수비 관련 득점 기여도', '수비 관련 득점 기여도', '수비 관련 득점 기여도', '수비 관련 득점 기여도']\n",
      "1 ['Rank', 'Name', 'Team', '수비 관련 득점 기여도-종합 RAA', 'G', 'GS', 'IP', 'BAFZ', 'RF9', 'ofAss', 'A', 'N', '%', 'A', 'N', '%', 'A', 'N', '%', 'A', 'N', '%', 'A', 'N', '%', 'A', 'N', '%', 'Range RAA', 'Arm RAA', 'Err RAA', '종합 RAA▼', '/144']\n",
      "2 ['1', '김현준', '24  RF', '7.08', '17', '11', '95.0', '55.6', '3.69', '0', '0', '7', '0.0', '0', '2', '0.0', '0', '1', '0.0', '2', '6', '0.0', '0', '2', '0.0', '0', '0', '0.0', '6.77', '-0.03', '0.34', '7.08', '37.77']\n",
      "3 ['2', '이성규', '24  RF', '5.75', '19', '11', '106.1', '36.0', '3.05', '2', '0', '7', '0.0', '0', '2', '0.0', '0', '0', '', '1', '10', '', '0', '2', '', '1', '3', '', '5.22', '0.65', '-0.12', '5.75', '21.79']\n",
      "4 ['3', '김지찬', '24  CF', '3.01', '31', '28', '222.0', '50.0', '2.72', '0', '0', '12', '0.0', '0', '6', '0.0', '0', '1', '0.0', '4', '13', '0.0', '0', '5', '0.0', '1', '1', '0.0', '3.04', '-0.37', '0.33', '3.01', '10.57']\n",
      "5 ['4', '김성윤', '24  RF', '2.06', '9', '7', '59.1', '46.7', '2.28', '1', '0', '4', '0.0', '0', '1', '0.0', '0', '2', '0.0', '0', '5', '0.0', '0', '2', '0.0', '1', '1', '0.0', '2.53', '-0.67', '0.21', '2.06', '11.01']\n",
      "6 ['5', '구자욱', '24  LF', '1.90', '30', '30', '249.0', '44.2', '2.31', '1', '0', '11', '0.0', '1', '6', '16.7', '0', '2', '0.0', '3', '15', '0.0', '0', '5', '0.0', '3', '4', '0.0', '2.26', '-0.60', '0.24', '1.90', '7.00']\n",
      "7 ['6', '김헌곤', '24  RF', '1.26', '14', '11', '90.0', '38.5', '2.60', '0', '0', '4', '0.0', '0', '0', '', '0', '1', '0.0', '2', '3', '0.0', '0', '3', '0.0', '1', '2', '0.0', '1.23', '-0.29', '0.32', '1.26', '4.90']\n",
      "8 ['7', '류승민', '24  RF', '0.92', '4', '0', '7.0', '100.0', '3.86', '0', '0', '1', '0.0', '0', '0', '', '0', '0', '', '0', '0', '', '0', '0', '', '0', '0', '', '0.88', '0.01', '0.02', '0.92', '26.58']\n",
      "9 ['8', '이성규', '24  LF', '0.84', '4', '2', '15.0', '75.0', '4.20', '2', '0', '2', '0.0', '0', '0', '', '0', '1', '0.0', '0', '1', '0.0', '0', '0', '0.0', '0', '0', '0.0', '0.98', '-0.15', '0.01', '0.84', '3.19']\n",
      "10 ['9', '김성윤', '24  CF', '0.83', '20', '5', '78.2', '37.5', '2.86', '1', '0', '2', '0.0', '0', '2', '0.0', '0', '2', '0.0', '2', '7', '0.0', '0', '2', '0.0', '0', '1', '0.0', '1.10', '-0.38', '0.12', '0.83', '4.44']\n",
      "11 ['10', '김재혁', '24  LF', '0.76', '1', '1', '8.0', '100.0', '3.38', '0', '0', '1', '0.0', '0', '0', '', '0', '0', '', '0', '0', '', '0', '0', '', '0', '0', '', '0.74', '0.01', '0.01', '0.76', '9.07']\n",
      "12 ['Rank', 'Name', 'Team', 'Sort▼', 'G', 'GS', 'IP', 'BAFZ', 'RF9', 'ofAss', 'F12', 'F12', 'F12', 'F23', 'F23', 'F23', 'F34', 'F34', 'F34', 'H13', 'H13', 'H13', 'H24', 'H24', 'H24', 'D14', 'D14', 'D14', '수비 관련 득점 기여도', '수비 관련 득점 기여도', '수비 관련 득점 기여도', '수비 관련 득점 기여도', '수비 관련 득점 기여도']\n",
      "13 ['Rank', 'Name', 'Team', '수비 관련 득점 기여도-종합 RAA', 'G', 'GS', 'IP', 'BAFZ', 'RF9', 'ofAss', 'A', 'N', '%', 'A', 'N', '%', 'A', 'N', '%', 'A', 'N', '%', 'A', 'N', '%', 'A', 'N', '%', 'Range RAA', 'Arm RAA', 'Err RAA', '종합 RAA▼', '/144']\n",
      "14 ['11', '김재혁', '24  RF', '0.75', '6', '1', '15.0', '50.0', '1.20', '0', '0', '0', '', '0', '0', '', '0', '1', '0.0', '0', '0', '0.0', '0', '0', '0.0', '0', '1', '0.0', '0.56', '0.13', '0.05', '0.75', '8.96']\n",
      "15 ['12', '김헌곤', '24  CF', '-0.01', '1', '0', '2.0', '', '0.00', '0', '0', '0', '', '0', '0', '', '0', '0', '', '0', '0', '', '0', '0', '', '0', '0', '', '-0.01', '', '0.00', '-0.01', '-0.04']\n",
      "16 ['13', '김현준', '24  CF', '-0.33', '9', '3', '29.0', '40.0', '2.79', '0', '0', '1', '0.0', '0', '1', '0.0', '0', '0', '', '0', '3', '', '0', '0', '', '0', '0', '', '-0.35', '-0.01', '0.04', '-0.33', '-1.73']\n",
      "17 ['14', '김재혁', '24  CF', '-0.82', '3', '0', '10.0', '0.0', '0.90', '0', '0', '0', '', '0', '0', '', '0', '0', '', '0', '1', '', '0', '0', '', '0', '0', '', '-1.03', '0.19', '0.02', '-0.82', '-9.88']\n",
      "18 ['15', '김현준', '24  LF', '-1.09', '2', '2', '12.1', '0.0', '0.73', '0', '0', '0', '', '0', '0', '', '0', '0', '', '0', '1', '', '0', '0', '', '0', '0', '', '-0.82', '-0.29', '0.01', '-1.09', '-5.83']\n",
      "19 ['16', '이성규', '24  CF', '-1.36', '5', '5', '31.0', '0.0', '0.87', '2', '0', '0', '', '0', '0', '', '0', '0', '', '0', '2', '', '0', '0', '', '0', '0', '', '-1.31', '-0.09', '0.05', '-1.36', '-5.15']\n",
      "20 ['17', '김헌곤', '24  LF', '-1.55', '25', '5', '80.1', '31.6', '2.46', '0', '0', '6', '0.0', '0', '0', '', '0', '0', '', '1', '6', '', '0', '2', '', '0', '5', '', '-1.79', '0.16', '0.08', '-1.55', '-6.03']\n",
      "21 ['18', '김성윤', '24  LF', '-2.46', '1', '1', '8.0', '50.0', '3.38', '1', '0', '0', '', '0', '1', '0.0', '0', '1', '0.0', '0', '1', '0.0', '0', '0', '0.0', '0', '1', '0.0', '-2.04', '-0.43', '0.01', '-2.46', '-13.13']\n"
     ]
    }
   ],
   "source": [
    "temp = soup.find_all('table')\n",
    "p = parser.make2d(temp[0])    \n",
    "for i in range(len(p)):\n",
    "    print(i, p[i])"
   ]
  },
  {
   "cell_type": "code",
   "execution_count": 9,
   "id": "b5523464",
   "metadata": {},
   "outputs": [],
   "source": [
    "num = (len(p) // 10)-1\n",
    "start_num = num\n",
    "for i in range(num*2+1, 1, -1):\n",
    "    n = start_num * 10 + (i)\n",
    "    p.pop(n)\n",
    "    if i % 2 == 0:\n",
    "        start_num -= 1"
   ]
  },
  {
   "cell_type": "code",
   "execution_count": 10,
   "id": "7147ff2d",
   "metadata": {},
   "outputs": [
    {
     "name": "stdout",
     "output_type": "stream",
     "text": [
      "   Rank Name Position   G  GS     IP   BAFZ   RF9 ofAss F12 A  ... H24 %  \\\n",
      "2     1  김현준       RF  17  11   95.0   55.6  3.69     0     0  ...   0.0   \n",
      "3     2  이성규       RF  19  11  106.1   36.0  3.05     2     0  ...         \n",
      "4     3  김지찬       CF  31  28  222.0   50.0  2.72     0     0  ...   0.0   \n",
      "5     4  김성윤       RF   9   7   59.1   46.7  2.28     1     0  ...   0.0   \n",
      "6     5  구자욱       LF  30  30  249.0   44.2  2.31     1     0  ...   0.0   \n",
      "7     6  김헌곤       RF  14  11   90.0   38.5  2.60     0     0  ...   0.0   \n",
      "8     7  류승민       RF   4   0    7.0  100.0  3.86     0     0  ...         \n",
      "9     8  이성규       LF   4   2   15.0   75.0  4.20     2     0  ...   0.0   \n",
      "10    9  김성윤       CF  20   5   78.2   37.5  2.86     1     0  ...   0.0   \n",
      "11   10  김재혁       LF   1   1    8.0  100.0  3.38     0     0  ...         \n",
      "12   11  김재혁       RF   6   1   15.0   50.0  1.20     0     0  ...   0.0   \n",
      "13   12  김헌곤       CF   1   0    2.0         0.00     0     0  ...         \n",
      "14   13  김현준       CF   9   3   29.0   40.0  2.79     0     0  ...         \n",
      "15   14  김재혁       CF   3   0   10.0    0.0  0.90     0     0  ...         \n",
      "16   15  김현준       LF   2   2   12.1    0.0  0.73     0     0  ...         \n",
      "17   16  이성규       CF   5   5   31.0    0.0  0.87     2     0  ...         \n",
      "18   17  김헌곤       LF  25   5   80.1   31.6  2.46     0     0  ...         \n",
      "19   18  김성윤       LF   1   1    8.0   50.0  3.38     1     0  ...   0.0   \n",
      "\n",
      "   D14 A D14 N D14 % Range RAA Arm RAA Err RAA Total RAA    /144     Team  \n",
      "2      0     0   0.0      6.77   -0.03    0.34      7.08   37.77  Samsung  \n",
      "3      1     3            5.22    0.65   -0.12      5.75   21.79  Samsung  \n",
      "4      1     1   0.0      3.04   -0.37    0.33      3.01   10.57  Samsung  \n",
      "5      1     1   0.0      2.53   -0.67    0.21      2.06   11.01  Samsung  \n",
      "6      3     4   0.0      2.26   -0.60    0.24      1.90    7.00  Samsung  \n",
      "7      1     2   0.0      1.23   -0.29    0.32      1.26    4.90  Samsung  \n",
      "8      0     0            0.88    0.01    0.02      0.92   26.58  Samsung  \n",
      "9      0     0   0.0      0.98   -0.15    0.01      0.84    3.19  Samsung  \n",
      "10     0     1   0.0      1.10   -0.38    0.12      0.83    4.44  Samsung  \n",
      "11     0     0            0.74    0.01    0.01      0.76    9.07  Samsung  \n",
      "12     0     1   0.0      0.56    0.13    0.05      0.75    8.96  Samsung  \n",
      "13     0     0           -0.01            0.00     -0.01   -0.04  Samsung  \n",
      "14     0     0           -0.35   -0.01    0.04     -0.33   -1.73  Samsung  \n",
      "15     0     0           -1.03    0.19    0.02     -0.82   -9.88  Samsung  \n",
      "16     0     0           -0.82   -0.29    0.01     -1.09   -5.83  Samsung  \n",
      "17     0     0           -1.31   -0.09    0.05     -1.36   -5.15  Samsung  \n",
      "18     0     5           -1.79    0.16    0.08     -1.55   -6.03  Samsung  \n",
      "19     0     1   0.0     -2.04   -0.43    0.01     -2.46  -13.13  Samsung  \n",
      "\n",
      "[18 rows x 33 columns]\n"
     ]
    }
   ],
   "source": [
    "data=pd.DataFrame(p)\n",
    "data=data[2:]\n",
    "data.columns = [\"Rank\", \"Name\", \"Position\",\"Total RAA2\",\"G\", \"GS\",\"IP\", \"BAFZ\",\"RF9\",\"ofAss\",\"F12 A\",\"F12 N\",\"F12 %\",\"F23 A\",\"F23 N\",\"F23 %\",\"F34 A\",\"F34 N\",\"F34 %\",\"H13 A\", \"H13 N\", \"H13 %\", \"H24 A\", \"H24 N\", \"H24 %\", \"D14 A\", \"D14 N\", \"D14 %\", \"Range RAA\", \"Arm RAA\", \"Err RAA\",\"Total RAA\", \"/144\"]\n",
    "data.drop(columns=['Total RAA2'], inplace=True)\n",
    "data['Position'].replace({\"24  \":\"\"}, regex=True, inplace=True)\n",
    "data['Team']=\"Samsung\"\n",
    "\n",
    "print(data)"
   ]
  },
  {
   "cell_type": "code",
   "execution_count": 11,
   "id": "9109adba",
   "metadata": {},
   "outputs": [],
   "source": [
    "data.to_csv(\"Samsung_field_OF.csv\", index=False)"
   ]
  },
  {
   "cell_type": "code",
   "execution_count": null,
   "id": "3476ffda",
   "metadata": {},
   "outputs": [],
   "source": []
  }
 ],
 "metadata": {
  "kernelspec": {
   "display_name": "Python 3 (ipykernel)",
   "language": "python",
   "name": "python3"
  },
  "language_info": {
   "codemirror_mode": {
    "name": "ipython",
    "version": 3
   },
   "file_extension": ".py",
   "mimetype": "text/x-python",
   "name": "python",
   "nbconvert_exporter": "python",
   "pygments_lexer": "ipython3",
   "version": "3.11.5"
  }
 },
 "nbformat": 4,
 "nbformat_minor": 5
}
