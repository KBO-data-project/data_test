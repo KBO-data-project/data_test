{
 "cells": [
  {
   "cell_type": "code",
   "execution_count": 31,
   "id": "0551d6d4",
   "metadata": {},
   "outputs": [
    {
     "name": "stdout",
     "output_type": "stream",
     "text": [
      "Requirement already satisfied: selenium in c:\\users\\melid\\anaconda3\\lib\\site-packages (4.19.0)\n",
      "Requirement already satisfied: urllib3[socks]<3,>=1.26 in c:\\users\\melid\\anaconda3\\lib\\site-packages (from selenium) (1.26.16)\n",
      "Requirement already satisfied: trio~=0.17 in c:\\users\\melid\\anaconda3\\lib\\site-packages (from selenium) (0.25.0)\n",
      "Requirement already satisfied: trio-websocket~=0.9 in c:\\users\\melid\\anaconda3\\lib\\site-packages (from selenium) (0.11.1)\n",
      "Requirement already satisfied: certifi>=2021.10.8 in c:\\users\\melid\\anaconda3\\lib\\site-packages (from selenium) (2024.2.2)\n",
      "Requirement already satisfied: typing_extensions>=4.9.0 in c:\\users\\melid\\anaconda3\\lib\\site-packages (from selenium) (4.10.0)\n",
      "Requirement already satisfied: attrs>=23.2.0 in c:\\users\\melid\\anaconda3\\lib\\site-packages (from trio~=0.17->selenium) (23.2.0)\n",
      "Requirement already satisfied: sortedcontainers in c:\\users\\melid\\anaconda3\\lib\\site-packages (from trio~=0.17->selenium) (2.4.0)\n",
      "Requirement already satisfied: idna in c:\\users\\melid\\anaconda3\\lib\\site-packages (from trio~=0.17->selenium) (3.4)\n",
      "Requirement already satisfied: outcome in c:\\users\\melid\\anaconda3\\lib\\site-packages (from trio~=0.17->selenium) (1.3.0.post0)\n",
      "Requirement already satisfied: sniffio>=1.3.0 in c:\\users\\melid\\anaconda3\\lib\\site-packages (from trio~=0.17->selenium) (1.3.1)\n",
      "Requirement already satisfied: cffi>=1.14 in c:\\users\\melid\\anaconda3\\lib\\site-packages (from trio~=0.17->selenium) (1.15.1)\n",
      "Requirement already satisfied: wsproto>=0.14 in c:\\users\\melid\\anaconda3\\lib\\site-packages (from trio-websocket~=0.9->selenium) (1.2.0)\n",
      "Requirement already satisfied: PySocks!=1.5.7,<2.0,>=1.5.6 in c:\\users\\melid\\anaconda3\\lib\\site-packages (from urllib3[socks]<3,>=1.26->selenium) (1.7.1)\n",
      "Requirement already satisfied: pycparser in c:\\users\\melid\\anaconda3\\lib\\site-packages (from cffi>=1.14->trio~=0.17->selenium) (2.21)\n",
      "Requirement already satisfied: h11<1,>=0.9.0 in c:\\users\\melid\\anaconda3\\lib\\site-packages (from wsproto>=0.14->trio-websocket~=0.9->selenium) (0.14.0)\n",
      "Collecting html_table_parser\n",
      "  Downloading html_table_parser-0.1.0.tar.gz (3.4 kB)\n",
      "  Preparing metadata (setup.py): started\n",
      "  Preparing metadata (setup.py): finished with status 'done'\n",
      "Collecting beautifulsoup4==4.4.1 (from html_table_parser)\n",
      "  Obtaining dependency information for beautifulsoup4==4.4.1 from https://files.pythonhosted.org/packages/cf/69/9abfdab06490af5e0233bcebe3f617ec128486d94ea987ad4f77b9332eef/beautifulsoup4-4.4.1-py3-none-any.whl.metadata\n",
      "  Downloading beautifulsoup4-4.4.1-py3-none-any.whl.metadata (1.1 kB)\n",
      "Downloading beautifulsoup4-4.4.1-py3-none-any.whl (81 kB)\n",
      "   ---------------------------------------- 0.0/81.4 kB ? eta -:--:--\n",
      "   --------------- ------------------------ 30.7/81.4 kB 1.4 MB/s eta 0:00:01\n",
      "   ---------------------------------------- 81.4/81.4 kB 1.5 MB/s eta 0:00:00\n",
      "Building wheels for collected packages: html_table_parser\n",
      "  Building wheel for html_table_parser (setup.py): started\n",
      "  Building wheel for html_table_parser (setup.py): finished with status 'done'\n",
      "  Created wheel for html_table_parser: filename=html_table_parser-0.1.0-py3-none-any.whl size=4638 sha256=2f599eac9f28c620288fd47ba00512a4bafaa8e8464d32c88e500e5168094cc8\n",
      "  Stored in directory: c:\\users\\melid\\appdata\\local\\pip\\cache\\wheels\\3f\\61\\3e\\205c3503f7c244357c1ba105368ba70095a71a075624689850\n",
      "Successfully built html_table_parser\n",
      "Installing collected packages: beautifulsoup4, html_table_parser\n",
      "  Attempting uninstall: beautifulsoup4\n",
      "    Found existing installation: beautifulsoup4 4.12.2\n",
      "    Uninstalling beautifulsoup4-4.12.2:\n",
      "      Successfully uninstalled beautifulsoup4-4.12.2\n",
      "Successfully installed beautifulsoup4-4.4.1 html_table_parser-0.1.0\n"
     ]
    },
    {
     "name": "stderr",
     "output_type": "stream",
     "text": [
      "ERROR: pip's dependency resolver does not currently take into account all the packages that are installed. This behaviour is the source of the following dependency conflicts.\n",
      "spyder 5.4.3 requires jedi<0.19.0,>=0.17.2, but you have jedi 0.19.1 which is incompatible.\n"
     ]
    }
   ],
   "source": [
    "! pip install selenium\n",
    "! pip install html_table_parser"
   ]
  },
  {
   "cell_type": "code",
   "execution_count": 2,
   "id": "39de7e59",
   "metadata": {},
   "outputs": [],
   "source": [
    "from selenium import webdriver\n",
    "from selenium.webdriver.common.keys import Keys\n",
    "from selenium.webdriver.common.by import By\n",
    "import time"
   ]
  },
  {
   "cell_type": "code",
   "execution_count": 3,
   "id": "bd840529",
   "metadata": {},
   "outputs": [],
   "source": [
    "driver = webdriver.Chrome()"
   ]
  },
  {
   "cell_type": "code",
   "execution_count": 4,
   "id": "887343fe",
   "metadata": {},
   "outputs": [],
   "source": [
    "url = \"https://statiz.sporki.com/stats/?m=main&m2=all\"\n",
    "driver.get(url)"
   ]
  },
  {
   "cell_type": "code",
   "execution_count": 5,
   "id": "eec9bc4c",
   "metadata": {},
   "outputs": [],
   "source": [
    "driver.find_element(By.XPATH, '/html/body/div[2]/div[5]/section/div[1]/div/button[2]').click()\n",
    "\n",
    "# 팀 옵션 드롭다운 선택\n",
    "driver.find_element(By.XPATH, '//*[@id=\"select_team\"]/button').click()\n",
    "# 삼성 라이온즈 선택\n",
    "driver.find_element(By.XPATH, '//*[@id=\"select_team\"]/ul/li[6]').click()\n",
    "\n",
    "# 규정 드롭다운 선택\n",
    "driver.find_element(By.XPATH, '//*[@id=\"select_reg\"]/button').click()\n",
    "# 규정 > 전체 선택\n",
    "driver.find_element(By.XPATH, '//*[@id=\"select_reg\"]/ul/li[5]').click()"
   ]
  },
  {
   "cell_type": "code",
   "execution_count": 8,
   "id": "d40fd5a1",
   "metadata": {},
   "outputs": [],
   "source": [
    "from urllib.request import urlopen\n",
    "\n",
    "import collections\n",
    "collections.Callable = collections.abc.Callable\n",
    "\n",
    "from bs4 import BeautifulSoup\n",
    "from html_table_parser import parser_functions as parser\n",
    "import pandas as pd"
   ]
  },
  {
   "cell_type": "code",
   "execution_count": 9,
   "id": "879f5b0b",
   "metadata": {},
   "outputs": [],
   "source": [
    "page = driver.page_source\n",
    "soup = BeautifulSoup(page, 'html.parser')"
   ]
  },
  {
   "cell_type": "code",
   "execution_count": 10,
   "id": "22e78c51",
   "metadata": {},
   "outputs": [
    {
     "name": "stdout",
     "output_type": "stream",
     "text": [
      "0 ['Rank', 'Name', 'Team', 'Sort▼', 'G', 'PA', 'ePA', 'AB', 'R', 'H', '2B', '3B', 'HR', 'TB', 'RBI', 'SB', 'CS', 'BB', 'HP', 'IB', 'SO', 'GDP', 'SH', 'SF', '비율', '비율', '비율', '비율', '비율', '비율', 'WAR▼']\n",
      "1 ['Rank', 'Name', 'Team', 'WAR', 'G', 'PA', 'ePA', 'AB', 'R', 'H', '2B', '3B', 'HR', 'TB', 'RBI', 'SB', 'CS', 'BB', 'HP', 'IB', 'SO', 'GDP', 'SH', 'SF', 'AVG', 'OBP', 'SLG', 'OPS', 'R/ePA', 'wRC+', 'WAR▼']\n",
      "2 ['1', '김영웅', '24  SS', '1.89', '40', '173', '172', '153', '24', '46', '8', '1', '9', '83', '26', '3', '0', '18', '1', '0', '50', '2', '1', '0', '0.301', '0.378', '0.542', '0.920', '0.038', '125.8', '1.89']\n",
      "3 ['2', '구자욱', '24  LF', '1.71', '39', '179', '178', '158', '26', '49', '10', '0', '8', '83', '33', '3', '2', '13', '6', '1', '26', '1', '0', '2', '0.310', '0.380', '0.525', '0.905', '0.046', '132.0', '1.71']\n",
      "4 ['3', '맥키넌', '24  1B', '1.56', '36', '162', '160', '138', '17', '50', '7', '0', '3', '66', '19', '1', '0', '24', '0', '3', '15', '3', '0', '0', '0.362', '0.457', '0.478', '0.935', '0.062', '143.6', '1.56']\n",
      "5 ['4', '김지찬', '24  CF', '1.30', '41', '169', '165', '143', '24', '40', '7', '0', '1', '50', '13', '12', '0', '18', '4', '0', '11', '1', '4', '0', '0.280', '0.376', '0.350', '0.726', '0.002', '98.5', '1.30']\n",
      "6 ['5', '이성규', '24  CF', '1.12', '38', '89', '86', '68', '12', '16', '3', '0', '5', '34', '16', '2', '0', '10', '6', '0', '27', '1', '3', '2', '0.235', '0.372', '0.500', '0.872', '0.025', '115.5', '1.12']\n",
      "7 ['6', '이재현', '24  SS', '1.10', '24', '108', '108', '94', '15', '26', '7', '0', '3', '42', '13', '0', '0', '13', '0', '0', '23', '1', '0', '1', '0.277', '0.361', '0.447', '0.808', '0.008', '103.0', '1.10']\n",
      "8 ['7', '김헌곤', '24  RF', '0.44', '37', '78', '77', '70', '11', '23', '3', '0', '2', '32', '9', '1', '1', '6', '1', '0', '15', '1', '1', '0', '0.329', '0.390', '0.457', '0.847', '0.032', '121.3', '0.44']\n",
      "9 ['8', '강민호', '24  C', '0.27', '41', '134', '133', '119', '14', '31', '2', '0', '2', '39', '13', '0', '0', '12', '2', '1', '13', '8', '0', '1', '0.261', '0.336', '0.328', '0.664', '-0.027', '76.4', '0.27']\n",
      "10 ['9', '김재혁', '24  LF', '0.27', '12', '34', '34', '30', '5', '7', '2', '1', '0', '11', '6', '2', '1', '2', '0', '0', '11', '0', '0', '2', '0.233', '0.265', '0.367', '0.632', '-0.025', '77.6', '0.27']\n",
      "11 ['10', '류지혁', '24  2B', '0.23', '23', '81', '81', '71', '9', '20', '1', '0', '1', '24', '12', '3', '2', '8', '1', '0', '14', '0', '0', '1', '0.282', '0.358', '0.338', '0.696', '-0.011', '88.6', '0.23']\n",
      "12 ['Rank', 'Name', 'Team', 'Sort▼', 'G', 'PA', 'ePA', 'AB', 'R', 'H', '2B', '3B', 'HR', 'TB', 'RBI', 'SB', 'CS', 'BB', 'HP', 'IB', 'SO', 'GDP', 'SH', 'SF', '비율', '비율', '비율', '비율', '비율', '비율', 'WAR▼']\n",
      "13 ['Rank', 'Name', 'Team', 'WAR', 'G', 'PA', 'ePA', 'AB', 'R', 'H', '2B', '3B', 'HR', 'TB', 'RBI', 'SB', 'CS', 'BB', 'HP', 'IB', 'SO', 'GDP', 'SH', 'SF', 'AVG', 'OBP', 'SLG', 'OPS', 'R/ePA', 'wRC+', 'WAR▼']\n",
      "14 ['11', '전병우', '24  3B', '0.20', '4', '12', '12', '10', '1', '4', '2', '0', '0', '6', '1', '0', '0', '1', '1', '0', '4', '0', '0', '0', '0.400', '0.500', '0.600', '1.100', '0.136', '200.1', '0.20']\n",
      "15 ['12', '류승민', '24  LF', '0.13', '5', '3', '3', '1', '1', '0', '0', '0', '0', '0', '0', '0', '0', '2', '0', '0', '1', '0', '0', '0', '0.000', '0.667', '0.000', '0.667', '0.138', '201.8', '0.13']\n",
      "16 ['13', '김재상', '24  2B', '0.08', '24', '68', '67', '64', '10', '15', '3', '0', '1', '21', '9', '2', '0', '2', '0', '0', '16', '0', '1', '1', '0.234', '0.254', '0.328', '0.582', '-0.091', '28.4', '0.08']\n",
      "17 ['14', '안주형', '24  2B', '0.07', '9', '34', '33', '30', '4', '8', '2', '0', '0', '10', '1', '2', '1', '3', '0', '0', '5', '0', '1', '0', '0.267', '0.333', '0.333', '0.666', '0.014', '107.4', '0.07']\n",
      "18 ['15', '김태훈', '24  P', '0.00', '1', '0', '0', '0', '0', '0', '0', '0', '0', '0', '0', '0', '0', '0', '0', '0', '0', '0', '0', '0', '', '', '', '', '', '', '0.00']\n",
      "19 ['15', '김대우', '24  P', '0.00', '1', '0', '0', '0', '0', '0', '0', '0', '0', '0', '0', '0', '0', '0', '0', '0', '0', '0', '0', '0', '', '', '', '', '', '', '0.00']\n",
      "20 ['15', '육선엽', '24  P', '0.00', '1', '0', '0', '0', '0', '0', '0', '0', '0', '0', '0', '0', '0', '0', '0', '0', '0', '0', '0', '0', '', '', '', '', '', '', '0.00']\n",
      "21 ['18', '이병헌', '24  C', '0.00', '21', '41', '41', '35', '2', '10', '1', '0', '0', '11', '3', '0', '0', '5', '1', '0', '10', '0', '0', '0', '0.286', '0.390', '0.314', '0.704', '-0.012', '88.0', '0.00']\n",
      "22 ['19', '김동엽', '24  LF', '0.00', '6', '14', '13', '11', '1', '2', '1', '0', '0', '3', '2', '0', '0', '1', '1', '1', '5', '0', '0', '1', '0.182', '0.286', '0.273', '0.559', '-0.040', '69.1', '0.00']\n",
      "23 ['20', '김호진', '24  2B', '-0.06', '13', '25', '25', '22', '0', '2', '0', '0', '0', '2', '3', '0', '0', '1', '1', '0', '8', '1', '0', '1', '0.091', '0.160', '0.091', '0.251', '-0.158', '-23.9', '-0.06']\n",
      "24 ['Rank', 'Name', 'Team', 'Sort▼', 'G', 'PA', 'ePA', 'AB', 'R', 'H', '2B', '3B', 'HR', 'TB', 'RBI', 'SB', 'CS', 'BB', 'HP', 'IB', 'SO', 'GDP', 'SH', 'SF', '비율', '비율', '비율', '비율', '비율', '비율', 'WAR▼']\n",
      "25 ['Rank', 'Name', 'Team', 'WAR', 'G', 'PA', 'ePA', 'AB', 'R', 'H', '2B', '3B', 'HR', 'TB', 'RBI', 'SB', 'CS', 'BB', 'HP', 'IB', 'SO', 'GDP', 'SH', 'SF', 'AVG', 'OBP', 'SLG', 'OPS', 'R/ePA', 'wRC+', 'WAR▼']\n",
      "26 ['21', '공민규', '24  1B', '-0.06', '8', '14', '14', '11', '1', '1', '0', '0', '1', '4', '2', '0', '0', '1', '2', '0', '7', '1', '0', '0', '0.091', '0.286', '0.364', '0.650', '-0.034', '70.9', '-0.06']\n",
      "27 ['22', '김재성', '24  C', '-0.08', '10', '23', '23', '20', '3', '4', '1', '0', '0', '5', '1', '0', '0', '3', '0', '0', '5', '1', '0', '0', '0.200', '0.304', '0.250', '0.554', '-0.037', '68.4', '-0.08']\n",
      "28 ['23', '김성윤', '24  RF', '-0.11', '27', '75', '72', '61', '13', '13', '2', '0', '0', '15', '6', '3', '1', '8', '1', '0', '15', '1', '3', '2', '0.213', '0.306', '0.246', '0.552', '-0.069', '46.8', '-0.11']\n",
      "29 ['24', '김현준', '24  CF', '-0.13', '27', '77', '76', '67', '9', '11', '6', '1', '0', '19', '6', '0', '0', '6', '1', '0', '21', '4', '1', '2', '0.164', '0.237', '0.284', '0.521', '-0.097', '23.8', '-0.13']\n",
      "30 ['25', '오재일', '24  1B', '-0.26', '12', '47', '47', '41', '3', '8', '4', '1', '1', '17', '5', '0', '0', '6', '0', '0', '8', '2', '0', '0', '0.195', '0.298', '0.415', '0.713', '-0.037', '68.5', '-0.26']\n",
      "31 ['26', '김동진', '24  2B', '-0.28', '6', '7', '7', '6', '0', '0', '0', '0', '0', '0', '0', '0', '0', '1', '0', '0', '3', '0', '0', '0', '0.000', '0.143', '0.000', '0.143', '-0.223', '-73.2', '-0.28']\n",
      "32 ['27', '강한울', '24  3B', '-0.35', '18', '25', '22', '21', '1', '2', '0', '0', '0', '2', '1', '0', '0', '0', '0', '0', '6', '1', '3', '1', '0.095', '0.091', '0.095', '0.186', '-0.248', '-69.2', '-0.35']\n",
      "33\n"
     ]
    }
   ],
   "source": [
    "temp = soup.find_all('table')\n",
    "p = parser.make2d(temp[0])    \n",
    "for i in range(len(p)):\n",
    "    print(i, p[i])\n",
    "print(len(p))"
   ]
  },
  {
   "cell_type": "code",
   "execution_count": 11,
   "id": "b5523464",
   "metadata": {},
   "outputs": [],
   "source": [
    "num = (len(p) // 10)-1\n",
    "start_num = 2\n",
    "for i in range(num*2+1, 1, -1):\n",
    "    n = start_num * 10 + (i)\n",
    "    p.pop(n)\n",
    "    if i % 2 == 0:\n",
    "        start_num -= 1"
   ]
  },
  {
   "cell_type": "code",
   "execution_count": 17,
   "id": "7147ff2d",
   "metadata": {},
   "outputs": [
    {
     "name": "stdout",
     "output_type": "stream",
     "text": [
      "   Rank Name Position    WAR   G   PA  ePA   AB   R   H  ... GDP SH SF    AVG  \\\n",
      "2     1  김영웅       SS   1.89  40  173  172  153  24  46  ...   2  1  0  0.301   \n",
      "3     2  구자욱       LF   1.71  39  179  178  158  26  49  ...   1  0  2  0.310   \n",
      "4     3  맥키넌       1B   1.56  36  162  160  138  17  50  ...   3  0  0  0.362   \n",
      "5     4  김지찬       CF   1.30  41  169  165  143  24  40  ...   1  4  0  0.280   \n",
      "6     5  이성규       CF   1.12  38   89   86   68  12  16  ...   1  3  2  0.235   \n",
      "7     6  이재현       SS   1.10  24  108  108   94  15  26  ...   1  0  1  0.277   \n",
      "8     7  김헌곤       RF   0.44  37   78   77   70  11  23  ...   1  1  0  0.329   \n",
      "9     8  강민호        C   0.27  41  134  133  119  14  31  ...   8  0  1  0.261   \n",
      "10    9  김재혁       LF   0.27  12   34   34   30   5   7  ...   0  0  2  0.233   \n",
      "11   10  류지혁       2B   0.23  23   81   81   71   9  20  ...   0  0  1  0.282   \n",
      "12   11  전병우       3B   0.20   4   12   12   10   1   4  ...   0  0  0  0.400   \n",
      "13   12  류승민       LF   0.13   5    3    3    1   1   0  ...   0  0  0  0.000   \n",
      "14   13  김재상       2B   0.08  24   68   67   64  10  15  ...   0  1  1  0.234   \n",
      "15   14  안주형       2B   0.07   9   34   33   30   4   8  ...   0  1  0  0.267   \n",
      "16   15  김태훈        P   0.00   1    0    0    0   0   0  ...   0  0  0          \n",
      "17   15  김대우        P   0.00   1    0    0    0   0   0  ...   0  0  0          \n",
      "18   15  육선엽        P   0.00   1    0    0    0   0   0  ...   0  0  0          \n",
      "19   18  이병헌        C   0.00  21   41   41   35   2  10  ...   0  0  0  0.286   \n",
      "20   19  김동엽       LF   0.00   6   14   13   11   1   2  ...   0  0  1  0.182   \n",
      "21   20  김호진       2B  -0.06  13   25   25   22   0   2  ...   1  0  1  0.091   \n",
      "22   21  공민규       1B  -0.06   8   14   14   11   1   1  ...   1  0  0  0.091   \n",
      "23   22  김재성        C  -0.08  10   23   23   20   3   4  ...   1  0  0  0.200   \n",
      "24   23  김성윤       RF  -0.11  27   75   72   61  13  13  ...   1  3  2  0.213   \n",
      "25   24  김현준       CF  -0.13  27   77   76   67   9  11  ...   4  1  2  0.164   \n",
      "26   25  오재일       1B  -0.26  12   47   47   41   3   8  ...   2  0  0  0.195   \n",
      "27   26  김동진       2B  -0.28   6    7    7    6   0   0  ...   0  0  0  0.000   \n",
      "28   27  강한울       3B  -0.35  18   25   22   21   1   2  ...   1  3  1  0.095   \n",
      "\n",
      "      OBP    SLG    OPS   R/ePA   wRC+     Team  \n",
      "2   0.378  0.542  0.920   0.038  125.8  Samsung  \n",
      "3   0.380  0.525  0.905   0.046  132.0  Samsung  \n",
      "4   0.457  0.478  0.935   0.062  143.6  Samsung  \n",
      "5   0.376  0.350  0.726   0.002   98.5  Samsung  \n",
      "6   0.372  0.500  0.872   0.025  115.5  Samsung  \n",
      "7   0.361  0.447  0.808   0.008  103.0  Samsung  \n",
      "8   0.390  0.457  0.847   0.032  121.3  Samsung  \n",
      "9   0.336  0.328  0.664  -0.027   76.4  Samsung  \n",
      "10  0.265  0.367  0.632  -0.025   77.6  Samsung  \n",
      "11  0.358  0.338  0.696  -0.011   88.6  Samsung  \n",
      "12  0.500  0.600  1.100   0.136  200.1  Samsung  \n",
      "13  0.667  0.000  0.667   0.138  201.8  Samsung  \n",
      "14  0.254  0.328  0.582  -0.091   28.4  Samsung  \n",
      "15  0.333  0.333  0.666   0.014  107.4  Samsung  \n",
      "16                                      Samsung  \n",
      "17                                      Samsung  \n",
      "18                                      Samsung  \n",
      "19  0.390  0.314  0.704  -0.012   88.0  Samsung  \n",
      "20  0.286  0.273  0.559  -0.040   69.1  Samsung  \n",
      "21  0.160  0.091  0.251  -0.158  -23.9  Samsung  \n",
      "22  0.286  0.364  0.650  -0.034   70.9  Samsung  \n",
      "23  0.304  0.250  0.554  -0.037   68.4  Samsung  \n",
      "24  0.306  0.246  0.552  -0.069   46.8  Samsung  \n",
      "25  0.237  0.284  0.521  -0.097   23.8  Samsung  \n",
      "26  0.298  0.415  0.713  -0.037   68.5  Samsung  \n",
      "27  0.143  0.000  0.143  -0.223  -73.2  Samsung  \n",
      "28  0.091  0.095  0.186  -0.248  -69.2  Samsung  \n",
      "\n",
      "[27 rows x 31 columns]\n"
     ]
    }
   ],
   "source": [
    "data=pd.DataFrame(p)\n",
    "data = data[2:]\n",
    "data.columns=[\"Rank\",\"Name\",\"Position\",\"WAR\",\"G\",\"PA\",\"ePA\",\"AB\",\"R\",\"H\",\"2B\",\"3B\",\"HR\",\"TB\",\"RBI\",\"SB\",\"CS\",\"BB\",\"HP\",\"IB\",\"SO\",\"GDP\",\"SH\",\"SF\",\"AVG\",\"OBP\",\"SLG\",\"OPS\",\"R/ePA\",\"wRC+\",\"WAR2\"]\n",
    "data['Position'].replace({\"24  \" : \"\"}, regex=True, inplace=True)\n",
    "data['Team']=\"Samsung\"\n",
    "data.drop(columns=[\"WAR2\"], inplace=True)\n",
    "print(data)"
   ]
  },
  {
   "cell_type": "code",
   "execution_count": 18,
   "id": "9109adba",
   "metadata": {},
   "outputs": [],
   "source": [
    "data.to_csv(\"Samsung_hit.csv\", index=False)"
   ]
  },
  {
   "cell_type": "code",
   "execution_count": null,
   "id": "3476ffda",
   "metadata": {},
   "outputs": [],
   "source": []
  }
 ],
 "metadata": {
  "kernelspec": {
   "display_name": "Python 3 (ipykernel)",
   "language": "python",
   "name": "python3"
  },
  "language_info": {
   "codemirror_mode": {
    "name": "ipython",
    "version": 3
   },
   "file_extension": ".py",
   "mimetype": "text/x-python",
   "name": "python",
   "nbconvert_exporter": "python",
   "pygments_lexer": "ipython3",
   "version": "3.11.5"
  }
 },
 "nbformat": 4,
 "nbformat_minor": 5
}
