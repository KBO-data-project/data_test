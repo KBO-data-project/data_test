{
 "cells": [
  {
   "cell_type": "code",
   "execution_count": 2,
   "id": "0551d6d4",
   "metadata": {},
   "outputs": [
    {
     "name": "stdout",
     "output_type": "stream",
     "text": [
      "Requirement already satisfied: selenium in c:\\users\\melid\\anaconda3\\lib\\site-packages (4.19.0)\n",
      "Requirement already satisfied: urllib3[socks]<3,>=1.26 in c:\\users\\melid\\anaconda3\\lib\\site-packages (from selenium) (1.26.16)\n",
      "Requirement already satisfied: trio~=0.17 in c:\\users\\melid\\anaconda3\\lib\\site-packages (from selenium) (0.25.0)\n",
      "Requirement already satisfied: trio-websocket~=0.9 in c:\\users\\melid\\anaconda3\\lib\\site-packages (from selenium) (0.11.1)\n",
      "Requirement already satisfied: certifi>=2021.10.8 in c:\\users\\melid\\anaconda3\\lib\\site-packages (from selenium) (2024.2.2)\n",
      "Requirement already satisfied: typing_extensions>=4.9.0 in c:\\users\\melid\\anaconda3\\lib\\site-packages (from selenium) (4.10.0)\n",
      "Requirement already satisfied: attrs>=23.2.0 in c:\\users\\melid\\anaconda3\\lib\\site-packages (from trio~=0.17->selenium) (23.2.0)\n",
      "Requirement already satisfied: sortedcontainers in c:\\users\\melid\\anaconda3\\lib\\site-packages (from trio~=0.17->selenium) (2.4.0)\n",
      "Requirement already satisfied: idna in c:\\users\\melid\\anaconda3\\lib\\site-packages (from trio~=0.17->selenium) (3.4)\n",
      "Requirement already satisfied: outcome in c:\\users\\melid\\anaconda3\\lib\\site-packages (from trio~=0.17->selenium) (1.3.0.post0)\n",
      "Requirement already satisfied: sniffio>=1.3.0 in c:\\users\\melid\\anaconda3\\lib\\site-packages (from trio~=0.17->selenium) (1.3.1)\n",
      "Requirement already satisfied: cffi>=1.14 in c:\\users\\melid\\anaconda3\\lib\\site-packages (from trio~=0.17->selenium) (1.15.1)\n",
      "Requirement already satisfied: wsproto>=0.14 in c:\\users\\melid\\anaconda3\\lib\\site-packages (from trio-websocket~=0.9->selenium) (1.2.0)\n",
      "Requirement already satisfied: PySocks!=1.5.7,<2.0,>=1.5.6 in c:\\users\\melid\\anaconda3\\lib\\site-packages (from urllib3[socks]<3,>=1.26->selenium) (1.7.1)\n",
      "Requirement already satisfied: pycparser in c:\\users\\melid\\anaconda3\\lib\\site-packages (from cffi>=1.14->trio~=0.17->selenium) (2.21)\n",
      "Requirement already satisfied: h11<1,>=0.9.0 in c:\\users\\melid\\anaconda3\\lib\\site-packages (from wsproto>=0.14->trio-websocket~=0.9->selenium) (0.14.0)\n",
      "Requirement already satisfied: html_table_parser in c:\\users\\melid\\anaconda3\\lib\\site-packages (0.1.0)\n",
      "Requirement already satisfied: beautifulsoup4==4.4.1 in c:\\users\\melid\\anaconda3\\lib\\site-packages (from html_table_parser) (4.4.1)\n"
     ]
    }
   ],
   "source": [
    "! pip install selenium\n",
    "! pip install html_table_parser"
   ]
  },
  {
   "cell_type": "code",
   "execution_count": 1,
   "id": "39de7e59",
   "metadata": {},
   "outputs": [],
   "source": [
    "from selenium import webdriver\n",
    "from selenium.webdriver.common.keys import Keys\n",
    "from selenium.webdriver.common.by import By\n",
    "import time"
   ]
  },
  {
   "cell_type": "code",
   "execution_count": 2,
   "id": "bd840529",
   "metadata": {},
   "outputs": [],
   "source": [
    "driver = webdriver.Chrome()"
   ]
  },
  {
   "cell_type": "code",
   "execution_count": 3,
   "id": "887343fe",
   "metadata": {},
   "outputs": [],
   "source": [
    "url = \"https://statiz.sporki.com/stats/?m=main&m2=all\"\n",
    "driver.get(url)"
   ]
  },
  {
   "cell_type": "code",
   "execution_count": 4,
   "id": "eec9bc4c",
   "metadata": {
    "scrolled": true
   },
   "outputs": [],
   "source": [
    "# 옵션 선택\n",
    "driver.find_element(By.XPATH, '/html/body/div[2]/div[5]/section/div[1]/div/button[3]').click()\n",
    "\n",
    "# 팀 옵션 드롭다운 선택\n",
    "driver.find_element(By.XPATH, '//*[@id=\"select_team\"]/button').click()\n",
    "# 삼성 라이온즈 선택\n",
    "driver.find_element(By.XPATH, '//*[@id=\"select_team\"]/ul/li[6]').click()\n",
    "\n",
    "# 규정 드롭다운 선택\n",
    "driver.find_element(By.XPATH, '//*[@id=\"select_reg\"]/button').click()\n",
    "# 규정 > 전체 선택\n",
    "driver.find_element(By.XPATH, '//*[@id=\"select_reg\"]/ul/li[5]').click()"
   ]
  },
  {
   "cell_type": "code",
   "execution_count": 5,
   "id": "d40fd5a1",
   "metadata": {},
   "outputs": [],
   "source": [
    "from urllib.request import urlopen\n",
    "\n",
    "import collections\n",
    "collections.Callable = collections.abc.Callable\n",
    "\n",
    "from bs4 import BeautifulSoup\n",
    "from html_table_parser import parser_functions as parser\n",
    "import pandas as pd"
   ]
  },
  {
   "cell_type": "code",
   "execution_count": 6,
   "id": "879f5b0b",
   "metadata": {},
   "outputs": [],
   "source": [
    "page = driver.page_source\n",
    "soup = BeautifulSoup(page, 'html.parser')"
   ]
  },
  {
   "cell_type": "code",
   "execution_count": 7,
   "id": "22e78c51",
   "metadata": {},
   "outputs": [
    {
     "name": "stdout",
     "output_type": "stream",
     "text": [
      "0 ['Rank', 'Name', 'Team', 'Sort▼', 'G', 'GS', 'GR', 'GF', 'CG', 'SHO', 'W', 'L', 'S', 'HD', 'IP', 'ER', 'R', 'rRA', 'TBF', 'H', '2B', '3B', 'HR', 'BB', 'HP', 'IB', 'SO', 'ROE', 'BK', 'WP', 'ERA', 'RA9', 'rRA9', 'rRA9pf', 'FIP', 'WHIP', 'WAR▼']\n",
      "1 ['Rank', 'Name', 'Team', 'WAR', 'G', 'GS', 'GR', 'GF', 'CG', 'SHO', 'W', 'L', 'S', 'HD', 'IP', 'ER', 'R', 'rRA', 'TBF', 'H', '2B', '3B', 'HR', 'BB', 'HP', 'IB', 'SO', 'ROE', 'BK', 'WP', 'ERA', 'RA9', 'rRA9', 'rRA9pf', 'FIP', 'WHIP', 'WAR▼']\n",
      "2 ['1', '원태인', '24  P', '2.04', '8', '8', '0', '0', '0', '0', '5', '1', '0', '0', '46.1', '8', '9', '9.00', '184', '32', '4', '1', '3', '13', '2', '0', '38', '2', '0', '1', '1.55', '1.75', '1.75', '1.68', '3.94', '0.97', '2.04']\n",
      "3 ['2', '레예스', '24  P', '1.22', '9', '9', '0', '0', '0', '0', '5', '2', '0', '0', '49.0', '21', '21', '19.95', '208', '54', '5', '1', '4', '7', '3', '0', '45', '1', '0', '1', '3.86', '3.86', '3.66', '3.58', '3.52', '1.24', '1.22']\n",
      "4 ['3', '이승현', '24  P', '0.89', '4', '4', '0', '0', '0', '0', '2', '1', '0', '0', '21.0', '4', '5', '4.30', '84', '8', '4', '0', '0', '13', '0', '0', '20', '2', '0', '2', '1.71', '2.14', '1.84', '1.86', '3.75', '1.00', '0.89']\n",
      "5 ['4', '오승환', '24  P', '0.77', '18', '0', '18', '17', '0', '0', '1', '2', '11', '0', '20.0', '4', '4', '4.50', '81', '16', '5', '0', '1', '5', '1', '1', '16', '0', '0', '2', '1.80', '1.80', '2.03', '1.95', '3.58', '1.05', '0.77']\n",
      "6 ['5', '김재윤', '24  P', '0.66', '19', '0', '19', '1', '0', '0', '2', '2', '0', '10', '23.0', '8', '8', '8.00', '90', '14', '3', '0', '3', '11', '0', '2', '16', '0', '0', '1', '3.13', '3.13', '3.13', '3.03', '5.24', '1.09', '0.66']\n",
      "7 ['6', '임창민', '24  P', '0.60', '19', '0', '19', '1', '0', '0', '0', '0', '0', '11', '18.0', '3', '5', '5.00', '78', '17', '2', '0', '2', '9', '0', '0', '20', '1', '0', '2', '1.50', '2.50', '2.50', '2.39', '4.31', '1.44', '0.60']\n",
      "8 ['7', '코너', '24  P', '0.57', '9', '9', '0', '0', '0', '0', '2', '3', '0', '0', '45.1', '24', '27', '26.65', '206', '48', '6', '2', '8', '16', '8', '0', '45', '1', '0', '4', '4.76', '5.36', '5.29', '4.96', '5.47', '1.41', '0.57']\n",
      "9 ['8', '이호성', '24  P', '0.47', '6', '6', '0', '0', '0', '0', '1', '2', '0', '0', '22.1', '10', '11', '9.80', '101', '26', '6', '1', '2', '9', '1', '0', '17', '0', '0', '1', '4.03', '4.43', '3.95', '3.98', '4.77', '1.57', '0.47']\n",
      "10 ['9', '김태훈', '24  P', '0.30', '16', '0', '16', '4', '0', '0', '1', '0', '0', '2', '18.0', '5', '5', '7.40', '74', '14', '2', '1', '0', '4', '3', '0', '11', '0', '0', '2', '2.50', '2.50', '3.70', '3.61', '3.89', '1.00', '0.30']\n",
      "11 ['10', '최하늘', '24  P', '0.26', '18', '0', '18', '3', '0', '0', '1', '1', '0', '1', '20.1', '9', '9', '10.05', '82', '10', '1', '0', '1', '9', '3', '0', '12', '3', '0', '2', '3.98', '3.98', '4.45', '4.37', '5.15', '0.93', '0.26']\n",
      "12 ['Rank', 'Name', 'Team', 'Sort▼', 'G', 'GS', 'GR', 'GF', 'CG', 'SHO', 'W', 'L', 'S', 'HD', 'IP', 'ER', 'R', 'rRA', 'TBF', 'H', '2B', '3B', 'HR', 'BB', 'HP', 'IB', 'SO', 'ROE', 'BK', 'WP', 'ERA', 'RA9', 'rRA9', 'rRA9pf', 'FIP', 'WHIP', 'WAR▼']\n",
      "13 ['Rank', 'Name', 'Team', 'WAR', 'G', 'GS', 'GR', 'GF', 'CG', 'SHO', 'W', 'L', 'S', 'HD', 'IP', 'ER', 'R', 'rRA', 'TBF', 'H', '2B', '3B', 'HR', 'BB', 'HP', 'IB', 'SO', 'ROE', 'BK', 'WP', 'ERA', 'RA9', 'rRA9', 'rRA9pf', 'FIP', 'WHIP', 'WAR▼']\n",
      "14 ['11', '이승현', '24  P', '0.13', '15', '0', '15', '1', '0', '0', '2', '1', '0', '1', '18.0', '9', '9', '9.50', '72', '19', '5', '1', '0', '5', '0', '0', '14', '0', '0', '0', '4.50', '4.50', '4.75', '4.49', '3.13', '1.33', '0.13']\n",
      "15 ['12', '최성훈', '24  P', '0.10', '17', '0', '17', '0', '0', '0', '0', '0', '0', '1', '9.2', '5', '5', '4.65', '43', '7', '0', '0', '0', '7', '1', '1', '9', '0', '0', '1', '4.66', '4.66', '4.33', '4.28', '4.13', '1.45', '0.10']\n",
      "16 ['13', '백정현', '24  P', '0.06', '2', '2', '0', '0', '0', '0', '0', '0', '0', '0', '8.1', '5', '5', '5.00', '38', '9', '1', '1', '0', '7', '0', '0', '3', '0', '0', '0', '5.40', '5.40', '5.40', '5.35', '5.92', '1.92', '0.06']\n",
      "17 ['14', '홍원표', '24  P', '0.04', '2', '0', '2', '2', '0', '0', '0', '0', '0', '0', '3.0', '1', '1', '1.00', '12', '1', '0', '0', '1', '3', '0', '0', '3', '0', '0', '0', '3.00', '3.00', '3.00', '2.79', '8.78', '1.33', '0.04']\n",
      "18 ['15', '양현', '24  P', '0.01', '8', '0', '8', '1', '0', '0', '0', '0', '0', '0', '6.2', '5', '5', '4.85', '34', '12', '2', '0', '1', '3', '1', '0', '6', '0', '0', '0', '6.75', '6.75', '6.55', '6.16', '5.61', '2.25', '0.01']\n",
      "19 ['16', '장필준', '24  P', '-0.01', '1', '0', '1', '0', '0', '0', '0', '0', '0', '0', '0.1', '5', '5', '3.95', '6', '5', '1', '0', '0', '0', '0', '0', '0', '0', '0', '1', '99.99', '99.99', '106.65', '98.34', '4.21', '15.00', '-0.01']\n",
      "20 ['17', '홍정우', '24  P', '-0.03', '1', '0', '1', '1', '0', '0', '0', '0', '0', '0', '1.0', '5', '5', '5.00', '9', '5', '1', '0', '1', '1', '0', '0', '1', '0', '0', '0', '45.00', '45.00', '45.00', '41.90', '16.71', '6.00', '-0.03']\n",
      "21 ['18', '이상민', '24  P', '-0.07', '4', '0', '4', '0', '0', '0', '0', '0', '0', '0', '5.0', '4', '4', '4.00', '24', '7', '1', '0', '0', '1', '2', '0', '2', '0', '0', '0', '7.20', '7.20', '7.20', '7.76', '5.07', '1.60', '-0.07']\n",
      "22 ['19', '김대우', '24  P', '-0.07', '9', '0', '9', '6', '0', '0', '0', '0', '0', '0', '12.0', '11', '11', '10.85', '58', '16', '4', '0', '2', '4', '1', '1', '7', '1', '0', '1', '8.25', '8.25', '8.14', '7.92', '5.77', '1.67', '-0.07']\n",
      "23 ['20', '육선엽', '24  P', '-0.08', '3', '0', '3', '2', '0', '0', '0', '0', '0', '0', '4.2', '4', '5', '6.55', '28', '9', '2', '0', '2', '5', '0', '0', '3', '1', '0', '0', '7.71', '9.64', '12.63', '12.53', '11.03', '3.00', '-0.08']\n",
      "24 ['Rank', 'Name', 'Team', 'Sort▼', 'G', 'GS', 'GR', 'GF', 'CG', 'SHO', 'W', 'L', 'S', 'HD', 'IP', 'ER', 'R', 'rRA', 'TBF', 'H', '2B', '3B', 'HR', 'BB', 'HP', 'IB', 'SO', 'ROE', 'BK', 'WP', 'ERA', 'RA9', 'rRA9', 'rRA9pf', 'FIP', 'WHIP', 'WAR▼']\n",
      "25 ['Rank', 'Name', 'Team', 'WAR', 'G', 'GS', 'GR', 'GF', 'CG', 'SHO', 'W', 'L', 'S', 'HD', 'IP', 'ER', 'R', 'rRA', 'TBF', 'H', '2B', '3B', 'HR', 'BB', 'HP', 'IB', 'SO', 'ROE', 'BK', 'WP', 'ERA', 'RA9', 'rRA9', 'rRA9pf', 'FIP', 'WHIP', 'WAR▼']\n",
      "26 ['21', '이재익', '24  P', '-0.10', '3', '0', '3', '0', '0', '0', '0', '0', '0', '0', '2.2', '8', '8', '8.00', '20', '13', '3', '0', '1', '1', '0', '0', '0', '0', '0', '0', '27.00', '27.00', '27.00', '29.12', '9.84', '5.25', '-0.10']\n",
      "27 ['22', '이승민', '24  P', '-0.38', '10', '3', '7', '2', '0', '0', '1', '2', '0', '0', '18.0', '21', '21', '20.00', '91', '25', '3', '1', '6', '13', '0', '0', '12', '2', '0', '0', '10.50', '10.50', '10.00', '9.95', '8.75', '2.11', '-0.38']\n"
     ]
    }
   ],
   "source": [
    "temp = soup.find_all('table')\n",
    "p = parser.make2d(temp[0])    \n",
    "for i in range(len(p)):\n",
    "    print(i, p[i])"
   ]
  },
  {
   "cell_type": "code",
   "execution_count": 8,
   "id": "b5523464",
   "metadata": {},
   "outputs": [],
   "source": [
    "num = (len(p) // 10)\n",
    "start_num = 2\n",
    "for i in range(num*2+1, 1, -1):\n",
    "    n = start_num * 10 + (i)\n",
    "    p.pop(n)\n",
    "    if i % 2 == 0:\n",
    "        start_num -= 1"
   ]
  },
  {
   "cell_type": "code",
   "execution_count": 30,
   "id": "7147ff2d",
   "metadata": {
    "scrolled": true
   },
   "outputs": [
    {
     "name": "stdout",
     "output_type": "stream",
     "text": [
      "   Rank Name Position    WAR   G GS  GR  GF CG SHO  ... ROE BK WP    ERA  \\\n",
      "2     1  원태인        P   2.04   8  8   0   0  0   0  ...   2  0  1   1.55   \n",
      "3     2  레예스        P   1.22   9  9   0   0  0   0  ...   1  0  1   3.86   \n",
      "4     3  이승현        P   0.89   4  4   0   0  0   0  ...   2  0  2   1.71   \n",
      "5     4  오승환        P   0.77  18  0  18  17  0   0  ...   0  0  2   1.80   \n",
      "6     5  김재윤        P   0.66  19  0  19   1  0   0  ...   0  0  1   3.13   \n",
      "7     6  임창민        P   0.60  19  0  19   1  0   0  ...   1  0  2   1.50   \n",
      "8     7   코너        P   0.57   9  9   0   0  0   0  ...   1  0  4   4.76   \n",
      "9     8  이호성        P   0.47   6  6   0   0  0   0  ...   0  0  1   4.03   \n",
      "10    9  김태훈        P   0.30  16  0  16   4  0   0  ...   0  0  2   2.50   \n",
      "11   10  최하늘        P   0.26  18  0  18   3  0   0  ...   3  0  2   3.98   \n",
      "12   11  이승현        P   0.13  15  0  15   1  0   0  ...   0  0  0   4.50   \n",
      "13   12  최성훈        P   0.10  17  0  17   0  0   0  ...   0  0  1   4.66   \n",
      "14   13  백정현        P   0.06   2  2   0   0  0   0  ...   0  0  0   5.40   \n",
      "15   14  홍원표        P   0.04   2  0   2   2  0   0  ...   0  0  0   3.00   \n",
      "16   15   양현        P   0.01   8  0   8   1  0   0  ...   0  0  0   6.75   \n",
      "17   16  장필준        P  -0.01   1  0   1   0  0   0  ...   0  0  1  99.99   \n",
      "18   17  홍정우        P  -0.03   1  0   1   1  0   0  ...   0  0  0  45.00   \n",
      "19   18  이상민        P  -0.07   4  0   4   0  0   0  ...   0  0  0   7.20   \n",
      "20   19  김대우        P  -0.07   9  0   9   6  0   0  ...   1  0  1   8.25   \n",
      "21   20  육선엽        P  -0.08   3  0   3   2  0   0  ...   1  0  0   7.71   \n",
      "22   21  이재익        P  -0.10   3  0   3   0  0   0  ...   0  0  0  27.00   \n",
      "23   22  이승민        P  -0.38  10  3   7   2  0   0  ...   2  0  0  10.50   \n",
      "\n",
      "      RA9    rRA9 rRA9pf    FIP   WHIP     Team  \n",
      "2    1.75    1.75   1.68   3.94   0.97  Samsung  \n",
      "3    3.86    3.66   3.58   3.52   1.24  Samsung  \n",
      "4    2.14    1.84   1.86   3.75   1.00  Samsung  \n",
      "5    1.80    2.03   1.95   3.58   1.05  Samsung  \n",
      "6    3.13    3.13   3.03   5.24   1.09  Samsung  \n",
      "7    2.50    2.50   2.39   4.31   1.44  Samsung  \n",
      "8    5.36    5.29   4.96   5.47   1.41  Samsung  \n",
      "9    4.43    3.95   3.98   4.77   1.57  Samsung  \n",
      "10   2.50    3.70   3.61   3.89   1.00  Samsung  \n",
      "11   3.98    4.45   4.37   5.15   0.93  Samsung  \n",
      "12   4.50    4.75   4.49   3.13   1.33  Samsung  \n",
      "13   4.66    4.33   4.28   4.13   1.45  Samsung  \n",
      "14   5.40    5.40   5.35   5.92   1.92  Samsung  \n",
      "15   3.00    3.00   2.79   8.78   1.33  Samsung  \n",
      "16   6.75    6.55   6.16   5.61   2.25  Samsung  \n",
      "17  99.99  106.65  98.34   4.21  15.00  Samsung  \n",
      "18  45.00   45.00  41.90  16.71   6.00  Samsung  \n",
      "19   7.20    7.20   7.76   5.07   1.60  Samsung  \n",
      "20   8.25    8.14   7.92   5.77   1.67  Samsung  \n",
      "21   9.64   12.63  12.53  11.03   3.00  Samsung  \n",
      "22  27.00   27.00  29.12   9.84   5.25  Samsung  \n",
      "23  10.50   10.00   9.95   8.75   2.11  Samsung  \n",
      "\n",
      "[22 rows x 37 columns]\n"
     ]
    }
   ],
   "source": [
    "data=pd.DataFrame(p)\n",
    "data = data[2:]\n",
    "data.columns = [\"Rank\", \"Name\", \"Position\", \"WAR\", \"G\", \"GS\", \"GR\",\"GF\",\"CG\",\"SHO\",\"W\",\"L\",\"S\",\"HD\",\"IP\",\"ER\",\"R\", \"rRA\",\"TBF\",\"H\",\"2B\",\"3B\",\"HR\",\"BB\",\"HP\",\"IB\",\"SO\",\"ROE\",\"BK\",\"WP\",\"ERA\",\"RA9\",\"rRA9\",\"rRA9pf\",\"FIP\",\"WHIP\",\"WAR2\"]\n",
    "data['Position'].replace({\"24  P\" : \"P\"}, inplace=True)\n",
    "data['Team']=\"Samsung\"\n",
    "data.drop(columns=[\"WAR2\"], inplace=True)\n",
    "print(data)"
   ]
  },
  {
   "cell_type": "code",
   "execution_count": 31,
   "id": "9109adba",
   "metadata": {},
   "outputs": [],
   "source": [
    "data.to_csv(\"Samsung_pitch.csv\", index = False)"
   ]
  },
  {
   "cell_type": "code",
   "execution_count": 19,
   "id": "3476ffda",
   "metadata": {},
   "outputs": [],
   "source": [
    "df = pd.read_csv(\"삼성라이온즈_투구.csv\")"
   ]
  },
  {
   "cell_type": "code",
   "execution_count": null,
   "id": "b8d63e40",
   "metadata": {},
   "outputs": [],
   "source": []
  }
 ],
 "metadata": {
  "kernelspec": {
   "display_name": "Python 3 (ipykernel)",
   "language": "python",
   "name": "python3"
  },
  "language_info": {
   "codemirror_mode": {
    "name": "ipython",
    "version": 3
   },
   "file_extension": ".py",
   "mimetype": "text/x-python",
   "name": "python",
   "nbconvert_exporter": "python",
   "pygments_lexer": "ipython3",
   "version": "3.11.5"
  }
 },
 "nbformat": 4,
 "nbformat_minor": 5
}
