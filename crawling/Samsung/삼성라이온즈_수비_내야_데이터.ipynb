{
 "cells": [
  {
   "cell_type": "code",
   "execution_count": 31,
   "id": "0551d6d4",
   "metadata": {},
   "outputs": [
    {
     "name": "stdout",
     "output_type": "stream",
     "text": [
      "Requirement already satisfied: selenium in c:\\users\\melid\\anaconda3\\lib\\site-packages (4.19.0)\n",
      "Requirement already satisfied: urllib3[socks]<3,>=1.26 in c:\\users\\melid\\anaconda3\\lib\\site-packages (from selenium) (1.26.16)\n",
      "Requirement already satisfied: trio~=0.17 in c:\\users\\melid\\anaconda3\\lib\\site-packages (from selenium) (0.25.0)\n",
      "Requirement already satisfied: trio-websocket~=0.9 in c:\\users\\melid\\anaconda3\\lib\\site-packages (from selenium) (0.11.1)\n",
      "Requirement already satisfied: certifi>=2021.10.8 in c:\\users\\melid\\anaconda3\\lib\\site-packages (from selenium) (2024.2.2)\n",
      "Requirement already satisfied: typing_extensions>=4.9.0 in c:\\users\\melid\\anaconda3\\lib\\site-packages (from selenium) (4.10.0)\n",
      "Requirement already satisfied: attrs>=23.2.0 in c:\\users\\melid\\anaconda3\\lib\\site-packages (from trio~=0.17->selenium) (23.2.0)\n",
      "Requirement already satisfied: sortedcontainers in c:\\users\\melid\\anaconda3\\lib\\site-packages (from trio~=0.17->selenium) (2.4.0)\n",
      "Requirement already satisfied: idna in c:\\users\\melid\\anaconda3\\lib\\site-packages (from trio~=0.17->selenium) (3.4)\n",
      "Requirement already satisfied: outcome in c:\\users\\melid\\anaconda3\\lib\\site-packages (from trio~=0.17->selenium) (1.3.0.post0)\n",
      "Requirement already satisfied: sniffio>=1.3.0 in c:\\users\\melid\\anaconda3\\lib\\site-packages (from trio~=0.17->selenium) (1.3.1)\n",
      "Requirement already satisfied: cffi>=1.14 in c:\\users\\melid\\anaconda3\\lib\\site-packages (from trio~=0.17->selenium) (1.15.1)\n",
      "Requirement already satisfied: wsproto>=0.14 in c:\\users\\melid\\anaconda3\\lib\\site-packages (from trio-websocket~=0.9->selenium) (1.2.0)\n",
      "Requirement already satisfied: PySocks!=1.5.7,<2.0,>=1.5.6 in c:\\users\\melid\\anaconda3\\lib\\site-packages (from urllib3[socks]<3,>=1.26->selenium) (1.7.1)\n",
      "Requirement already satisfied: pycparser in c:\\users\\melid\\anaconda3\\lib\\site-packages (from cffi>=1.14->trio~=0.17->selenium) (2.21)\n",
      "Requirement already satisfied: h11<1,>=0.9.0 in c:\\users\\melid\\anaconda3\\lib\\site-packages (from wsproto>=0.14->trio-websocket~=0.9->selenium) (0.14.0)\n",
      "Collecting html_table_parser\n",
      "  Downloading html_table_parser-0.1.0.tar.gz (3.4 kB)\n",
      "  Preparing metadata (setup.py): started\n",
      "  Preparing metadata (setup.py): finished with status 'done'\n",
      "Collecting beautifulsoup4==4.4.1 (from html_table_parser)\n",
      "  Obtaining dependency information for beautifulsoup4==4.4.1 from https://files.pythonhosted.org/packages/cf/69/9abfdab06490af5e0233bcebe3f617ec128486d94ea987ad4f77b9332eef/beautifulsoup4-4.4.1-py3-none-any.whl.metadata\n",
      "  Downloading beautifulsoup4-4.4.1-py3-none-any.whl.metadata (1.1 kB)\n",
      "Downloading beautifulsoup4-4.4.1-py3-none-any.whl (81 kB)\n",
      "   ---------------------------------------- 0.0/81.4 kB ? eta -:--:--\n",
      "   --------------- ------------------------ 30.7/81.4 kB 1.4 MB/s eta 0:00:01\n",
      "   ---------------------------------------- 81.4/81.4 kB 1.5 MB/s eta 0:00:00\n",
      "Building wheels for collected packages: html_table_parser\n",
      "  Building wheel for html_table_parser (setup.py): started\n",
      "  Building wheel for html_table_parser (setup.py): finished with status 'done'\n",
      "  Created wheel for html_table_parser: filename=html_table_parser-0.1.0-py3-none-any.whl size=4638 sha256=2f599eac9f28c620288fd47ba00512a4bafaa8e8464d32c88e500e5168094cc8\n",
      "  Stored in directory: c:\\users\\melid\\appdata\\local\\pip\\cache\\wheels\\3f\\61\\3e\\205c3503f7c244357c1ba105368ba70095a71a075624689850\n",
      "Successfully built html_table_parser\n",
      "Installing collected packages: beautifulsoup4, html_table_parser\n",
      "  Attempting uninstall: beautifulsoup4\n",
      "    Found existing installation: beautifulsoup4 4.12.2\n",
      "    Uninstalling beautifulsoup4-4.12.2:\n",
      "      Successfully uninstalled beautifulsoup4-4.12.2\n",
      "Successfully installed beautifulsoup4-4.4.1 html_table_parser-0.1.0\n"
     ]
    },
    {
     "name": "stderr",
     "output_type": "stream",
     "text": [
      "ERROR: pip's dependency resolver does not currently take into account all the packages that are installed. This behaviour is the source of the following dependency conflicts.\n",
      "spyder 5.4.3 requires jedi<0.19.0,>=0.17.2, but you have jedi 0.19.1 which is incompatible.\n"
     ]
    }
   ],
   "source": [
    "! pip install selenium\n",
    "! pip install html_table_parser"
   ]
  },
  {
   "cell_type": "code",
   "execution_count": 2,
   "id": "39de7e59",
   "metadata": {},
   "outputs": [],
   "source": [
    "from selenium import webdriver\n",
    "from selenium.webdriver.common.keys import Keys\n",
    "from selenium.webdriver.common.by import By\n",
    "import time"
   ]
  },
  {
   "cell_type": "code",
   "execution_count": 3,
   "id": "bd840529",
   "metadata": {},
   "outputs": [],
   "source": [
    "driver = webdriver.Chrome()"
   ]
  },
  {
   "cell_type": "code",
   "execution_count": 4,
   "id": "887343fe",
   "metadata": {},
   "outputs": [],
   "source": [
    "url = \"https://statiz.sporki.com/stats/?m=main&m2=all\"\n",
    "driver.get(url)"
   ]
  },
  {
   "cell_type": "code",
   "execution_count": 5,
   "id": "eec9bc4c",
   "metadata": {},
   "outputs": [],
   "source": [
    "driver.find_element(By.XPATH, '/html/body/div[2]/div[5]/section/div[1]/div/button[4]').click()\n",
    "\n",
    "# 팀 옵션 드롭다운 선택\n",
    "driver.find_element(By.XPATH, '//*[@id=\"select_team\"]/button').click()\n",
    "# 삼성 라이온즈 선택\n",
    "driver.find_element(By.XPATH, '//*[@id=\"select_team\"]/ul/li[6]').click()\n",
    "\n",
    "# 수비 > 내야 선택\n",
    "driver.find_element(By.XPATH, '/html/body/div[2]/div[5]/section/div[6]/ul/li[3]/a').click()"
   ]
  },
  {
   "cell_type": "code",
   "execution_count": 6,
   "id": "d40fd5a1",
   "metadata": {},
   "outputs": [],
   "source": [
    "from urllib.request import urlopen\n",
    "\n",
    "import collections\n",
    "collections.Callable = collections.abc.Callable\n",
    "\n",
    "from bs4 import BeautifulSoup\n",
    "from html_table_parser import parser_functions as parser\n",
    "import pandas as pd"
   ]
  },
  {
   "cell_type": "code",
   "execution_count": 7,
   "id": "879f5b0b",
   "metadata": {},
   "outputs": [],
   "source": [
    "page = driver.page_source\n",
    "soup = BeautifulSoup(page, 'html.parser')"
   ]
  },
  {
   "cell_type": "code",
   "execution_count": 8,
   "id": "22e78c51",
   "metadata": {},
   "outputs": [
    {
     "name": "stdout",
     "output_type": "stream",
     "text": [
      "0 ['Rank', 'Name', 'Team', 'Sort▼', 'G', 'GS', 'IP', 'ifH', 'FC', 'PO', 'Ass', 'E', 'BBO', 'BBO%', 'F%', 'RF9', '수비 관련 득점 기여도', '수비 관련 득점 기여도', '수비 관련 득점 기여도', '수비 관련 득점 기여도', '수비 관련 득점 기여도', '수비 관련 득점 기여도']\n",
      "1 ['Rank', 'Name', 'Team', '수비 관련 득점 기여도-종합 RAA', 'G', 'GS', 'IP', 'ifH', 'FC', 'PO', 'Ass', 'E', 'BBO', 'BBO%', 'F%', 'RF9', 'Range RAA', 'Err RAA', 'DP RAA', 'Bt RAA', '종합 RAA▼', '/144']\n",
      "2 ['1', '맥키넌', '24  1B', '5.12', '25', '25', '218.0', '8', '0', '160', '18', '1', '72', '87.5', '99.4', '7.35', '5.57', '0.04', '', '-0.48', '5.12', '20.50']\n",
      "3 ['2', '이재현', '24  SS', '4.12', '22', '21', '182.0', '5', '0', '37', '42', '2', '32', '78.1', '97.5', '3.91', '6.08', '-0.35', '-1.61', '', '4.12', '24.72']\n",
      "4 ['3', '강한울', '24  3B', '3.65', '9', '3', '41.0', '3', '1', '1', '14', '0', '12', '66.7', '100.0', '3.29', '3.12', '0.15', '0.38', '', '3.65', '29.18']\n",
      "5 ['4', '김영웅', '24  SS', '3.23', '19', '19', '171.2', '13', '0', '40', '51', '3', '71', '77.5', '96.8', '4.77', '1.16', '0.11', '1.96', '', '3.23', '11.61']\n",
      "6 ['5', '김재상', '24  2B', '2.56', '22', '19', '151.1', '4', '0', '32', '44', '1', '39', '87.2', '98.7', '4.52', '1.71', '0.56', '0.28', '', '2.56', '15.35']\n",
      "7 ['6', '김호진', '24  3B', '2.24', '9', '5', '43.2', '2', '0', '3', '9', '0', '9', '77.8', '100.0', '2.47', '1.77', '0.16', '0.28', '0.03', '2.24', '24.83']\n",
      "8 ['7', '안주형', '24  3B', '1.32', '2', '0', '3.0', '0', '0', '1', '2', '0', '3', '100.0', '100.0', '9.00', '1.31', '0.01', '', '', '1.32', '21.07']\n",
      "9 ['8', '김재혁', '24  1B', '0.78', '4', '4', '31.0', '0', '0', '21', '4', '0', '19', '100.0', '100.0', '7.26', '0.71', '0.08', '', '-0.01', '0.78', '9.31']\n",
      "10 ['9', '류지혁', '24  2B', '0.23', '17', '13', '110.1', '4', '0', '14', '21', '1', '18', '72.2', '97.2', '2.85', '-0.18', '0.41', '0.00', '', '0.23', '1.46']\n",
      "11 ['10', '공민규', '24  1B', '0.15', '2', '0', '5.0', '1', '0', '5', '2', '0', '7', '85.7', '100.0', '12.60', '0.14', '0.01', '', '', '0.15', '2.68']\n",
      "12 ['Rank', 'Name', 'Team', 'Sort▼', 'G', 'GS', 'IP', 'ifH', 'FC', 'PO', 'Ass', 'E', 'BBO', 'BBO%', 'F%', 'RF9', '수비 관련 득점 기여도', '수비 관련 득점 기여도', '수비 관련 득점 기여도', '수비 관련 득점 기여도', '수비 관련 득점 기여도', '수비 관련 득점 기여도']\n",
      "13 ['Rank', 'Name', 'Team', '수비 관련 득점 기여도-종합 RAA', 'G', 'GS', 'IP', 'ifH', 'FC', 'PO', 'Ass', 'E', 'BBO', 'BBO%', 'F%', 'RF9', 'Range RAA', 'Err RAA', 'DP RAA', 'Bt RAA', '종합 RAA▼', '/144']\n",
      "14 ['11', '김지찬', '24  2B', '0.03', '6', '0', '9.0', '0', '0', '0', '0', '0', '0', '', '', '0.00', '0.00', '0.03', '', '', '0.03', '0.10']\n",
      "15 ['12', '김재상', '24  3B', '0.00', '1', '0', '1.0', '0', '0', '0', '0', '0', '0', '', '', '0.00', '', '0.00', '', '', '0.00', '0.02']\n",
      "16 ['13', '강한울', '24  1B', '0.00', '1', '0', '1.0', '0', '0', '1', '0', '0', '1', '100.0', '100.0', '9.00', '', '0.00', '', '', '0.00', '0.02']\n",
      "17 ['14', '김호진', '24  2B', '0.00', '1', '0', '2.0', '0', '0', '1', '0', '0', '1', '100.0', '100.0', '4.50', '-0.01', '0.01', '', '', '0.00', '-0.01']\n",
      "18 ['15', '김호진', '24  SS', '-0.05', '4', '1', '14.0', '0', '0', '1', '0', '0', '1', '100.0', '100.0', '0.64', '-0.10', '0.05', '', '', '-0.05', '-0.53']\n",
      "19 ['16', '이성규', '24  1B', '-0.07', '13', '2', '40.0', '2', '0', '29', '2', '1', '12', '75.0', '96.9', '6.98', '0.33', '-0.40', '', '', '-0.07', '-0.28']\n",
      "20 ['17', '전병우', '24  3B', '-0.18', '2', '2', '13.0', '2', '0', '1', '0', '0', '0', '', '100.0', '0.69', '-0.23', '0.05', '', '', '-0.18', '-6.44']\n",
      "21 ['18', '강한울', '24  SS', '-0.34', '3', '0', '3.0', '1', '0', '1', '0', '0', '1', '0.0', '100.0', '3.00', '-0.01', '0.01', '-0.34', '', '-0.34', '-2.71']\n",
      "22 ['19', '김재성', '24  1B', '-0.35', '1', '1', '5.0', '1', '0', '3', '0', '1', '4', '50.0', '75.0', '5.40', '-0.36', '0.01', '', '', '-0.35', '-5.00']\n",
      "23 ['20', '김영웅', '24  3B', '-0.42', '21', '19', '163.0', '5', '0', '14', '22', '2', '10', '30.0', '94.7', '1.99', '-0.34', '0.08', '-0.19', '0.03', '-0.42', '-1.50']\n",
      "24 ['Rank', 'Name', 'Team', 'Sort▼', 'G', 'GS', 'IP', 'ifH', 'FC', 'PO', 'Ass', 'E', 'BBO', 'BBO%', 'F%', 'RF9', '수비 관련 득점 기여도', '수비 관련 득점 기여도', '수비 관련 득점 기여도', '수비 관련 득점 기여도', '수비 관련 득점 기여도', '수비 관련 득점 기여도']\n",
      "25 ['Rank', 'Name', 'Team', '수비 관련 득점 기여도-종합 RAA', 'G', 'GS', 'IP', 'ifH', 'FC', 'PO', 'Ass', 'E', 'BBO', 'BBO%', 'F%', 'RF9', 'Range RAA', 'Err RAA', 'DP RAA', 'Bt RAA', '종합 RAA▼', '/144']\n",
      "26 ['21', '김동진', '24  2B', '-0.52', '2', '1', '6.0', '0', '0', '1', '1', '0', '1', '100.0', '100.0', '3.00', '-0.26', '0.02', '-0.28', '', '-0.52', '-12.53']\n",
      "27 ['22', '공민규', '24  3B', '-0.54', '6', '3', '25.0', '1', '0', '1', '6', '1', '5', '60.0', '87.5', '2.52', '-0.63', '0.09', '', '', '-0.54', '-9.75']\n",
      "28 ['23', '류지혁', '24  1B', '-0.63', '4', '1', '10.0', '1', '0', '3', '0', '0', '1', '0.0', '100.0', '2.70', '-0.66', '0.02', '', '', '-0.63', '-3.97']\n",
      "29 ['24', '안주형', '24  SS', '-0.74', '1', '0', '2.0', '0', '0', '0', '1', '0', '0', '', '100.0', '4.50', '-0.74', '0.01', '', '', '-0.74', '-11.80']\n",
      "30 ['25', '류지혁', '24  3B', '-0.85', '5', '4', '34.1', '0', '0', '5', '5', '0', '3', '100.0', '100.0', '2.62', '-0.44', '0.12', '-0.28', '-0.25', '-0.85', '-5.34']\n",
      "31 ['26', '김동진', '24  3B', '-1.01', '4', '1', '13.0', '1', '0', '1', '2', '0', '0', '', '100.0', '2.08', '-0.86', '0.05', '-0.19', '', '-1.01', '-24.16']\n",
      "32 ['27', '오재일', '24  1B', '-1.03', '8', '8', '62.2', '6', '0', '60', '4', '0', '52', '88.5', '100.0', '9.19', '-1.18', '0.15', '', '', '-1.03', '-12.32']\n",
      "33 ['28', '맥키넌', '24  3B', '-2.48', '5', '4', '35.2', '5', '0', '3', '3', '1', '6', '0.0', '85.7', '1.51', '-2.14', '-0.37', '', '0.03', '-2.48', '-9.93']\n",
      "34 ['29', '강한울', '24  2B', '-2.64', '8', '0', '25.0', '0', '0', '3', '6', '1', '6', '83.3', '90.0', '3.24', '-2.23', '-0.41', '', '', '-2.64', '-21.11']\n",
      "35 ['30', '안주형', '24  2B', '-2.87', '9', '8', '69.0', '11', '0', '23', '25', '2', '29', '55.2', '96.0', '6.26', '-2.63', '-0.24', '0.00', '', '-2.87', '-45.98']\n",
      "36\n"
     ]
    }
   ],
   "source": [
    "temp = soup.find_all('table')\n",
    "p = parser.make2d(temp[0])    \n",
    "for i in range(len(p)):\n",
    "    print(i, p[i])\n",
    "print(len(p))"
   ]
  },
  {
   "cell_type": "code",
   "execution_count": 9,
   "id": "b5523464",
   "metadata": {},
   "outputs": [],
   "source": [
    "num = (len(p) // 10)-1\n",
    "\n",
    "start_num = 2\n",
    "for i in range(num*2+1, 1, -1):\n",
    "    n = start_num * 10 + (i)\n",
    "    p.pop(n)\n",
    "    if i % 2 == 0:\n",
    "        start_num -= 1"
   ]
  },
  {
   "cell_type": "code",
   "execution_count": 10,
   "id": "7147ff2d",
   "metadata": {},
   "outputs": [
    {
     "name": "stdout",
     "output_type": "stream",
     "text": [
      "   Rank Name Position   G  GS     IP ifH FC   PO Ass  ...   BBO%     F%  \\\n",
      "2     1  맥키넌       1B  25  25  218.0   8  0  160  18  ...   87.5   99.4   \n",
      "3     2  이재현       SS  22  21  182.0   5  0   37  42  ...   78.1   97.5   \n",
      "4     3  강한울       3B   9   3   41.0   3  1    1  14  ...   66.7  100.0   \n",
      "5     4  김영웅       SS  19  19  171.2  13  0   40  51  ...   77.5   96.8   \n",
      "6     5  김재상       2B  22  19  151.1   4  0   32  44  ...   87.2   98.7   \n",
      "7     6  김호진       3B   9   5   43.2   2  0    3   9  ...   77.8  100.0   \n",
      "8     7  안주형       3B   2   0    3.0   0  0    1   2  ...  100.0  100.0   \n",
      "9     8  김재혁       1B   4   4   31.0   0  0   21   4  ...  100.0  100.0   \n",
      "10    9  류지혁       2B  17  13  110.1   4  0   14  21  ...   72.2   97.2   \n",
      "11   10  공민규       1B   2   0    5.0   1  0    5   2  ...   85.7  100.0   \n",
      "12   11  김지찬       2B   6   0    9.0   0  0    0   0  ...                 \n",
      "13   12  김재상       3B   1   0    1.0   0  0    0   0  ...                 \n",
      "14   13  강한울       1B   1   0    1.0   0  0    1   0  ...  100.0  100.0   \n",
      "15   14  김호진       2B   1   0    2.0   0  0    1   0  ...  100.0  100.0   \n",
      "16   15  김호진       SS   4   1   14.0   0  0    1   0  ...  100.0  100.0   \n",
      "17   16  이성규       1B  13   2   40.0   2  0   29   2  ...   75.0   96.9   \n",
      "18   17  전병우       3B   2   2   13.0   2  0    1   0  ...         100.0   \n",
      "19   18  강한울       SS   3   0    3.0   1  0    1   0  ...    0.0  100.0   \n",
      "20   19  김재성       1B   1   1    5.0   1  0    3   0  ...   50.0   75.0   \n",
      "21   20  김영웅       3B  21  19  163.0   5  0   14  22  ...   30.0   94.7   \n",
      "22   21  김동진       2B   2   1    6.0   0  0    1   1  ...  100.0  100.0   \n",
      "23   22  공민규       3B   6   3   25.0   1  0    1   6  ...   60.0   87.5   \n",
      "24   23  류지혁       1B   4   1   10.0   1  0    3   0  ...    0.0  100.0   \n",
      "25   24  안주형       SS   1   0    2.0   0  0    0   1  ...         100.0   \n",
      "26   25  류지혁       3B   5   4   34.1   0  0    5   5  ...  100.0  100.0   \n",
      "27   26  김동진       3B   4   1   13.0   1  0    1   2  ...         100.0   \n",
      "28   27  오재일       1B   8   8   62.2   6  0   60   4  ...   88.5  100.0   \n",
      "29   28  맥키넌       3B   5   4   35.2   5  0    3   3  ...    0.0   85.7   \n",
      "30   29  강한울       2B   8   0   25.0   0  0    3   6  ...   83.3   90.0   \n",
      "31   30  안주형       2B   9   8   69.0  11  0   23  25  ...   55.2   96.0   \n",
      "\n",
      "      RF9 Range RAA  Err RAA DP RAA Bt RAA Total RAA    /144     Team  \n",
      "2    7.35      5.57     0.04         -0.48      5.12   20.50  Samsung  \n",
      "3    3.91      6.08    -0.35  -1.61             4.12   24.72  Samsung  \n",
      "4    3.29      3.12     0.15   0.38             3.65   29.18  Samsung  \n",
      "5    4.77      1.16     0.11   1.96             3.23   11.61  Samsung  \n",
      "6    4.52      1.71     0.56   0.28             2.56   15.35  Samsung  \n",
      "7    2.47      1.77     0.16   0.28   0.03      2.24   24.83  Samsung  \n",
      "8    9.00      1.31     0.01                    1.32   21.07  Samsung  \n",
      "9    7.26      0.71     0.08         -0.01      0.78    9.31  Samsung  \n",
      "10   2.85     -0.18     0.41   0.00             0.23    1.46  Samsung  \n",
      "11  12.60      0.14     0.01                    0.15    2.68  Samsung  \n",
      "12   0.00      0.00     0.03                    0.03    0.10  Samsung  \n",
      "13   0.00               0.00                    0.00    0.02  Samsung  \n",
      "14   9.00               0.00                    0.00    0.02  Samsung  \n",
      "15   4.50     -0.01     0.01                    0.00   -0.01  Samsung  \n",
      "16   0.64     -0.10     0.05                   -0.05   -0.53  Samsung  \n",
      "17   6.98      0.33    -0.40                   -0.07   -0.28  Samsung  \n",
      "18   0.69     -0.23     0.05                   -0.18   -6.44  Samsung  \n",
      "19   3.00     -0.01     0.01  -0.34            -0.34   -2.71  Samsung  \n",
      "20   5.40     -0.36     0.01                   -0.35   -5.00  Samsung  \n",
      "21   1.99     -0.34     0.08  -0.19   0.03     -0.42   -1.50  Samsung  \n",
      "22   3.00     -0.26     0.02  -0.28            -0.52  -12.53  Samsung  \n",
      "23   2.52     -0.63     0.09                   -0.54   -9.75  Samsung  \n",
      "24   2.70     -0.66     0.02                   -0.63   -3.97  Samsung  \n",
      "25   4.50     -0.74     0.01                   -0.74  -11.80  Samsung  \n",
      "26   2.62     -0.44     0.12  -0.28  -0.25     -0.85   -5.34  Samsung  \n",
      "27   2.08     -0.86     0.05  -0.19            -1.01  -24.16  Samsung  \n",
      "28   9.19     -1.18     0.15                   -1.03  -12.32  Samsung  \n",
      "29   1.51     -2.14    -0.37          0.03     -2.48   -9.93  Samsung  \n",
      "30   3.24     -2.23    -0.41                   -2.64  -21.11  Samsung  \n",
      "31   6.26     -2.63    -0.24   0.00            -2.87  -45.98  Samsung  \n",
      "\n",
      "[30 rows x 22 columns]\n"
     ]
    }
   ],
   "source": [
    "data=pd.DataFrame(p)\n",
    "data=data[2:]\n",
    "data.columns = [\"Rank\", \"Name\", \"Position\",\"Total RAA2\",\"G\", \"GS\",\"IP\", \"ifH\",\"FC\",\"PO\",\"Ass\",\"E\",\"BBO\",\"BBO%\",\"F%\",\"RF9\",\"Range RAA\", \" Err RAA\", \"DP RAA\",\"Bt RAA\",\"Total RAA\", \"/144\"]\n",
    "data.drop(columns=['Total RAA2'], inplace=True)\n",
    "data['Position'].replace({\"24  \":\"\"}, regex=True, inplace=True)\n",
    "data['Team']=\"Samsung\"\n",
    "print(data)"
   ]
  },
  {
   "cell_type": "code",
   "execution_count": 11,
   "id": "9109adba",
   "metadata": {},
   "outputs": [],
   "source": [
    "data.to_csv(\"Samsung_field_IF.csv\")"
   ]
  },
  {
   "cell_type": "code",
   "execution_count": null,
   "id": "3476ffda",
   "metadata": {},
   "outputs": [],
   "source": []
  }
 ],
 "metadata": {
  "kernelspec": {
   "display_name": "Python 3 (ipykernel)",
   "language": "python",
   "name": "python3"
  },
  "language_info": {
   "codemirror_mode": {
    "name": "ipython",
    "version": 3
   },
   "file_extension": ".py",
   "mimetype": "text/x-python",
   "name": "python",
   "nbconvert_exporter": "python",
   "pygments_lexer": "ipython3",
   "version": "3.11.5"
  }
 },
 "nbformat": 4,
 "nbformat_minor": 5
}
