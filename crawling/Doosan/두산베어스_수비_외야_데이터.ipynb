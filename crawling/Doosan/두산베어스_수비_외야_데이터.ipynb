{
 "cells": [
  {
   "cell_type": "code",
   "execution_count": 31,
   "id": "0551d6d4",
   "metadata": {},
   "outputs": [
    {
     "name": "stdout",
     "output_type": "stream",
     "text": [
      "Requirement already satisfied: selenium in c:\\users\\melid\\anaconda3\\lib\\site-packages (4.19.0)\n",
      "Requirement already satisfied: urllib3[socks]<3,>=1.26 in c:\\users\\melid\\anaconda3\\lib\\site-packages (from selenium) (1.26.16)\n",
      "Requirement already satisfied: trio~=0.17 in c:\\users\\melid\\anaconda3\\lib\\site-packages (from selenium) (0.25.0)\n",
      "Requirement already satisfied: trio-websocket~=0.9 in c:\\users\\melid\\anaconda3\\lib\\site-packages (from selenium) (0.11.1)\n",
      "Requirement already satisfied: certifi>=2021.10.8 in c:\\users\\melid\\anaconda3\\lib\\site-packages (from selenium) (2024.2.2)\n",
      "Requirement already satisfied: typing_extensions>=4.9.0 in c:\\users\\melid\\anaconda3\\lib\\site-packages (from selenium) (4.10.0)\n",
      "Requirement already satisfied: attrs>=23.2.0 in c:\\users\\melid\\anaconda3\\lib\\site-packages (from trio~=0.17->selenium) (23.2.0)\n",
      "Requirement already satisfied: sortedcontainers in c:\\users\\melid\\anaconda3\\lib\\site-packages (from trio~=0.17->selenium) (2.4.0)\n",
      "Requirement already satisfied: idna in c:\\users\\melid\\anaconda3\\lib\\site-packages (from trio~=0.17->selenium) (3.4)\n",
      "Requirement already satisfied: outcome in c:\\users\\melid\\anaconda3\\lib\\site-packages (from trio~=0.17->selenium) (1.3.0.post0)\n",
      "Requirement already satisfied: sniffio>=1.3.0 in c:\\users\\melid\\anaconda3\\lib\\site-packages (from trio~=0.17->selenium) (1.3.1)\n",
      "Requirement already satisfied: cffi>=1.14 in c:\\users\\melid\\anaconda3\\lib\\site-packages (from trio~=0.17->selenium) (1.15.1)\n",
      "Requirement already satisfied: wsproto>=0.14 in c:\\users\\melid\\anaconda3\\lib\\site-packages (from trio-websocket~=0.9->selenium) (1.2.0)\n",
      "Requirement already satisfied: PySocks!=1.5.7,<2.0,>=1.5.6 in c:\\users\\melid\\anaconda3\\lib\\site-packages (from urllib3[socks]<3,>=1.26->selenium) (1.7.1)\n",
      "Requirement already satisfied: pycparser in c:\\users\\melid\\anaconda3\\lib\\site-packages (from cffi>=1.14->trio~=0.17->selenium) (2.21)\n",
      "Requirement already satisfied: h11<1,>=0.9.0 in c:\\users\\melid\\anaconda3\\lib\\site-packages (from wsproto>=0.14->trio-websocket~=0.9->selenium) (0.14.0)\n",
      "Collecting html_table_parser\n",
      "  Downloading html_table_parser-0.1.0.tar.gz (3.4 kB)\n",
      "  Preparing metadata (setup.py): started\n",
      "  Preparing metadata (setup.py): finished with status 'done'\n",
      "Collecting beautifulsoup4==4.4.1 (from html_table_parser)\n",
      "  Obtaining dependency information for beautifulsoup4==4.4.1 from https://files.pythonhosted.org/packages/cf/69/9abfdab06490af5e0233bcebe3f617ec128486d94ea987ad4f77b9332eef/beautifulsoup4-4.4.1-py3-none-any.whl.metadata\n",
      "  Downloading beautifulsoup4-4.4.1-py3-none-any.whl.metadata (1.1 kB)\n",
      "Downloading beautifulsoup4-4.4.1-py3-none-any.whl (81 kB)\n",
      "   ---------------------------------------- 0.0/81.4 kB ? eta -:--:--\n",
      "   --------------- ------------------------ 30.7/81.4 kB 1.4 MB/s eta 0:00:01\n",
      "   ---------------------------------------- 81.4/81.4 kB 1.5 MB/s eta 0:00:00\n",
      "Building wheels for collected packages: html_table_parser\n",
      "  Building wheel for html_table_parser (setup.py): started\n",
      "  Building wheel for html_table_parser (setup.py): finished with status 'done'\n",
      "  Created wheel for html_table_parser: filename=html_table_parser-0.1.0-py3-none-any.whl size=4638 sha256=2f599eac9f28c620288fd47ba00512a4bafaa8e8464d32c88e500e5168094cc8\n",
      "  Stored in directory: c:\\users\\melid\\appdata\\local\\pip\\cache\\wheels\\3f\\61\\3e\\205c3503f7c244357c1ba105368ba70095a71a075624689850\n",
      "Successfully built html_table_parser\n",
      "Installing collected packages: beautifulsoup4, html_table_parser\n",
      "  Attempting uninstall: beautifulsoup4\n",
      "    Found existing installation: beautifulsoup4 4.12.2\n",
      "    Uninstalling beautifulsoup4-4.12.2:\n",
      "      Successfully uninstalled beautifulsoup4-4.12.2\n",
      "Successfully installed beautifulsoup4-4.4.1 html_table_parser-0.1.0\n"
     ]
    },
    {
     "name": "stderr",
     "output_type": "stream",
     "text": [
      "ERROR: pip's dependency resolver does not currently take into account all the packages that are installed. This behaviour is the source of the following dependency conflicts.\n",
      "spyder 5.4.3 requires jedi<0.19.0,>=0.17.2, but you have jedi 0.19.1 which is incompatible.\n"
     ]
    }
   ],
   "source": [
    "! pip install selenium\n",
    "! pip install html_table_parser"
   ]
  },
  {
   "cell_type": "code",
   "execution_count": 1,
   "id": "39de7e59",
   "metadata": {},
   "outputs": [],
   "source": [
    "from selenium import webdriver\n",
    "from selenium.webdriver.common.keys import Keys\n",
    "from selenium.webdriver.common.by import By\n",
    "import time"
   ]
  },
  {
   "cell_type": "code",
   "execution_count": 2,
   "id": "bd840529",
   "metadata": {},
   "outputs": [],
   "source": [
    "driver = webdriver.Chrome()"
   ]
  },
  {
   "cell_type": "code",
   "execution_count": 3,
   "id": "887343fe",
   "metadata": {},
   "outputs": [],
   "source": [
    "url = \"https://statiz.sporki.com/stats/?m=main&m2=all\"\n",
    "driver.get(url)"
   ]
  },
  {
   "cell_type": "code",
   "execution_count": 4,
   "id": "eec9bc4c",
   "metadata": {},
   "outputs": [],
   "source": [
    "driver.find_element(By.XPATH, '/html/body/div[2]/div[5]/section/div[1]/div/button[4]').click()\n",
    "\n",
    "# 팀 옵션 드롭다운 선택\n",
    "driver.find_element(By.XPATH, '//*[@id=\"select_team\"]/button').click()\n",
    "# 두산 베어스 선택\n",
    "driver.find_element(By.XPATH, '//*[@id=\"select_team\"]/ul/li[5]').click()\n",
    "\n",
    "# 수비 > 내야 선택\n",
    "driver.find_element(By.XPATH, '/html/body/div[2]/div[5]/section/div[6]/ul/li[4]/a').click()"
   ]
  },
  {
   "cell_type": "code",
   "execution_count": 5,
   "id": "d40fd5a1",
   "metadata": {},
   "outputs": [],
   "source": [
    "from urllib.request import urlopen\n",
    "\n",
    "import collections\n",
    "collections.Callable = collections.abc.Callable\n",
    "\n",
    "from bs4 import BeautifulSoup\n",
    "from html_table_parser import parser_functions as parser\n",
    "import pandas as pd"
   ]
  },
  {
   "cell_type": "code",
   "execution_count": 6,
   "id": "879f5b0b",
   "metadata": {},
   "outputs": [],
   "source": [
    "page = driver.page_source\n",
    "soup = BeautifulSoup(page, 'html.parser')"
   ]
  },
  {
   "cell_type": "code",
   "execution_count": 7,
   "id": "22e78c51",
   "metadata": {},
   "outputs": [
    {
     "name": "stdout",
     "output_type": "stream",
     "text": [
      "0 ['Rank', 'Name', 'Team', 'Sort▼', 'G', 'GS', 'IP', 'BAFZ', 'RF9', 'ofAss', 'F12', 'F12', 'F12', 'F23', 'F23', 'F23', 'F34', 'F34', 'F34', 'H13', 'H13', 'H13', 'H24', 'H24', 'H24', 'D14', 'D14', 'D14', '수비 관련 득점 기여도', '수비 관련 득점 기여도', '수비 관련 득점 기여도', '수비 관련 득점 기여도', '수비 관련 득점 기여도']\n",
      "1 ['Rank', 'Name', 'Team', '수비 관련 득점 기여도-종합 RAA', 'G', 'GS', 'IP', 'BAFZ', 'RF9', 'ofAss', 'A', 'N', '%', 'A', 'N', '%', 'A', 'N', '%', 'A', 'N', '%', 'A', 'N', '%', 'A', 'N', '%', 'Range RAA', 'Arm RAA', 'Err RAA', '종합 RAA▼', '/144']\n",
      "2 ['1', '조수행', '24  LF', '5.74', '26', '20', '185.0', '35.5', '2.68', '1', '0', '9', '0.0', '0', '2', '0.0', '0', '0', '', '1', '13', '', '0', '1', '', '3', '6', '', '5.85', '-0.30', '0.18', '5.74', '22.94']\n",
      "3 ['2', '김대한', '24  RF', '2.28', '16', '10', '97.0', '52.6', '2.41', '0', '0', '5', '0.0', '0', '4', '0.0', '0', '1', '0.0', '3', '4', '0.0', '0', '3', '0.0', '0', '1', '0.0', '2.85', '-0.42', '-0.15', '2.28', '12.60']\n",
      "4 ['3', '정수빈', '24  CF', '0.26', '42', '42', '347.0', '45.2', '2.59', '2', '1', '32', '3.1', '0', '7', '0.0', '0', '3', '0.0', '11', '30', '0.0', '0', '13', '0.0', '5', '7', '0.0', '-0.69', '0.92', '0.02', '0.26', '0.89']\n",
      "5 ['4', '조수행', '24  RF', '0.25', '7', '2', '22.0', '40.0', '2.05', '1', '0', '2', '0.0', '0', '0', '', '0', '0', '', '0', '2', '', '0', '0', '', '1', '1', '', '0.07', '0.10', '0.08', '0.25', '0.99']\n",
      "6 ['5', '전다민', '24  CF', '0.00', '1', '0', '2.0', '', '0.00', '0', '0', '0', '', '0', '0', '', '0', '0', '', '0', '0', '', '0', '0', '', '0', '0', '', '', '', '0.00', '0.00', '0.22']\n",
      "7 ['6', '김대한', '24  CF', '0.00', '1', '0', '2.0', '', '0.00', '0', '0', '0', '', '0', '0', '', '0', '0', '', '0', '0', '', '0', '0', '', '0', '0', '', '0.00', '', '0.00', '0.00', '0.02']\n",
      "8 ['7', '김태근', '24  RF', '-0.01', '5', '0', '9.0', '0.0', '3.00', '0', '0', '0', '', '0', '0', '', '0', '0', '', '0', '1', '', '0', '0', '', '0', '0', '', '0.29', '-0.33', '0.03', '-0.01', '-0.05']\n",
      "9 ['8', '홍성호', '24  RF', '-0.03', '2', '0', '4.0', '', '0.00', '0', '0', '0', '', '0', '0', '', '0', '0', '', '0', '0', '', '0', '0', '', '0', '0', '', '-0.04', '', '0.01', '-0.03', '-1.32']\n",
      "10 ['9', '라모스', '24  RF', '-0.13', '30', '30', '242.0', '30.6', '1.64', '0', '0', '9', '0.0', '0', '2', '0.0', '0', '0', '', '3', '14', '', '0', '5', '', '1', '4', '', '0.28', '-0.27', '-0.14', '-0.13', '-0.60']\n",
      "11 ['10', '조수행', '24  CF', '-0.51', '4', '0', '12.0', '0.0', '2.25', '1', '0', '0', '', '0', '0', '', '0', '0', '', '1', '0', '', '0', '1', '', '0', '0', '', '-0.69', '0.17', '0.02', '-0.51', '-2.02']\n",
      "12 ['Rank', 'Name', 'Team', 'Sort▼', 'G', 'GS', 'IP', 'BAFZ', 'RF9', 'ofAss', 'F12', 'F12', 'F12', 'F23', 'F23', 'F23', 'F34', 'F34', 'F34', 'H13', 'H13', 'H13', 'H24', 'H24', 'H24', 'D14', 'D14', 'D14', '수비 관련 득점 기여도', '수비 관련 득점 기여도', '수비 관련 득점 기여도', '수비 관련 득점 기여도', '수비 관련 득점 기여도']\n",
      "13 ['Rank', 'Name', 'Team', '수비 관련 득점 기여도-종합 RAA', 'G', 'GS', 'IP', 'BAFZ', 'RF9', 'ofAss', 'A', 'N', '%', 'A', 'N', '%', 'A', 'N', '%', 'A', 'N', '%', 'A', 'N', '%', 'A', 'N', '%', 'Range RAA', 'Arm RAA', 'Err RAA', '종합 RAA▼', '/144']\n",
      "14 ['11', '김인태', '24  RF', '-0.65', '1', '1', '6.0', '100.0', '3.00', '0', '0', '1', '0.0', '0', '0', '', '0', '0', '', '0', '0', '', '0', '0', '', '0', '0', '', '-0.68', '0.01', '0.02', '-0.65', '-9.30']\n",
      "15 ['12', '김태근', '24  LF', '-0.86', '5', '3', '30.2', '28.6', '2.35', '0', '0', '4', '0.0', '0', '0', '', '0', '0', '', '2', '7', '', '0', '2', '', '0', '1', '', '-1.07', '0.18', '0.03', '-0.86', '-6.51']\n",
      "16 ['13', '김인태', '24  LF', '-1.37', '7', '5', '38.0', '0.0', '1.18', '0', '0', '0', '', '0', '0', '', '0', '0', '', '0', '5', '', '0', '0', '', '0', '1', '', '-1.83', '0.43', '0.04', '-1.37', '-19.69']\n",
      "17 ['14', '김태근', '24  CF', '-1.58', '5', '1', '17.0', '33.3', '1.59', '0', '0', '0', '', '0', '1', '0.0', '0', '0', '', '1', '0', '', '0', '1', '', '1', '1', '', '-1.11', '-0.50', '0.03', '-1.58', '-11.96']\n",
      "18 ['15', '김대한', '24  LF', '-1.67', '8', '4', '41.0', '25.0', '2.20', '0', '0', '3', '0.0', '0', '0', '', '0', '0', '', '1', '6', '', '0', '2', '', '0', '1', '', '-2.07', '0.36', '0.04', '-1.67', '-9.25']\n",
      "19 ['16', '김재환', '24  LF', '-1.75', '11', '11', '85.1', '25.0', '2.00', '0', '0', '3', '0.0', '0', '1', '0.0', '0', '0', '', '1', '6', '', '0', '2', '', '2', '4', '', '-1.75', '-0.08', '0.08', '-1.75', '-6.14']\n"
     ]
    }
   ],
   "source": [
    "temp = soup.find_all('table')\n",
    "p = parser.make2d(temp[0])    \n",
    "for i in range(len(p)):\n",
    "    print(i, p[i])"
   ]
  },
  {
   "cell_type": "code",
   "execution_count": 8,
   "id": "b5523464",
   "metadata": {},
   "outputs": [],
   "source": [
    "num = (len(p) // 10)-1\n",
    "start_num = num\n",
    "for i in range(num*2+1, 1, -1):\n",
    "    n = start_num * 10 + (i)\n",
    "    p.pop(n)\n",
    "    if i % 2 == 0:\n",
    "        start_num -= 1"
   ]
  },
  {
   "cell_type": "code",
   "execution_count": 15,
   "id": "7147ff2d",
   "metadata": {},
   "outputs": [
    {
     "name": "stdout",
     "output_type": "stream",
     "text": [
      "   Rank Name Position   G  GS     IP   BAFZ   RF9 ofAss F12 A  ... H24 %  \\\n",
      "2     1  조수행       LF  26  20  185.0   35.5  2.68     1     0  ...         \n",
      "3     2  김대한       RF  16  10   97.0   52.6  2.41     0     0  ...   0.0   \n",
      "4     3  정수빈       CF  42  42  347.0   45.2  2.59     2     1  ...   0.0   \n",
      "5     4  조수행       RF   7   2   22.0   40.0  2.05     1     0  ...         \n",
      "6     5  전다민       CF   1   0    2.0         0.00     0     0  ...         \n",
      "7     6  김대한       CF   1   0    2.0         0.00     0     0  ...         \n",
      "8     7  김태근       RF   5   0    9.0    0.0  3.00     0     0  ...         \n",
      "9     8  홍성호       RF   2   0    4.0         0.00     0     0  ...         \n",
      "10    9  라모스       RF  30  30  242.0   30.6  1.64     0     0  ...         \n",
      "11   10  조수행       CF   4   0   12.0    0.0  2.25     1     0  ...         \n",
      "12   11  김인태       RF   1   1    6.0  100.0  3.00     0     0  ...         \n",
      "13   12  김태근       LF   5   3   30.2   28.6  2.35     0     0  ...         \n",
      "14   13  김인태       LF   7   5   38.0    0.0  1.18     0     0  ...         \n",
      "15   14  김태근       CF   5   1   17.0   33.3  1.59     0     0  ...         \n",
      "16   15  김대한       LF   8   4   41.0   25.0  2.20     0     0  ...         \n",
      "17   16  김재환       LF  11  11   85.1   25.0  2.00     0     0  ...         \n",
      "\n",
      "   D14 A D14 N D14 % Range RAA Arm RAA Err RAA Total RAA    /144    Team  \n",
      "2      3     6            5.85   -0.30    0.18      5.74   22.94  Doosan  \n",
      "3      0     1   0.0      2.85   -0.42   -0.15      2.28   12.60  Doosan  \n",
      "4      5     7   0.0     -0.69    0.92    0.02      0.26    0.89  Doosan  \n",
      "5      1     1            0.07    0.10    0.08      0.25    0.99  Doosan  \n",
      "6      0     0                            0.00      0.00    0.22  Doosan  \n",
      "7      0     0            0.00            0.00      0.00    0.02  Doosan  \n",
      "8      0     0            0.29   -0.33    0.03     -0.01   -0.05  Doosan  \n",
      "9      0     0           -0.04            0.01     -0.03   -1.32  Doosan  \n",
      "10     1     4            0.28   -0.27   -0.14     -0.13   -0.60  Doosan  \n",
      "11     0     0           -0.69    0.17    0.02     -0.51   -2.02  Doosan  \n",
      "12     0     0           -0.68    0.01    0.02     -0.65   -9.30  Doosan  \n",
      "13     0     1           -1.07    0.18    0.03     -0.86   -6.51  Doosan  \n",
      "14     0     1           -1.83    0.43    0.04     -1.37  -19.69  Doosan  \n",
      "15     1     1           -1.11   -0.50    0.03     -1.58  -11.96  Doosan  \n",
      "16     0     1           -2.07    0.36    0.04     -1.67   -9.25  Doosan  \n",
      "17     2     4           -1.75   -0.08    0.08     -1.75   -6.14  Doosan  \n",
      "\n",
      "[16 rows x 33 columns]\n"
     ]
    }
   ],
   "source": [
    "data=pd.DataFrame(p)\n",
    "data=data[2:]\n",
    "data.columns = [\"Rank\", \"Name\", \"Position\",\"Total RAA2\",\"G\", \"GS\",\"IP\", \"BAFZ\",\"RF9\",\"ofAss\",\"F12 A\",\"F12 N\",\"F12 %\",\"F23 A\",\"F23 N\",\"F23 %\",\"F34 A\",\"F34 N\",\"F34 %\",\"H13 A\", \"H13 N\", \"H13 %\", \"H24 A\", \"H24 N\", \"H24 %\", \"D14 A\", \"D14 N\", \"D14 %\", \"Range RAA\", \"Arm RAA\", \"Err RAA\",\"Total RAA\", \"/144\"]\n",
    "data.drop(columns=['Total RAA2'], inplace=True)\n",
    "data['Position'].replace({\"24  \":\"\"}, regex=True, inplace=True)\n",
    "data['Team']=\"Doosan\"\n",
    "print(data)"
   ]
  },
  {
   "cell_type": "code",
   "execution_count": 16,
   "id": "9109adba",
   "metadata": {},
   "outputs": [],
   "source": [
    "data.to_csv(\"Doosan_field_OF.csv\", index=False)"
   ]
  },
  {
   "cell_type": "code",
   "execution_count": null,
   "id": "3476ffda",
   "metadata": {},
   "outputs": [],
   "source": []
  }
 ],
 "metadata": {
  "kernelspec": {
   "display_name": "Python 3 (ipykernel)",
   "language": "python",
   "name": "python3"
  },
  "language_info": {
   "codemirror_mode": {
    "name": "ipython",
    "version": 3
   },
   "file_extension": ".py",
   "mimetype": "text/x-python",
   "name": "python",
   "nbconvert_exporter": "python",
   "pygments_lexer": "ipython3",
   "version": "3.11.5"
  }
 },
 "nbformat": 4,
 "nbformat_minor": 5
}
