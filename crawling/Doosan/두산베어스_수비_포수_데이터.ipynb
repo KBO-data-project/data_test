{
 "cells": [
  {
   "cell_type": "code",
   "execution_count": 31,
   "id": "0551d6d4",
   "metadata": {},
   "outputs": [
    {
     "name": "stdout",
     "output_type": "stream",
     "text": [
      "Requirement already satisfied: selenium in c:\\users\\melid\\anaconda3\\lib\\site-packages (4.19.0)\n",
      "Requirement already satisfied: urllib3[socks]<3,>=1.26 in c:\\users\\melid\\anaconda3\\lib\\site-packages (from selenium) (1.26.16)\n",
      "Requirement already satisfied: trio~=0.17 in c:\\users\\melid\\anaconda3\\lib\\site-packages (from selenium) (0.25.0)\n",
      "Requirement already satisfied: trio-websocket~=0.9 in c:\\users\\melid\\anaconda3\\lib\\site-packages (from selenium) (0.11.1)\n",
      "Requirement already satisfied: certifi>=2021.10.8 in c:\\users\\melid\\anaconda3\\lib\\site-packages (from selenium) (2024.2.2)\n",
      "Requirement already satisfied: typing_extensions>=4.9.0 in c:\\users\\melid\\anaconda3\\lib\\site-packages (from selenium) (4.10.0)\n",
      "Requirement already satisfied: attrs>=23.2.0 in c:\\users\\melid\\anaconda3\\lib\\site-packages (from trio~=0.17->selenium) (23.2.0)\n",
      "Requirement already satisfied: sortedcontainers in c:\\users\\melid\\anaconda3\\lib\\site-packages (from trio~=0.17->selenium) (2.4.0)\n",
      "Requirement already satisfied: idna in c:\\users\\melid\\anaconda3\\lib\\site-packages (from trio~=0.17->selenium) (3.4)\n",
      "Requirement already satisfied: outcome in c:\\users\\melid\\anaconda3\\lib\\site-packages (from trio~=0.17->selenium) (1.3.0.post0)\n",
      "Requirement already satisfied: sniffio>=1.3.0 in c:\\users\\melid\\anaconda3\\lib\\site-packages (from trio~=0.17->selenium) (1.3.1)\n",
      "Requirement already satisfied: cffi>=1.14 in c:\\users\\melid\\anaconda3\\lib\\site-packages (from trio~=0.17->selenium) (1.15.1)\n",
      "Requirement already satisfied: wsproto>=0.14 in c:\\users\\melid\\anaconda3\\lib\\site-packages (from trio-websocket~=0.9->selenium) (1.2.0)\n",
      "Requirement already satisfied: PySocks!=1.5.7,<2.0,>=1.5.6 in c:\\users\\melid\\anaconda3\\lib\\site-packages (from urllib3[socks]<3,>=1.26->selenium) (1.7.1)\n",
      "Requirement already satisfied: pycparser in c:\\users\\melid\\anaconda3\\lib\\site-packages (from cffi>=1.14->trio~=0.17->selenium) (2.21)\n",
      "Requirement already satisfied: h11<1,>=0.9.0 in c:\\users\\melid\\anaconda3\\lib\\site-packages (from wsproto>=0.14->trio-websocket~=0.9->selenium) (0.14.0)\n",
      "Collecting html_table_parser\n",
      "  Downloading html_table_parser-0.1.0.tar.gz (3.4 kB)\n",
      "  Preparing metadata (setup.py): started\n",
      "  Preparing metadata (setup.py): finished with status 'done'\n",
      "Collecting beautifulsoup4==4.4.1 (from html_table_parser)\n",
      "  Obtaining dependency information for beautifulsoup4==4.4.1 from https://files.pythonhosted.org/packages/cf/69/9abfdab06490af5e0233bcebe3f617ec128486d94ea987ad4f77b9332eef/beautifulsoup4-4.4.1-py3-none-any.whl.metadata\n",
      "  Downloading beautifulsoup4-4.4.1-py3-none-any.whl.metadata (1.1 kB)\n",
      "Downloading beautifulsoup4-4.4.1-py3-none-any.whl (81 kB)\n",
      "   ---------------------------------------- 0.0/81.4 kB ? eta -:--:--\n",
      "   --------------- ------------------------ 30.7/81.4 kB 1.4 MB/s eta 0:00:01\n",
      "   ---------------------------------------- 81.4/81.4 kB 1.5 MB/s eta 0:00:00\n",
      "Building wheels for collected packages: html_table_parser\n",
      "  Building wheel for html_table_parser (setup.py): started\n",
      "  Building wheel for html_table_parser (setup.py): finished with status 'done'\n",
      "  Created wheel for html_table_parser: filename=html_table_parser-0.1.0-py3-none-any.whl size=4638 sha256=2f599eac9f28c620288fd47ba00512a4bafaa8e8464d32c88e500e5168094cc8\n",
      "  Stored in directory: c:\\users\\melid\\appdata\\local\\pip\\cache\\wheels\\3f\\61\\3e\\205c3503f7c244357c1ba105368ba70095a71a075624689850\n",
      "Successfully built html_table_parser\n",
      "Installing collected packages: beautifulsoup4, html_table_parser\n",
      "  Attempting uninstall: beautifulsoup4\n",
      "    Found existing installation: beautifulsoup4 4.12.2\n",
      "    Uninstalling beautifulsoup4-4.12.2:\n",
      "      Successfully uninstalled beautifulsoup4-4.12.2\n",
      "Successfully installed beautifulsoup4-4.4.1 html_table_parser-0.1.0\n"
     ]
    },
    {
     "name": "stderr",
     "output_type": "stream",
     "text": [
      "ERROR: pip's dependency resolver does not currently take into account all the packages that are installed. This behaviour is the source of the following dependency conflicts.\n",
      "spyder 5.4.3 requires jedi<0.19.0,>=0.17.2, but you have jedi 0.19.1 which is incompatible.\n"
     ]
    }
   ],
   "source": [
    "! pip install selenium\n",
    "! pip install html_table_parser"
   ]
  },
  {
   "cell_type": "code",
   "execution_count": 1,
   "id": "39de7e59",
   "metadata": {},
   "outputs": [],
   "source": [
    "from selenium import webdriver\n",
    "from selenium.webdriver.common.keys import Keys\n",
    "from selenium.webdriver.common.by import By\n",
    "import time"
   ]
  },
  {
   "cell_type": "code",
   "execution_count": 2,
   "id": "bd840529",
   "metadata": {},
   "outputs": [],
   "source": [
    "driver = webdriver.Chrome()"
   ]
  },
  {
   "cell_type": "code",
   "execution_count": 3,
   "id": "887343fe",
   "metadata": {},
   "outputs": [],
   "source": [
    "url = \"https://statiz.sporki.com/stats/?m=main&m2=all\"\n",
    "driver.get(url)"
   ]
  },
  {
   "cell_type": "code",
   "execution_count": 4,
   "id": "eec9bc4c",
   "metadata": {},
   "outputs": [],
   "source": [
    "driver.find_element(By.XPATH, '/html/body/div[2]/div[5]/section/div[1]/div/button[4]').click()\n",
    "\n",
    "# 팀 옵션 드롭다운 선택\n",
    "driver.find_element(By.XPATH, '//*[@id=\"select_team\"]/button').click()\n",
    "# 삼성 라이온즈 선택\n",
    "driver.find_element(By.XPATH, '//*[@id=\"select_team\"]/ul/li[5]').click()\n",
    "\n",
    "# 수비 > 포수 선택\n",
    "driver.find_element(By.XPATH, '/html/body/div[2]/div[5]/section/div[6]/ul/li[2]/a').click()"
   ]
  },
  {
   "cell_type": "code",
   "execution_count": 5,
   "id": "d40fd5a1",
   "metadata": {},
   "outputs": [],
   "source": [
    "from urllib.request import urlopen\n",
    "\n",
    "import collections\n",
    "collections.Callable = collections.abc.Callable\n",
    "\n",
    "from bs4 import BeautifulSoup\n",
    "from html_table_parser import parser_functions as parser\n",
    "import pandas as pd"
   ]
  },
  {
   "cell_type": "code",
   "execution_count": 6,
   "id": "879f5b0b",
   "metadata": {},
   "outputs": [],
   "source": [
    "page = driver.page_source\n",
    "soup = BeautifulSoup(page, 'html.parser')"
   ]
  },
  {
   "cell_type": "code",
   "execution_count": 7,
   "id": "22e78c51",
   "metadata": {},
   "outputs": [
    {
     "name": "stdout",
     "output_type": "stream",
     "text": [
      "0 ['Rank', 'Name', 'Team', 'Sort▼', 'G', 'GS', 'IP', 'WP', 'PB', 'Pass9', '주자 견제', '주자 견제', '주자 견제', '주자 견제', '주자 견제', '도루 허용 상황', '도루 허용 상황', '도루 허용 상황', '도루 허용 상황', '도루 저지 상황', '도루 저지 상황', '도루 저지 상황', '도루 저지 상황', '수비 관련 득점 기여도', '수비 관련 득점 기여도', '수비 관련 득점 기여도', '수비 관련 득점 기여도', '수비 관련 득점 기여도', '수비 관련 득점 기여도', '수비 관련 득점 기여도']\n",
      "1 ['Rank', 'Name', 'Team', '수비 관련 득점 기여도-종합 RAA', 'G', 'GS', 'IP', 'WP', 'PB', 'Pass9', 'SB', 'CS', 'CS%', 'SBA', 'SBA%', '2루', '3루', '홈', '더블', '2루', '3루', '홈', '더블', 'Range RAA', 'Err RAA', 'CS RAA', 'Blk RAA', 'Frm RAA', '종합 RAA▼', '/144']\n",
      "2 ['1', '김기연', '24  C', '0.66', '17', '10', '108.0', '6', '0', '0.500', '4', '2', '33.3', '168', '3.6', '2', '2', '0', '0', '2', '0', '0', '0', '0.25', '-0.51', '0.19', '0.72', '', '0.66', '5.28']\n",
      "3 ['2', '안승한', '24  C', '0.58', '2', '1', '9.1', '0', '0', '0.000', '1', '0', '0.0', '17', '5.9', '1', '0', '0', '0', '0', '0', '0', '0', '0.00', '0.04', '0.00', '0.54', '', '0.58', '20.79']\n",
      "4 ['3', '장승현', '24  C', '0.55', '9', '7', '58.0', '4', '0', '0.621', '3', '0', '0.0', '88', '3.4', '3', '0', '0', '0', '0', '0', '0', '0', '-0.15', '0.26', '0.00', '0.37', '', '0.55', '8.73']\n",
      "5 ['4', '윤준호', '24  C', '-0.50', '1', '0', '2.0', '1', '0', '4.500', '0', '0', '', '3', '0.0', '0', '0', '0', '0', '0', '0', '0', '0', '0.00', '0.01', '', '-0.51', '', '-0.50', '-71.61']\n",
      "6 ['5', '양의지', '24  C', '-0.98', '25', '25', '202.2', '12', '2', '0.622', '16', '1', '5.9', '315', '5.4', '14', '2', '0', '1', '1', '0', '0', '0', '-0.12', '0.42', '-0.19', '-1.12', '', '-0.98', '-3.72']\n",
      "7\n"
     ]
    }
   ],
   "source": [
    "temp = soup.find_all('table')\n",
    "p = parser.make2d(temp[0])    \n",
    "for i in range(len(p)):\n",
    "    print(i, p[i])\n",
    "print(len(p))"
   ]
  },
  {
   "cell_type": "code",
   "execution_count": 8,
   "id": "b5523464",
   "metadata": {},
   "outputs": [],
   "source": [
    "num = (len(p) // 10)\n",
    "\n",
    "start_num = 2\n",
    "for i in range(num*2+1, 1, -1):\n",
    "    n = start_num * 10 + (i-2)\n",
    "    print(n)\n",
    "    if i % 2 == 0:\n",
    "        start_num -= 1"
   ]
  },
  {
   "cell_type": "code",
   "execution_count": 11,
   "id": "7147ff2d",
   "metadata": {},
   "outputs": [
    {
     "name": "stdout",
     "output_type": "stream",
     "text": [
      "  Rank Name Position   G  GS     IP  WP PB  Pass9  SB  ... CS H CS Double  \\\n",
      "2    1  김기연        C  17  10  108.0   6  0  0.500   4  ...    0         0   \n",
      "3    2  안승한        C   2   1    9.1   0  0  0.000   1  ...    0         0   \n",
      "4    3  장승현        C   9   7   58.0   4  0  0.621   3  ...    0         0   \n",
      "5    4  윤준호        C   1   0    2.0   1  0  4.500   0  ...    0         0   \n",
      "6    5  양의지        C  25  25  202.2  12  2  0.622  16  ...    0         0   \n",
      "\n",
      "  Range RAA Err RAA CS RAA Blk RAA Frm RAA Total RAA    /144    Team  \n",
      "2      0.25   -0.51   0.19    0.72              0.66    5.28  Doosan  \n",
      "3      0.00    0.04   0.00    0.54              0.58   20.79  Doosan  \n",
      "4     -0.15    0.26   0.00    0.37              0.55    8.73  Doosan  \n",
      "5      0.00    0.01          -0.51             -0.50  -71.61  Doosan  \n",
      "6     -0.12    0.42  -0.19   -1.12             -0.98   -3.72  Doosan  \n",
      "\n",
      "[5 rows x 30 columns]\n"
     ]
    }
   ],
   "source": [
    "data=pd.DataFrame(p)\n",
    "data=data[2:]\n",
    "data.columns=[\"Rank\", \"Name\", \"Position\", \"Total RAA2\",\"G\", \"GS\", \"IP\", \"WP\", \"PB\", \"Pass9\", \"SB\", \"CS\", \"CS%\", \"SBA\", \"SBA%\", \"SB 2\", \"SB 3\", \"SB H\", \"SB Double\", \"CS 2\", \"CS 3\", \"CS H\", \"CS Double\", \"Range RAA\", \"Err RAA\", \"CS RAA\", \"Blk RAA\", \"Frm RAA\",\"Total RAA\", \"/144\"]\n",
    "data.drop(columns=['Total RAA2'], inplace=True)\n",
    "data['Team'] = \"Doosan\"\n",
    "data['Position'].replace({\"24  \":\"\"}, regex=True, inplace=True)\n",
    "print(data)"
   ]
  },
  {
   "cell_type": "code",
   "execution_count": 12,
   "id": "9109adba",
   "metadata": {},
   "outputs": [],
   "source": [
    "data.to_csv(\"Doosan_field_C.csv\", index=False)"
   ]
  },
  {
   "cell_type": "code",
   "execution_count": null,
   "id": "3476ffda",
   "metadata": {},
   "outputs": [],
   "source": []
  }
 ],
 "metadata": {
  "kernelspec": {
   "display_name": "Python 3 (ipykernel)",
   "language": "python",
   "name": "python3"
  },
  "language_info": {
   "codemirror_mode": {
    "name": "ipython",
    "version": 3
   },
   "file_extension": ".py",
   "mimetype": "text/x-python",
   "name": "python",
   "nbconvert_exporter": "python",
   "pygments_lexer": "ipython3",
   "version": "3.11.5"
  }
 },
 "nbformat": 4,
 "nbformat_minor": 5
}
