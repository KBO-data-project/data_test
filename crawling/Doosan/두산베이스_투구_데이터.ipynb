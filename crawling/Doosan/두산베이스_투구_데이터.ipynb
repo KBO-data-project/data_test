{
 "cells": [
  {
   "cell_type": "code",
   "execution_count": 2,
   "id": "0551d6d4",
   "metadata": {},
   "outputs": [
    {
     "name": "stdout",
     "output_type": "stream",
     "text": [
      "Requirement already satisfied: selenium in c:\\users\\melid\\anaconda3\\lib\\site-packages (4.19.0)\n",
      "Requirement already satisfied: urllib3[socks]<3,>=1.26 in c:\\users\\melid\\anaconda3\\lib\\site-packages (from selenium) (1.26.16)\n",
      "Requirement already satisfied: trio~=0.17 in c:\\users\\melid\\anaconda3\\lib\\site-packages (from selenium) (0.25.0)\n",
      "Requirement already satisfied: trio-websocket~=0.9 in c:\\users\\melid\\anaconda3\\lib\\site-packages (from selenium) (0.11.1)\n",
      "Requirement already satisfied: certifi>=2021.10.8 in c:\\users\\melid\\anaconda3\\lib\\site-packages (from selenium) (2024.2.2)\n",
      "Requirement already satisfied: typing_extensions>=4.9.0 in c:\\users\\melid\\anaconda3\\lib\\site-packages (from selenium) (4.10.0)\n",
      "Requirement already satisfied: attrs>=23.2.0 in c:\\users\\melid\\anaconda3\\lib\\site-packages (from trio~=0.17->selenium) (23.2.0)\n",
      "Requirement already satisfied: sortedcontainers in c:\\users\\melid\\anaconda3\\lib\\site-packages (from trio~=0.17->selenium) (2.4.0)\n",
      "Requirement already satisfied: idna in c:\\users\\melid\\anaconda3\\lib\\site-packages (from trio~=0.17->selenium) (3.4)\n",
      "Requirement already satisfied: outcome in c:\\users\\melid\\anaconda3\\lib\\site-packages (from trio~=0.17->selenium) (1.3.0.post0)\n",
      "Requirement already satisfied: sniffio>=1.3.0 in c:\\users\\melid\\anaconda3\\lib\\site-packages (from trio~=0.17->selenium) (1.3.1)\n",
      "Requirement already satisfied: cffi>=1.14 in c:\\users\\melid\\anaconda3\\lib\\site-packages (from trio~=0.17->selenium) (1.15.1)\n",
      "Requirement already satisfied: wsproto>=0.14 in c:\\users\\melid\\anaconda3\\lib\\site-packages (from trio-websocket~=0.9->selenium) (1.2.0)\n",
      "Requirement already satisfied: PySocks!=1.5.7,<2.0,>=1.5.6 in c:\\users\\melid\\anaconda3\\lib\\site-packages (from urllib3[socks]<3,>=1.26->selenium) (1.7.1)\n",
      "Requirement already satisfied: pycparser in c:\\users\\melid\\anaconda3\\lib\\site-packages (from cffi>=1.14->trio~=0.17->selenium) (2.21)\n",
      "Requirement already satisfied: h11<1,>=0.9.0 in c:\\users\\melid\\anaconda3\\lib\\site-packages (from wsproto>=0.14->trio-websocket~=0.9->selenium) (0.14.0)\n",
      "Requirement already satisfied: html_table_parser in c:\\users\\melid\\anaconda3\\lib\\site-packages (0.1.0)\n",
      "Requirement already satisfied: beautifulsoup4==4.4.1 in c:\\users\\melid\\anaconda3\\lib\\site-packages (from html_table_parser) (4.4.1)\n"
     ]
    }
   ],
   "source": [
    "! pip install selenium\n",
    "! pip install html_table_parser"
   ]
  },
  {
   "cell_type": "code",
   "execution_count": 1,
   "id": "39de7e59",
   "metadata": {},
   "outputs": [],
   "source": [
    "from selenium import webdriver\n",
    "from selenium.webdriver.common.keys import Keys\n",
    "from selenium.webdriver.common.by import By\n",
    "import time"
   ]
  },
  {
   "cell_type": "code",
   "execution_count": 2,
   "id": "bd840529",
   "metadata": {},
   "outputs": [],
   "source": [
    "driver = webdriver.Chrome()"
   ]
  },
  {
   "cell_type": "code",
   "execution_count": 3,
   "id": "887343fe",
   "metadata": {},
   "outputs": [],
   "source": [
    "url = \"https://statiz.sporki.com/stats/?m=main&m2=all\"\n",
    "driver.get(url)"
   ]
  },
  {
   "cell_type": "code",
   "execution_count": 4,
   "id": "eec9bc4c",
   "metadata": {
    "scrolled": true
   },
   "outputs": [],
   "source": [
    "# 옵션 선택\n",
    "driver.find_element(By.XPATH, '/html/body/div[2]/div[5]/section/div[1]/div/button[3]').click()\n",
    "\n",
    "# 팀 옵션 드롭다운 선택\n",
    "driver.find_element(By.XPATH, '//*[@id=\"select_team\"]/button').click()\n",
    "# 두산 베어스 선택\n",
    "driver.find_element(By.XPATH, '//*[@id=\"select_team\"]/ul/li[5]').click()\n",
    "\n",
    "# 규정 드롭다운 선택\n",
    "driver.find_element(By.XPATH, '//*[@id=\"select_reg\"]/button').click()\n",
    "# 규정 > 전체 선택\n",
    "driver.find_element(By.XPATH, '//*[@id=\"select_reg\"]/ul/li[5]').click()"
   ]
  },
  {
   "cell_type": "code",
   "execution_count": 5,
   "id": "d40fd5a1",
   "metadata": {},
   "outputs": [],
   "source": [
    "from urllib.request import urlopen\n",
    "\n",
    "import collections\n",
    "collections.Callable = collections.abc.Callable\n",
    "\n",
    "from bs4 import BeautifulSoup\n",
    "from html_table_parser import parser_functions as parser\n",
    "import pandas as pd"
   ]
  },
  {
   "cell_type": "code",
   "execution_count": 6,
   "id": "879f5b0b",
   "metadata": {},
   "outputs": [],
   "source": [
    "page = driver.page_source\n",
    "soup = BeautifulSoup(page, 'html.parser')"
   ]
  },
  {
   "cell_type": "code",
   "execution_count": 7,
   "id": "22e78c51",
   "metadata": {},
   "outputs": [
    {
     "name": "stdout",
     "output_type": "stream",
     "text": [
      "0 ['Rank', 'Name', 'Team', 'Sort▼', 'G', 'GS', 'GR', 'GF', 'CG', 'SHO', 'W', 'L', 'S', 'HD', 'IP', 'ER', 'R', 'rRA', 'TBF', 'H', '2B', '3B', 'HR', 'BB', 'HP', 'IB', 'SO', 'ROE', 'BK', 'WP', 'ERA', 'RA9', 'rRA9', 'rRA9pf', 'FIP', 'WHIP', 'WAR▼']\n",
      "1 ['Rank', 'Name', 'Team', 'WAR', 'G', 'GS', 'GR', 'GF', 'CG', 'SHO', 'W', 'L', 'S', 'HD', 'IP', 'ER', 'R', 'rRA', 'TBF', 'H', '2B', '3B', 'HR', 'BB', 'HP', 'IB', 'SO', 'ROE', 'BK', 'WP', 'ERA', 'RA9', 'rRA9', 'rRA9pf', 'FIP', 'WHIP', 'WAR▼']\n",
      "2 ['1', '곽빈', '24  P', '1.53', '9', '9', '0', '0', '0', '0', '3', '4', '0', '0', '52.0', '22', '23', '21.80', '219', '46', '7', '0', '1', '19', '2', '0', '51', '2', '0', '5', '3.81', '3.98', '3.77', '3.69', '3.24', '1.25', '1.53']\n",
      "3 ['2', '브랜든', '24  P', '1.39', '6', '6', '0', '0', '0', '0', '4', '2', '0', '0', '34.0', '6', '11', '9.45', '139', '28', '5', '1', '0', '5', '3', '0', '34', '6', '0', '2', '1.59', '2.91', '2.50', '2.57', '2.44', '0.97', '1.39']\n",
      "4 ['3', '알칸타라', '24  P', '1.24', '5', '5', '0', '0', '0', '0', '1', '1', '0', '0', '31.1', '8', '9', '8.65', '121', '23', '4', '2', '1', '7', '1', '0', '16', '1', '0', '0', '2.30', '2.59', '2.48', '2.61', '4.11', '0.96', '1.24']\n",
      "5 ['4', '홍건희', '24  P', '0.59', '15', '0', '15', '11', '0', '0', '0', '0', '6', '0', '13.1', '2', '2', '2.35', '55', '6', '0', '0', '0', '10', '0', '2', '9', '0', '0', '2', '1.35', '1.35', '1.59', '1.71', '4.39', '1.20', '0.59']\n",
      "6 ['5', '이병헌', '24  P', '0.53', '23', '0', '23', '2', '0', '0', '4', '0', '0', '3', '22.0', '7', '8', '8.80', '91', '15', '3', '0', '1', '13', '0', '0', '19', '0', '1', '0', '2.86', '3.27', '3.60', '3.69', '4.43', '1.27', '0.53']\n",
      "7 ['6', '김택연', '24  P', '0.49', '16', '0', '16', '6', '0', '0', '1', '0', '0', '3', '17.1', '4', '5', '5.00', '76', '14', '6', '0', '0', '10', '1', '0', '20', '1', '0', '0', '2.08', '2.60', '2.60', '2.60', '3.30', '1.38', '0.49']\n",
      "8 ['7', '김강률', '24  P', '0.27', '7', '0', '7', '0', '0', '0', '0', '0', '0', '1', '7.0', '1', '2', '1.30', '31', '8', '0', '0', '0', '1', '0', '0', '6', '1', '0', '0', '1.29', '2.57', '1.67', '1.80', '2.51', '1.29', '0.27']\n",
      "9 ['8', '최지강', '24  P', '0.26', '23', '0', '23', '0', '0', '0', '1', '0', '0', '10', '20.2', '5', '6', '10.85', '94', '19', '2', '1', '2', '10', '5', '1', '20', '1', '0', '1', '2.18', '2.61', '4.72', '4.80', '5.05', '1.40', '0.26']\n",
      "10 ['9', '최준호', '24  P', '0.21', '5', '4', '1', '0', '0', '0', '1', '0', '0', '0', '21.1', '11', '14', '14.15', '95', '23', '2', '1', '6', '8', '1', '0', '22', '1', '0', '1', '4.64', '5.91', '5.97', '5.94', '6.29', '1.45', '0.21']\n",
      "11 ['10', '김유성', '24  P', '0.18', '3', '3', '0', '0', '0', '0', '1', '0', '0', '0', '9.1', '5', '5', '4.65', '44', '9', '4', '0', '1', '7', '0', '0', '7', '0', '0', '0', '4.82', '4.82', '4.48', '4.64', '5.94', '1.71', '0.18']\n",
      "12 ['Rank', 'Name', 'Team', 'Sort▼', 'G', 'GS', 'GR', 'GF', 'CG', 'SHO', 'W', 'L', 'S', 'HD', 'IP', 'ER', 'R', 'rRA', 'TBF', 'H', '2B', '3B', 'HR', 'BB', 'HP', 'IB', 'SO', 'ROE', 'BK', 'WP', 'ERA', 'RA9', 'rRA9', 'rRA9pf', 'FIP', 'WHIP', 'WAR▼']\n",
      "13 ['Rank', 'Name', 'Team', 'WAR', 'G', 'GS', 'GR', 'GF', 'CG', 'SHO', 'W', 'L', 'S', 'HD', 'IP', 'ER', 'R', 'rRA', 'TBF', 'H', '2B', '3B', 'HR', 'BB', 'HP', 'IB', 'SO', 'ROE', 'BK', 'WP', 'ERA', 'RA9', 'rRA9', 'rRA9pf', 'FIP', 'WHIP', 'WAR▼']\n",
      "14 ['11', '박신지', '24  P', '0.15', '6', '1', '5', '1', '0', '0', '0', '1', '0', '0', '8.2', '2', '3', '4.05', '41', '8', '2', '0', '0', '8', '1', '0', '3', '1', '0', '0', '2.08', '3.12', '4.21', '4.25', '6.57', '1.85', '0.15']\n",
      "15 ['12', '최원준', '24  P', '0.11', '6', '6', '0', '0', '0', '0', '2', '2', '0', '0', '27.2', '21', '21', '20.30', '123', '28', '7', '2', '7', '11', '2', '0', '22', '1', '0', '0', '6.83', '6.83', '6.60', '6.65', '6.69', '1.41', '0.11']\n",
      "16 ['13', '박치국', '24  P', '0.08', '21', '0', '21', '5', '0', '0', '0', '2', '1', '2', '18.1', '12', '12', '11.85', '86', '22', '0', '0', '5', '5', '5', '1', '11', '1', '0', '0', '5.89', '5.89', '5.82', '5.69', '7.48', '1.47', '0.08']\n",
      "17 ['14', '이영하', '24  P', '0.06', '10', '1', '9', '2', '0', '0', '1', '0', '0', '0', '13.2', '9', '10', '9.65', '75', '21', '3', '1', '1', '13', '0', '0', '10', '1', '0', '3', '5.93', '6.59', '6.35', '6.43', '6.21', '2.49', '0.06']\n",
      "18 ['15', '박정수', '24  P', '0.05', '15', '1', '14', '1', '0', '0', '1', '2', '0', '3', '15.2', '10', '11', '11.55', '71', '19', '2', '0', '0', '7', '0', '0', '14', '0', '0', '2', '5.74', '6.32', '6.64', '6.62', '3.37', '1.66', '0.05']\n",
      "19 ['16', '이교훈', '24  P', '0.04', '1', '0', '1', '1', '0', '0', '0', '0', '0', '0', '1.0', '0', '0', '0.00', '3', '0', '0', '0', '0', '1', '0', '0', '0', '0', '0', '0', '0.00', '0.00', '0.00', '0.00', '7.31', '1.00', '0.04']\n",
      "20 ['17', '최종인', '24  P', '-0.01', '1', '0', '1', '0', '0', '0', '0', '0', '0', '0', '1.0', '2', '2', '2.00', '6', '2', '0', '0', '0', '1', '0', '0', '3', '0', '0', '0', '18.00', '18.00', '18.00', '16.64', '-0.19', '3.00', '-0.01']\n",
      "21 ['18', '김민규', '24  P', '-0.01', '5', '0', '5', '2', '0', '0', '0', '0', '0', '0', '4.0', '4', '6', '3.95', '20', '4', '2', '0', '1', '4', '0', '0', '2', '1', '0', '0', '9.00', '13.50', '8.89', '8.86', '9.04', '2.00', '-0.01']\n",
      "22 ['19', '정철원', '24  P', '-0.05', '13', '0', '13', '9', '0', '0', '1', '1', '6', '0', '10.2', '7', '7', '7.85', '58', '13', '2', '0', '2', '9', '4', '0', '12', '1', '0', '0', '5.91', '5.91', '6.62', '6.55', '7.41', '2.06', '-0.05']\n",
      "23 ['20', '박소준', '24  P', '-0.06', '1', '1', '0', '0', '0', '0', '0', '1', '0', '0', '4.0', '5', '5', '5.00', '20', '6', '0', '0', '2', '2', '0', '0', '2', '0', '0', '1', '11.25', '11.25', '11.25', '10.48', '10.46', '2.00', '-0.06']\n",
      "24 ['Rank', 'Name', 'Team', 'Sort▼', 'G', 'GS', 'GR', 'GF', 'CG', 'SHO', 'W', 'L', 'S', 'HD', 'IP', 'ER', 'R', 'rRA', 'TBF', 'H', '2B', '3B', 'HR', 'BB', 'HP', 'IB', 'SO', 'ROE', 'BK', 'WP', 'ERA', 'RA9', 'rRA9', 'rRA9pf', 'FIP', 'WHIP', 'WAR▼']\n",
      "25 ['Rank', 'Name', 'Team', 'WAR', 'G', 'GS', 'GR', 'GF', 'CG', 'SHO', 'W', 'L', 'S', 'HD', 'IP', 'ER', 'R', 'rRA', 'TBF', 'H', '2B', '3B', 'HR', 'BB', 'HP', 'IB', 'SO', 'ROE', 'BK', 'WP', 'ERA', 'RA9', 'rRA9', 'rRA9pf', 'FIP', 'WHIP', 'WAR▼']\n",
      "26 ['21', '김동주', '24  P', '-0.09', '8', '5', '3', '1', '0', '0', '1', '1', '0', '0', '27.0', '16', '23', '21.65', '139', '38', '7', '1', '0', '14', '4', '0', '20', '2', '0', '6', '5.33', '7.67', '7.22', '7.43', '4.43', '1.93', '-0.09']\n",
      "27 ['22', '김호준', '24  P', '-0.13', '10', '1', '9', '2', '0', '0', '1', '2', '0', '0', '8.2', '8', '9', '8.30', '44', '15', '4', '0', '1', '2', '2', '0', '5', '0', '0', '0', '8.31', '9.35', '8.62', '8.45', '5.58', '1.96', '-0.13']\n",
      "28 ['23', '김명신', '24  P', '-0.27', '14', '0', '14', '0', '0', '0', '1', '0', '0', '4', '11.1', '12', '12', '12.85', '61', '23', '3', '0', '2', '5', '0', '0', '12', '1', '0', '0', '9.53', '9.53', '10.20', '10.79', '5.04', '2.47', '-0.27']\n"
     ]
    }
   ],
   "source": [
    "temp = soup.find_all('table')\n",
    "p = parser.make2d(temp[0])    \n",
    "for i in range(len(p)):\n",
    "    print(i, p[i])"
   ]
  },
  {
   "cell_type": "code",
   "execution_count": 8,
   "id": "b5523464",
   "metadata": {},
   "outputs": [],
   "source": [
    "num = (len(p) // 10)\n",
    "start_num = 2\n",
    "for i in range(num*2+1, 1, -1):\n",
    "    n = start_num * 10 + (i)\n",
    "    p.pop(n)\n",
    "    if i % 2 == 0:\n",
    "        start_num -= 1"
   ]
  },
  {
   "cell_type": "code",
   "execution_count": 12,
   "id": "7147ff2d",
   "metadata": {
    "scrolled": true
   },
   "outputs": [
    {
     "name": "stdout",
     "output_type": "stream",
     "text": [
      "   Rank  Name Position    WAR   G GS  GR  GF CG SHO  ... ROE BK WP    ERA  \\\n",
      "2     1    곽빈        P   1.53   9  9   0   0  0   0  ...   2  0  5   3.81   \n",
      "3     2   브랜든        P   1.39   6  6   0   0  0   0  ...   6  0  2   1.59   \n",
      "4     3  알칸타라        P   1.24   5  5   0   0  0   0  ...   1  0  0   2.30   \n",
      "5     4   홍건희        P   0.59  15  0  15  11  0   0  ...   0  0  2   1.35   \n",
      "6     5   이병헌        P   0.53  23  0  23   2  0   0  ...   0  1  0   2.86   \n",
      "7     6   김택연        P   0.49  16  0  16   6  0   0  ...   1  0  0   2.08   \n",
      "8     7   김강률        P   0.27   7  0   7   0  0   0  ...   1  0  0   1.29   \n",
      "9     8   최지강        P   0.26  23  0  23   0  0   0  ...   1  0  1   2.18   \n",
      "10    9   최준호        P   0.21   5  4   1   0  0   0  ...   1  0  1   4.64   \n",
      "11   10   김유성        P   0.18   3  3   0   0  0   0  ...   0  0  0   4.82   \n",
      "12   11   박신지        P   0.15   6  1   5   1  0   0  ...   1  0  0   2.08   \n",
      "13   12   최원준        P   0.11   6  6   0   0  0   0  ...   1  0  0   6.83   \n",
      "14   13   박치국        P   0.08  21  0  21   5  0   0  ...   1  0  0   5.89   \n",
      "15   14   이영하        P   0.06  10  1   9   2  0   0  ...   1  0  3   5.93   \n",
      "16   15   박정수        P   0.05  15  1  14   1  0   0  ...   0  0  2   5.74   \n",
      "17   16   이교훈        P   0.04   1  0   1   1  0   0  ...   0  0  0   0.00   \n",
      "18   17   최종인        P  -0.01   1  0   1   0  0   0  ...   0  0  0  18.00   \n",
      "19   18   김민규        P  -0.01   5  0   5   2  0   0  ...   1  0  0   9.00   \n",
      "20   19   정철원        P  -0.05  13  0  13   9  0   0  ...   1  0  0   5.91   \n",
      "21   20   박소준        P  -0.06   1  1   0   0  0   0  ...   0  0  1  11.25   \n",
      "22   21   김동주        P  -0.09   8  5   3   1  0   0  ...   2  0  6   5.33   \n",
      "23   22   김호준        P  -0.13  10  1   9   2  0   0  ...   0  0  0   8.31   \n",
      "24   23   김명신        P  -0.27  14  0  14   0  0   0  ...   1  0  0   9.53   \n",
      "\n",
      "      RA9   rRA9 rRA9pf    FIP  WHIP    Team  \n",
      "2    3.98   3.77   3.69   3.24  1.25  Doosan  \n",
      "3    2.91   2.50   2.57   2.44  0.97  Doosan  \n",
      "4    2.59   2.48   2.61   4.11  0.96  Doosan  \n",
      "5    1.35   1.59   1.71   4.39  1.20  Doosan  \n",
      "6    3.27   3.60   3.69   4.43  1.27  Doosan  \n",
      "7    2.60   2.60   2.60   3.30  1.38  Doosan  \n",
      "8    2.57   1.67   1.80   2.51  1.29  Doosan  \n",
      "9    2.61   4.72   4.80   5.05  1.40  Doosan  \n",
      "10   5.91   5.97   5.94   6.29  1.45  Doosan  \n",
      "11   4.82   4.48   4.64   5.94  1.71  Doosan  \n",
      "12   3.12   4.21   4.25   6.57  1.85  Doosan  \n",
      "13   6.83   6.60   6.65   6.69  1.41  Doosan  \n",
      "14   5.89   5.82   5.69   7.48  1.47  Doosan  \n",
      "15   6.59   6.35   6.43   6.21  2.49  Doosan  \n",
      "16   6.32   6.64   6.62   3.37  1.66  Doosan  \n",
      "17   0.00   0.00   0.00   7.31  1.00  Doosan  \n",
      "18  18.00  18.00  16.64  -0.19  3.00  Doosan  \n",
      "19  13.50   8.89   8.86   9.04  2.00  Doosan  \n",
      "20   5.91   6.62   6.55   7.41  2.06  Doosan  \n",
      "21  11.25  11.25  10.48  10.46  2.00  Doosan  \n",
      "22   7.67   7.22   7.43   4.43  1.93  Doosan  \n",
      "23   9.35   8.62   8.45   5.58  1.96  Doosan  \n",
      "24   9.53  10.20  10.79   5.04  2.47  Doosan  \n",
      "\n",
      "[23 rows x 37 columns]\n"
     ]
    }
   ],
   "source": [
    "data=pd.DataFrame(p)\n",
    "data = data[2:]\n",
    "data.columns = [\"Rank\", \"Name\", \"Position\", \"WAR\", \"G\", \"GS\", \"GR\",\"GF\",\"CG\",\"SHO\",\"W\",\"L\",\"S\",\"HD\",\"IP\",\"ER\",\"R\", \"rRA\",\"TBF\",\"H\",\"2B\",\"3B\",\"HR\",\"BB\",\"HP\",\"IB\",\"SO\",\"ROE\",\"BK\",\"WP\",\"ERA\",\"RA9\",\"rRA9\",\"rRA9pf\",\"FIP\",\"WHIP\",\"WAR2\"]\n",
    "data['Position'].replace({\"24  P\" : \"P\"}, inplace=True)\n",
    "data['Team']=\"Doosan\"\n",
    "data.drop(columns=[\"WAR2\"], inplace=True)\n",
    "print(data)"
   ]
  },
  {
   "cell_type": "code",
   "execution_count": 13,
   "id": "9109adba",
   "metadata": {},
   "outputs": [],
   "source": [
    "data.to_csv(\"Doosan_pitch.csv\", index = False)"
   ]
  },
  {
   "cell_type": "code",
   "execution_count": 11,
   "id": "3476ffda",
   "metadata": {},
   "outputs": [
    {
     "name": "stdout",
     "output_type": "stream",
     "text": [
      "       0     1      2      3   4   5   6   7   8    9  ...   27  28  29  \\\n",
      "0   Rank  Name   Team    WAR   G  GS  GR  GF  CG  SHO  ...  ROE  BK  WP   \n",
      "1      1   원태인  24  P   2.04   8   8   0   0   0    0  ...    2   0   1   \n",
      "2      2   레예스  24  P   1.22   9   9   0   0   0    0  ...    1   0   1   \n",
      "3      3   이승현  24  P   0.89   4   4   0   0   0    0  ...    2   0   2   \n",
      "4      4   오승환  24  P   0.77  18   0  18  17   0    0  ...    0   0   2   \n",
      "5      5   김재윤  24  P   0.66  19   0  19   1   0    0  ...    0   0   1   \n",
      "6      6   임창민  24  P   0.60  19   0  19   1   0    0  ...    1   0   2   \n",
      "7      7    코너  24  P   0.57   9   9   0   0   0    0  ...    1   0   4   \n",
      "8      8   이호성  24  P   0.47   6   6   0   0   0    0  ...    0   0   1   \n",
      "9      9   김태훈  24  P   0.30  16   0  16   4   0    0  ...    0   0   2   \n",
      "10    10   최하늘  24  P   0.26  18   0  18   3   0    0  ...    3   0   2   \n",
      "11    11   이승현  24  P   0.13  15   0  15   1   0    0  ...    0   0   0   \n",
      "12    12   최성훈  24  P   0.10  17   0  17   0   0    0  ...    0   0   1   \n",
      "13    13   백정현  24  P   0.06   2   2   0   0   0    0  ...    0   0   0   \n",
      "14    14   홍원표  24  P   0.04   2   0   2   2   0    0  ...    0   0   0   \n",
      "15    15    양현  24  P   0.01   8   0   8   1   0    0  ...    0   0   0   \n",
      "16    16   장필준  24  P  -0.01   1   0   1   0   0    0  ...    0   0   1   \n",
      "17    17   홍정우  24  P  -0.03   1   0   1   1   0    0  ...    0   0   0   \n",
      "18    18   이상민  24  P  -0.07   4   0   4   0   0    0  ...    0   0   0   \n",
      "19    19   김대우  24  P  -0.07   9   0   9   6   0    0  ...    1   0   1   \n",
      "20    20   육선엽  24  P  -0.08   3   0   3   2   0    0  ...    1   0   0   \n",
      "21    21   이재익  24  P  -0.10   3   0   3   0   0    0  ...    0   0   0   \n",
      "22    22   이승민  24  P  -0.38  10   3   7   2   0    0  ...    2   0   0   \n",
      "\n",
      "       30     31      32      33     34     35     36  \n",
      "0     ERA    RA9    rRA9  rRA9pf    FIP   WHIP   WAR▼  \n",
      "1    1.55   1.75    1.75    1.68   3.94   0.97   2.04  \n",
      "2    3.86   3.86    3.66    3.58   3.52   1.24   1.22  \n",
      "3    1.71   2.14    1.84    1.86   3.75   1.00   0.89  \n",
      "4    1.80   1.80    2.03    1.95   3.58   1.05   0.77  \n",
      "5    3.13   3.13    3.13    3.03   5.24   1.09   0.66  \n",
      "6    1.50   2.50    2.50    2.39   4.31   1.44   0.60  \n",
      "7    4.76   5.36    5.29    4.96   5.47   1.41   0.57  \n",
      "8    4.03   4.43    3.95    3.98   4.77   1.57   0.47  \n",
      "9    2.50   2.50    3.70    3.61   3.89   1.00   0.30  \n",
      "10   3.98   3.98    4.45    4.37   5.15   0.93   0.26  \n",
      "11   4.50   4.50    4.75    4.49   3.13   1.33   0.13  \n",
      "12   4.66   4.66    4.33    4.28   4.13   1.45   0.10  \n",
      "13   5.40   5.40    5.40    5.35   5.92   1.92   0.06  \n",
      "14   3.00   3.00    3.00    2.79   8.78   1.33   0.04  \n",
      "15   6.75   6.75    6.55    6.16   5.61   2.25   0.01  \n",
      "16  99.99  99.99  106.65   98.34   4.21  15.00  -0.01  \n",
      "17  45.00  45.00   45.00   41.90  16.71   6.00  -0.03  \n",
      "18   7.20   7.20    7.20    7.76   5.07   1.60  -0.07  \n",
      "19   8.25   8.25    8.14    7.92   5.77   1.67  -0.07  \n",
      "20   7.71   9.64   12.63   12.53  11.03   3.00  -0.08  \n",
      "21  27.00  27.00   27.00   29.12   9.84   5.25  -0.10  \n",
      "22  10.50  10.50   10.00    9.95   8.75   2.11  -0.38  \n",
      "\n",
      "[23 rows x 37 columns]\n"
     ]
    }
   ],
   "source": [
    "df = pd.read_csv(\"삼성라이온즈_투구.csv\")\n",
    "print(df)"
   ]
  },
  {
   "cell_type": "code",
   "execution_count": null,
   "id": "b8d63e40",
   "metadata": {},
   "outputs": [],
   "source": []
  }
 ],
 "metadata": {
  "kernelspec": {
   "display_name": "Python 3 (ipykernel)",
   "language": "python",
   "name": "python3"
  },
  "language_info": {
   "codemirror_mode": {
    "name": "ipython",
    "version": 3
   },
   "file_extension": ".py",
   "mimetype": "text/x-python",
   "name": "python",
   "nbconvert_exporter": "python",
   "pygments_lexer": "ipython3",
   "version": "3.11.5"
  }
 },
 "nbformat": 4,
 "nbformat_minor": 5
}
