{
 "cells": [
  {
   "cell_type": "code",
   "execution_count": 31,
   "id": "0551d6d4",
   "metadata": {},
   "outputs": [
    {
     "name": "stdout",
     "output_type": "stream",
     "text": [
      "Requirement already satisfied: selenium in c:\\users\\melid\\anaconda3\\lib\\site-packages (4.19.0)\n",
      "Requirement already satisfied: urllib3[socks]<3,>=1.26 in c:\\users\\melid\\anaconda3\\lib\\site-packages (from selenium) (1.26.16)\n",
      "Requirement already satisfied: trio~=0.17 in c:\\users\\melid\\anaconda3\\lib\\site-packages (from selenium) (0.25.0)\n",
      "Requirement already satisfied: trio-websocket~=0.9 in c:\\users\\melid\\anaconda3\\lib\\site-packages (from selenium) (0.11.1)\n",
      "Requirement already satisfied: certifi>=2021.10.8 in c:\\users\\melid\\anaconda3\\lib\\site-packages (from selenium) (2024.2.2)\n",
      "Requirement already satisfied: typing_extensions>=4.9.0 in c:\\users\\melid\\anaconda3\\lib\\site-packages (from selenium) (4.10.0)\n",
      "Requirement already satisfied: attrs>=23.2.0 in c:\\users\\melid\\anaconda3\\lib\\site-packages (from trio~=0.17->selenium) (23.2.0)\n",
      "Requirement already satisfied: sortedcontainers in c:\\users\\melid\\anaconda3\\lib\\site-packages (from trio~=0.17->selenium) (2.4.0)\n",
      "Requirement already satisfied: idna in c:\\users\\melid\\anaconda3\\lib\\site-packages (from trio~=0.17->selenium) (3.4)\n",
      "Requirement already satisfied: outcome in c:\\users\\melid\\anaconda3\\lib\\site-packages (from trio~=0.17->selenium) (1.3.0.post0)\n",
      "Requirement already satisfied: sniffio>=1.3.0 in c:\\users\\melid\\anaconda3\\lib\\site-packages (from trio~=0.17->selenium) (1.3.1)\n",
      "Requirement already satisfied: cffi>=1.14 in c:\\users\\melid\\anaconda3\\lib\\site-packages (from trio~=0.17->selenium) (1.15.1)\n",
      "Requirement already satisfied: wsproto>=0.14 in c:\\users\\melid\\anaconda3\\lib\\site-packages (from trio-websocket~=0.9->selenium) (1.2.0)\n",
      "Requirement already satisfied: PySocks!=1.5.7,<2.0,>=1.5.6 in c:\\users\\melid\\anaconda3\\lib\\site-packages (from urllib3[socks]<3,>=1.26->selenium) (1.7.1)\n",
      "Requirement already satisfied: pycparser in c:\\users\\melid\\anaconda3\\lib\\site-packages (from cffi>=1.14->trio~=0.17->selenium) (2.21)\n",
      "Requirement already satisfied: h11<1,>=0.9.0 in c:\\users\\melid\\anaconda3\\lib\\site-packages (from wsproto>=0.14->trio-websocket~=0.9->selenium) (0.14.0)\n",
      "Collecting html_table_parser\n",
      "  Downloading html_table_parser-0.1.0.tar.gz (3.4 kB)\n",
      "  Preparing metadata (setup.py): started\n",
      "  Preparing metadata (setup.py): finished with status 'done'\n",
      "Collecting beautifulsoup4==4.4.1 (from html_table_parser)\n",
      "  Obtaining dependency information for beautifulsoup4==4.4.1 from https://files.pythonhosted.org/packages/cf/69/9abfdab06490af5e0233bcebe3f617ec128486d94ea987ad4f77b9332eef/beautifulsoup4-4.4.1-py3-none-any.whl.metadata\n",
      "  Downloading beautifulsoup4-4.4.1-py3-none-any.whl.metadata (1.1 kB)\n",
      "Downloading beautifulsoup4-4.4.1-py3-none-any.whl (81 kB)\n",
      "   ---------------------------------------- 0.0/81.4 kB ? eta -:--:--\n",
      "   --------------- ------------------------ 30.7/81.4 kB 1.4 MB/s eta 0:00:01\n",
      "   ---------------------------------------- 81.4/81.4 kB 1.5 MB/s eta 0:00:00\n",
      "Building wheels for collected packages: html_table_parser\n",
      "  Building wheel for html_table_parser (setup.py): started\n",
      "  Building wheel for html_table_parser (setup.py): finished with status 'done'\n",
      "  Created wheel for html_table_parser: filename=html_table_parser-0.1.0-py3-none-any.whl size=4638 sha256=2f599eac9f28c620288fd47ba00512a4bafaa8e8464d32c88e500e5168094cc8\n",
      "  Stored in directory: c:\\users\\melid\\appdata\\local\\pip\\cache\\wheels\\3f\\61\\3e\\205c3503f7c244357c1ba105368ba70095a71a075624689850\n",
      "Successfully built html_table_parser\n",
      "Installing collected packages: beautifulsoup4, html_table_parser\n",
      "  Attempting uninstall: beautifulsoup4\n",
      "    Found existing installation: beautifulsoup4 4.12.2\n",
      "    Uninstalling beautifulsoup4-4.12.2:\n",
      "      Successfully uninstalled beautifulsoup4-4.12.2\n",
      "Successfully installed beautifulsoup4-4.4.1 html_table_parser-0.1.0\n"
     ]
    },
    {
     "name": "stderr",
     "output_type": "stream",
     "text": [
      "ERROR: pip's dependency resolver does not currently take into account all the packages that are installed. This behaviour is the source of the following dependency conflicts.\n",
      "spyder 5.4.3 requires jedi<0.19.0,>=0.17.2, but you have jedi 0.19.1 which is incompatible.\n"
     ]
    }
   ],
   "source": [
    "! pip install selenium\n",
    "! pip install html_table_parser"
   ]
  },
  {
   "cell_type": "code",
   "execution_count": 1,
   "id": "39de7e59",
   "metadata": {},
   "outputs": [],
   "source": [
    "from selenium import webdriver\n",
    "from selenium.webdriver.common.keys import Keys\n",
    "from selenium.webdriver.common.by import By\n",
    "import time"
   ]
  },
  {
   "cell_type": "code",
   "execution_count": 2,
   "id": "bd840529",
   "metadata": {},
   "outputs": [],
   "source": [
    "driver = webdriver.Chrome()"
   ]
  },
  {
   "cell_type": "code",
   "execution_count": 3,
   "id": "887343fe",
   "metadata": {},
   "outputs": [],
   "source": [
    "url = \"https://statiz.sporki.com/stats/?m=main&m2=all\"\n",
    "driver.get(url)"
   ]
  },
  {
   "cell_type": "code",
   "execution_count": 4,
   "id": "eec9bc4c",
   "metadata": {},
   "outputs": [],
   "source": [
    "driver.find_element(By.XPATH, '/html/body/div[2]/div[5]/section/div[1]/div/button[4]').click()\n",
    "\n",
    "# 팀 옵션 드롭다운 선택\n",
    "driver.find_element(By.XPATH, '//*[@id=\"select_team\"]/button').click()\n",
    "# 두산 베어스 선택\n",
    "driver.find_element(By.XPATH, '//*[@id=\"select_team\"]/ul/li[5]').click()\n",
    "\n",
    "# 수비 > 내야 선택\n",
    "driver.find_element(By.XPATH, '/html/body/div[2]/div[5]/section/div[6]/ul/li[3]/a').click()"
   ]
  },
  {
   "cell_type": "code",
   "execution_count": 5,
   "id": "d40fd5a1",
   "metadata": {},
   "outputs": [],
   "source": [
    "from urllib.request import urlopen\n",
    "\n",
    "import collections\n",
    "collections.Callable = collections.abc.Callable\n",
    "\n",
    "from bs4 import BeautifulSoup\n",
    "from html_table_parser import parser_functions as parser\n",
    "import pandas as pd"
   ]
  },
  {
   "cell_type": "code",
   "execution_count": 6,
   "id": "879f5b0b",
   "metadata": {},
   "outputs": [],
   "source": [
    "page = driver.page_source\n",
    "soup = BeautifulSoup(page, 'html.parser')"
   ]
  },
  {
   "cell_type": "code",
   "execution_count": 7,
   "id": "22e78c51",
   "metadata": {},
   "outputs": [
    {
     "name": "stdout",
     "output_type": "stream",
     "text": [
      "0 ['Rank', 'Name', 'Team', 'Sort▼', 'G', 'GS', 'IP', 'ifH', 'FC', 'PO', 'Ass', 'E', 'BBO', 'BBO%', 'F%', 'RF9', '수비 관련 득점 기여도', '수비 관련 득점 기여도', '수비 관련 득점 기여도', '수비 관련 득점 기여도', '수비 관련 득점 기여도', '수비 관련 득점 기여도']\n",
      "1 ['Rank', 'Name', 'Team', '수비 관련 득점 기여도-종합 RAA', 'G', 'GS', 'IP', 'ifH', 'FC', 'PO', 'Ass', 'E', 'BBO', 'BBO%', 'F%', 'RF9', 'Range RAA', 'Err RAA', 'DP RAA', 'Bt RAA', '종합 RAA▼', '/144']\n",
      "2 ['1', '허경민', '24  3B', '5.02', '41', '40', '322.1', '15', '1', '21', '66', '3', '47', '59.6', '96.7', '2.43', '4.62', '0.15', '0.23', '0.02', '5.02', '17.21']\n",
      "3 ['2', '강승호', '24  2B', '2.98', '40', '40', '325.0', '12', '0', '80', '105', '9', '107', '80.4', '95.4', '5.12', '3.05', '-0.29', '0.23', '', '2.98', '9.99']\n",
      "4 ['3', '박준영', '24  SS', '2.47', '33', '30', '261.0', '14', '0', '47', '75', '2', '60', '73.3', '98.4', '4.21', '3.11', '0.43', '-1.07', '', '2.47', '10.45']\n",
      "5 ['4', '양석환', '24  1B', '1.63', '40', '40', '339.0', '13', '0', '308', '21', '1', '170', '91.8', '99.7', '8.73', '0.68', '0.84', '', '0.11', '1.63', '5.45']\n",
      "6 ['5', '이유찬', '24  2B', '0.74', '8', '0', '13.0', '1', '0', '2', '8', '0', '5', '80.0', '100.0', '6.92', '0.69', '0.05', '', '', '0.74', '6.29']\n",
      "7 ['6', '이유찬', '24  3B', '0.73', '1', '1', '8.0', '0', '0', '1', '2', '0', '0', '', '100.0', '3.38', '0.70', '0.03', '', '', '0.73', '6.17']\n",
      "8 ['7', '전민재', '24  SS', '0.73', '13', '6', '64.0', '0', '0', '15', '17', '1', '15', '93.3', '97.0', '4.50', '-0.09', '0.23', '0.59', '', '0.73', '4.35']\n",
      "9 ['8', '강승호', '24  1B', '0.72', '11', '3', '39.0', '5', '0', '29', '5', '0', '24', '79.2', '100.0', '7.85', '0.62', '0.10', '', '', '0.72', '2.41']\n",
      "10 ['9', '전민재', '24  3B', '0.67', '9', '2', '30.0', '3', '0', '3', '4', '0', '1', '-200.0', '100.0', '2.10', '0.56', '0.11', '0.00', '', '0.67', '4.01']\n",
      "11 ['10', '서예일', '24  3B', '0.38', '2', '0', '3.0', '0', '0', '0', '1', '0', '1', '100.0', '100.0', '3.00', '0.37', '0.01', '', '', '0.38', '27.50']\n",
      "12 ['Rank', 'Name', 'Team', 'Sort▼', 'G', 'GS', 'IP', 'ifH', 'FC', 'PO', 'Ass', 'E', 'BBO', 'BBO%', 'F%', 'RF9', '수비 관련 득점 기여도', '수비 관련 득점 기여도', '수비 관련 득점 기여도', '수비 관련 득점 기여도', '수비 관련 득점 기여도', '수비 관련 득점 기여도']\n",
      "13 ['Rank', 'Name', 'Team', '수비 관련 득점 기여도-종합 RAA', 'G', 'GS', 'IP', 'ifH', 'FC', 'PO', 'Ass', 'E', 'BBO', 'BBO%', 'F%', 'RF9', 'Range RAA', 'Err RAA', 'DP RAA', 'Bt RAA', '종합 RAA▼', '/144']\n",
      "14 ['11', '이유찬', '24  SS', '0.15', '1', '0', '1.0', '0', '0', '0', '1', '0', '0', '', '100.0', '9.00', '0.15', '0.00', '', '', '0.15', '1.29']\n",
      "15 ['12', '박준영', '24  3B', '0.00', '1', '0', '1.0', '0', '0', '0', '0', '0', '0', '', '', '0.00', '', '0.00', '', '', '0.00', '0.02']\n",
      "16 ['13', '박계범', '24  1B', '0.00', '1', '0', '1.0', '0', '0', '0', '0', '0', '0', '', '', '0.00', '', '0.00', '', '', '0.00', '0.01']\n",
      "17 ['14', '김민혁', '24  1B', '0.00', '1', '0', '1.0', '0', '0', '0', '0', '0', '0', '', '', '0.00', '0.00', '0.00', '', '', '0.00', '0.07']\n",
      "18 ['15', '김재호', '24  SS', '-1.14', '5', '5', '35.0', '3', '0', '6', '9', '1', '11', '63.6', '93.8', '3.86', '-1.99', '0.12', '0.72', '', '-1.14', '-32.74']\n",
      "19 ['16', '박계범', '24  2B', '-1.17', '13', '1', '24.0', '4', '0', '3', '5', '0', '4', '0.0', '100.0', '3.00', '-1.26', '0.09', '0.00', '', '-1.17', '-7.05']\n",
      "20 ['17', '박계범', '24  SS', '-1.80', '3', '2', '19.0', '1', '0', '1', '10', '2', '10', '70.0', '84.6', '5.21', '-1.12', '-0.43', '-0.25', '', '-1.80', '-10.80']\n",
      "21 ['18', '전민재', '24  2B', '-2.70', '2', '2', '18.0', '1', '0', '3', '6', '2', '8', '62.5', '81.8', '4.50', '-2.54', '0.07', '-0.23', '', '-2.70', '-16.19']\n",
      "22 ['19', '박계범', '24  3B', '-3.04', '10', '0', '15.2', '0', '0', '2', '2', '1', '2', '50.0', '80.0', '2.30', '-2.37', '-0.44', '-0.23', '', '-3.04', '-18.27']\n",
      "23\n"
     ]
    }
   ],
   "source": [
    "temp = soup.find_all('table')\n",
    "p = parser.make2d(temp[0])    \n",
    "for i in range(len(p)):\n",
    "    print(i, p[i])\n",
    "print(len(p))"
   ]
  },
  {
   "cell_type": "code",
   "execution_count": 12,
   "id": "b5523464",
   "metadata": {},
   "outputs": [],
   "source": [
    "num = (len(p) // 10)-1\n",
    "\n",
    "start_num = num\n",
    "for i in range(num*2+1, 1, -1):\n",
    "    n = start_num * 10 + (i)\n",
    "    p.pop(n)\n",
    "    if i % 2 == 0:\n",
    "        start_num -= 1"
   ]
  },
  {
   "cell_type": "code",
   "execution_count": 16,
   "id": "7147ff2d",
   "metadata": {},
   "outputs": [
    {
     "name": "stdout",
     "output_type": "stream",
     "text": [
      "   Rank Name Position   G  GS     IP ifH FC   PO  Ass  ...    BBO%     F%  \\\n",
      "2     1  허경민       3B  41  40  322.1  15  1   21   66  ...    59.6   96.7   \n",
      "3     2  강승호       2B  40  40  325.0  12  0   80  105  ...    80.4   95.4   \n",
      "4     3  박준영       SS  33  30  261.0  14  0   47   75  ...    73.3   98.4   \n",
      "5     4  양석환       1B  40  40  339.0  13  0  308   21  ...    91.8   99.7   \n",
      "6     5  이유찬       2B   8   0   13.0   1  0    2    8  ...    80.0  100.0   \n",
      "7     6  이유찬       3B   1   1    8.0   0  0    1    2  ...          100.0   \n",
      "8     7  전민재       SS  13   6   64.0   0  0   15   17  ...    93.3   97.0   \n",
      "9     8  강승호       1B  11   3   39.0   5  0   29    5  ...    79.2  100.0   \n",
      "10    9  전민재       3B   9   2   30.0   3  0    3    4  ...  -200.0  100.0   \n",
      "11   10  서예일       3B   2   0    3.0   0  0    0    1  ...   100.0  100.0   \n",
      "12   11  이유찬       SS   1   0    1.0   0  0    0    1  ...          100.0   \n",
      "13   12  박준영       3B   1   0    1.0   0  0    0    0  ...                  \n",
      "14   13  박계범       1B   1   0    1.0   0  0    0    0  ...                  \n",
      "15   14  김민혁       1B   1   0    1.0   0  0    0    0  ...                  \n",
      "16   15  김재호       SS   5   5   35.0   3  0    6    9  ...    63.6   93.8   \n",
      "17   16  박계범       2B  13   1   24.0   4  0    3    5  ...     0.0  100.0   \n",
      "18   17  박계범       SS   3   2   19.0   1  0    1   10  ...    70.0   84.6   \n",
      "19   18  전민재       2B   2   2   18.0   1  0    3    6  ...    62.5   81.8   \n",
      "20   19  박계범       3B  10   0   15.2   0  0    2    2  ...    50.0   80.0   \n",
      "\n",
      "     RF9 Range RAA  Err RAA DP RAA Bt RAA Total RAA    /144    Team  \n",
      "2   2.43      4.62     0.15   0.23   0.02      5.02   17.21  Doosan  \n",
      "3   5.12      3.05    -0.29   0.23             2.98    9.99  Doosan  \n",
      "4   4.21      3.11     0.43  -1.07             2.47   10.45  Doosan  \n",
      "5   8.73      0.68     0.84          0.11      1.63    5.45  Doosan  \n",
      "6   6.92      0.69     0.05                    0.74    6.29  Doosan  \n",
      "7   3.38      0.70     0.03                    0.73    6.17  Doosan  \n",
      "8   4.50     -0.09     0.23   0.59             0.73    4.35  Doosan  \n",
      "9   7.85      0.62     0.10                    0.72    2.41  Doosan  \n",
      "10  2.10      0.56     0.11   0.00             0.67    4.01  Doosan  \n",
      "11  3.00      0.37     0.01                    0.38   27.50  Doosan  \n",
      "12  9.00      0.15     0.00                    0.15    1.29  Doosan  \n",
      "13  0.00               0.00                    0.00    0.02  Doosan  \n",
      "14  0.00               0.00                    0.00    0.01  Doosan  \n",
      "15  0.00      0.00     0.00                    0.00    0.07  Doosan  \n",
      "16  3.86     -1.99     0.12   0.72            -1.14  -32.74  Doosan  \n",
      "17  3.00     -1.26     0.09   0.00            -1.17   -7.05  Doosan  \n",
      "18  5.21     -1.12    -0.43  -0.25            -1.80  -10.80  Doosan  \n",
      "19  4.50     -2.54     0.07  -0.23            -2.70  -16.19  Doosan  \n",
      "20  2.30     -2.37    -0.44  -0.23            -3.04  -18.27  Doosan  \n",
      "\n",
      "[19 rows x 22 columns]\n"
     ]
    }
   ],
   "source": [
    "data=pd.DataFrame(p)\n",
    "data=data[2:]\n",
    "data.columns = [\"Rank\", \"Name\", \"Position\",\"Total RAA2\",\"G\", \"GS\",\"IP\", \"ifH\",\"FC\",\"PO\",\"Ass\",\"E\",\"BBO\",\"BBO%\",\"F%\",\"RF9\",\"Range RAA\", \" Err RAA\", \"DP RAA\",\"Bt RAA\",\"Total RAA\", \"/144\"]\n",
    "data.drop(columns=['Total RAA2'], inplace=True)\n",
    "data['Position'].replace({\"24  \":\"\"}, regex=True, inplace=True)\n",
    "data['Team']=\"Doosan\"\n",
    "print(data)"
   ]
  },
  {
   "cell_type": "code",
   "execution_count": 17,
   "id": "9109adba",
   "metadata": {},
   "outputs": [],
   "source": [
    "data.to_csv(\"Doosan_field_IF.csv\")"
   ]
  },
  {
   "cell_type": "code",
   "execution_count": null,
   "id": "3476ffda",
   "metadata": {},
   "outputs": [],
   "source": []
  }
 ],
 "metadata": {
  "kernelspec": {
   "display_name": "Python 3 (ipykernel)",
   "language": "python",
   "name": "python3"
  },
  "language_info": {
   "codemirror_mode": {
    "name": "ipython",
    "version": 3
   },
   "file_extension": ".py",
   "mimetype": "text/x-python",
   "name": "python",
   "nbconvert_exporter": "python",
   "pygments_lexer": "ipython3",
   "version": "3.11.5"
  }
 },
 "nbformat": 4,
 "nbformat_minor": 5
}
