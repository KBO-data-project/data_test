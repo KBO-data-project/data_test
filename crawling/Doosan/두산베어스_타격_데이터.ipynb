{
 "cells": [
  {
   "cell_type": "code",
   "execution_count": 31,
   "id": "0551d6d4",
   "metadata": {},
   "outputs": [
    {
     "name": "stdout",
     "output_type": "stream",
     "text": [
      "Requirement already satisfied: selenium in c:\\users\\melid\\anaconda3\\lib\\site-packages (4.19.0)\n",
      "Requirement already satisfied: urllib3[socks]<3,>=1.26 in c:\\users\\melid\\anaconda3\\lib\\site-packages (from selenium) (1.26.16)\n",
      "Requirement already satisfied: trio~=0.17 in c:\\users\\melid\\anaconda3\\lib\\site-packages (from selenium) (0.25.0)\n",
      "Requirement already satisfied: trio-websocket~=0.9 in c:\\users\\melid\\anaconda3\\lib\\site-packages (from selenium) (0.11.1)\n",
      "Requirement already satisfied: certifi>=2021.10.8 in c:\\users\\melid\\anaconda3\\lib\\site-packages (from selenium) (2024.2.2)\n",
      "Requirement already satisfied: typing_extensions>=4.9.0 in c:\\users\\melid\\anaconda3\\lib\\site-packages (from selenium) (4.10.0)\n",
      "Requirement already satisfied: attrs>=23.2.0 in c:\\users\\melid\\anaconda3\\lib\\site-packages (from trio~=0.17->selenium) (23.2.0)\n",
      "Requirement already satisfied: sortedcontainers in c:\\users\\melid\\anaconda3\\lib\\site-packages (from trio~=0.17->selenium) (2.4.0)\n",
      "Requirement already satisfied: idna in c:\\users\\melid\\anaconda3\\lib\\site-packages (from trio~=0.17->selenium) (3.4)\n",
      "Requirement already satisfied: outcome in c:\\users\\melid\\anaconda3\\lib\\site-packages (from trio~=0.17->selenium) (1.3.0.post0)\n",
      "Requirement already satisfied: sniffio>=1.3.0 in c:\\users\\melid\\anaconda3\\lib\\site-packages (from trio~=0.17->selenium) (1.3.1)\n",
      "Requirement already satisfied: cffi>=1.14 in c:\\users\\melid\\anaconda3\\lib\\site-packages (from trio~=0.17->selenium) (1.15.1)\n",
      "Requirement already satisfied: wsproto>=0.14 in c:\\users\\melid\\anaconda3\\lib\\site-packages (from trio-websocket~=0.9->selenium) (1.2.0)\n",
      "Requirement already satisfied: PySocks!=1.5.7,<2.0,>=1.5.6 in c:\\users\\melid\\anaconda3\\lib\\site-packages (from urllib3[socks]<3,>=1.26->selenium) (1.7.1)\n",
      "Requirement already satisfied: pycparser in c:\\users\\melid\\anaconda3\\lib\\site-packages (from cffi>=1.14->trio~=0.17->selenium) (2.21)\n",
      "Requirement already satisfied: h11<1,>=0.9.0 in c:\\users\\melid\\anaconda3\\lib\\site-packages (from wsproto>=0.14->trio-websocket~=0.9->selenium) (0.14.0)\n",
      "Collecting html_table_parser\n",
      "  Downloading html_table_parser-0.1.0.tar.gz (3.4 kB)\n",
      "  Preparing metadata (setup.py): started\n",
      "  Preparing metadata (setup.py): finished with status 'done'\n",
      "Collecting beautifulsoup4==4.4.1 (from html_table_parser)\n",
      "  Obtaining dependency information for beautifulsoup4==4.4.1 from https://files.pythonhosted.org/packages/cf/69/9abfdab06490af5e0233bcebe3f617ec128486d94ea987ad4f77b9332eef/beautifulsoup4-4.4.1-py3-none-any.whl.metadata\n",
      "  Downloading beautifulsoup4-4.4.1-py3-none-any.whl.metadata (1.1 kB)\n",
      "Downloading beautifulsoup4-4.4.1-py3-none-any.whl (81 kB)\n",
      "   ---------------------------------------- 0.0/81.4 kB ? eta -:--:--\n",
      "   --------------- ------------------------ 30.7/81.4 kB 1.4 MB/s eta 0:00:01\n",
      "   ---------------------------------------- 81.4/81.4 kB 1.5 MB/s eta 0:00:00\n",
      "Building wheels for collected packages: html_table_parser\n",
      "  Building wheel for html_table_parser (setup.py): started\n",
      "  Building wheel for html_table_parser (setup.py): finished with status 'done'\n",
      "  Created wheel for html_table_parser: filename=html_table_parser-0.1.0-py3-none-any.whl size=4638 sha256=2f599eac9f28c620288fd47ba00512a4bafaa8e8464d32c88e500e5168094cc8\n",
      "  Stored in directory: c:\\users\\melid\\appdata\\local\\pip\\cache\\wheels\\3f\\61\\3e\\205c3503f7c244357c1ba105368ba70095a71a075624689850\n",
      "Successfully built html_table_parser\n",
      "Installing collected packages: beautifulsoup4, html_table_parser\n",
      "  Attempting uninstall: beautifulsoup4\n",
      "    Found existing installation: beautifulsoup4 4.12.2\n",
      "    Uninstalling beautifulsoup4-4.12.2:\n",
      "      Successfully uninstalled beautifulsoup4-4.12.2\n",
      "Successfully installed beautifulsoup4-4.4.1 html_table_parser-0.1.0\n"
     ]
    },
    {
     "name": "stderr",
     "output_type": "stream",
     "text": [
      "ERROR: pip's dependency resolver does not currently take into account all the packages that are installed. This behaviour is the source of the following dependency conflicts.\n",
      "spyder 5.4.3 requires jedi<0.19.0,>=0.17.2, but you have jedi 0.19.1 which is incompatible.\n"
     ]
    }
   ],
   "source": [
    "! pip install selenium\n",
    "! pip install html_table_parser"
   ]
  },
  {
   "cell_type": "code",
   "execution_count": 1,
   "id": "39de7e59",
   "metadata": {},
   "outputs": [],
   "source": [
    "from selenium import webdriver\n",
    "from selenium.webdriver.common.keys import Keys\n",
    "from selenium.webdriver.common.by import By\n",
    "import time"
   ]
  },
  {
   "cell_type": "code",
   "execution_count": 2,
   "id": "bd840529",
   "metadata": {},
   "outputs": [],
   "source": [
    "driver = webdriver.Chrome()"
   ]
  },
  {
   "cell_type": "code",
   "execution_count": 3,
   "id": "887343fe",
   "metadata": {},
   "outputs": [],
   "source": [
    "url = \"https://statiz.sporki.com/stats/?m=main&m2=all\"\n",
    "driver.get(url)"
   ]
  },
  {
   "cell_type": "code",
   "execution_count": 4,
   "id": "eec9bc4c",
   "metadata": {},
   "outputs": [],
   "source": [
    "driver.find_element(By.XPATH, '/html/body/div[2]/div[5]/section/div[1]/div/button[2]').click()\n",
    "\n",
    "# 팀 옵션 드롭다운 선택\n",
    "driver.find_element(By.XPATH, '//*[@id=\"select_team\"]/button').click()\n",
    "# 두산 베어스 선택\n",
    "driver.find_element(By.XPATH, '//*[@id=\"select_team\"]/ul/li[5]').click()\n",
    "\n",
    "# 규정 드롭다운 선택\n",
    "driver.find_element(By.XPATH, '//*[@id=\"select_reg\"]/button').click()\n",
    "# 규정 > 전체 선택\n",
    "driver.find_element(By.XPATH, '//*[@id=\"select_reg\"]/ul/li[5]').click()"
   ]
  },
  {
   "cell_type": "code",
   "execution_count": 7,
   "id": "d40fd5a1",
   "metadata": {},
   "outputs": [],
   "source": [
    "from urllib.request import urlopen\n",
    "\n",
    "import collections\n",
    "collections.Callable = collections.abc.Callable\n",
    "\n",
    "from bs4 import BeautifulSoup\n",
    "from html_table_parser import parser_functions as parser\n",
    "import pandas as pd"
   ]
  },
  {
   "cell_type": "code",
   "execution_count": 8,
   "id": "879f5b0b",
   "metadata": {},
   "outputs": [],
   "source": [
    "page = driver.page_source\n",
    "soup = BeautifulSoup(page, 'html.parser')"
   ]
  },
  {
   "cell_type": "code",
   "execution_count": 9,
   "id": "22e78c51",
   "metadata": {},
   "outputs": [
    {
     "name": "stdout",
     "output_type": "stream",
     "text": [
      "0 ['Rank', 'Name', 'Team', 'Sort▼', 'G', 'PA', 'ePA', 'AB', 'R', 'H', '2B', '3B', 'HR', 'TB', 'RBI', 'SB', 'CS', 'BB', 'HP', 'IB', 'SO', 'GDP', 'SH', 'SF', '비율', '비율', '비율', '비율', '비율', '비율', 'WAR▼']\n",
      "1 ['Rank', 'Name', 'Team', 'WAR', 'G', 'PA', 'ePA', 'AB', 'R', 'H', '2B', '3B', 'HR', 'TB', 'RBI', 'SB', 'CS', 'BB', 'HP', 'IB', 'SO', 'GDP', 'SH', 'SF', 'AVG', 'OBP', 'SLG', 'OPS', 'R/ePA', 'wRC+', 'WAR▼']\n",
      "2 ['1', '허경민', '24  3B', '2.46', '42', '172', '172', '147', '28', '54', '9', '0', '2', '69', '24', '1', '0', '12', '9', '0', '10', '1', '0', '4', '0.367', '0.436', '0.469', '0.905', '0.070', '150.1', '2.46']\n",
      "3 ['2', '강승호', '24  2B', '2.44', '43', '185', '184', '175', '27', '59', '11', '4', '9', '105', '33', '5', '3', '8', '0', '1', '57', '2', '0', '2', '0.337', '0.362', '0.600', '0.962', '0.067', '147.5', '2.44']\n",
      "4 ['3', '양의지', '24  C', '1.41', '38', '159', '158', '144', '19', '50', '6', '0', '6', '74', '37', '1', '0', '9', '2', '1', '18', '3', '0', '4', '0.347', '0.384', '0.514', '0.898', '0.053', '136.8', '1.41']\n",
      "5 ['4', '조수행', '24  CF', '0.99', '36', '92', '87', '82', '19', '26', '1', '0', '0', '27', '5', '17', '1', '4', '0', '0', '5', '1', '5', '1', '0.317', '0.345', '0.329', '0.674', '-0.015', '86.4', '0.99']\n",
      "6 ['5', '라모스', '24  RF', '0.97', '30', '127', '127', '113', '17', '34', '8', '2', '4', '58', '26', '2', '0', '9', '0', '0', '13', '1', '0', '5', '0.301', '0.339', '0.513', '0.852', '0.040', '127.6', '0.97']\n",
      "7 ['6', '박준영', '24  SS', '0.95', '34', '118', '117', '99', '16', '21', '5', '1', '4', '40', '14', '0', '0', '15', '2', '0', '32', '0', '1', '1', '0.212', '0.325', '0.404', '0.729', '-0.001', '95.8', '0.95']\n",
      "8 ['7', '정수빈', '24  CF', '0.73', '42', '190', '186', '159', '31', '44', '5', '2', '1', '56', '12', '14', '3', '21', '3', '1', '17', '4', '4', '3', '0.277', '0.366', '0.352', '0.718', '-0.003', '94.7', '0.73']\n",
      "9 ['8', '이유찬', '24  2B', '0.34', '17', '8', '8', '8', '5', '4', '1', '0', '0', '5', '1', '1', '1', '0', '0', '0', '1', '0', '0', '0', '0.500', '0.500', '0.625', '1.125', '0.256', '291.5', '0.34']\n",
      "10 ['9', '김재환', '24  LF', '0.32', '41', '168', '166', '139', '24', '33', '8', '0', '8', '65', '27', '0', '0', '24', '2', '2', '53', '5', '0', '3', '0.237', '0.351', '0.468', '0.819', '0.013', '106.9', '0.32']\n",
      "11 ['10', '김기연', '24  C', '0.31', '18', '52', '52', '49', '6', '18', '2', '0', '1', '23', '4', '0', '1', '3', '0', '0', '8', '3', '0', '0', '0.367', '0.404', '0.469', '0.873', '0.051', '135.6', '0.31']\n",
      "12 ['Rank', 'Name', 'Team', 'Sort▼', 'G', 'PA', 'ePA', 'AB', 'R', 'H', '2B', '3B', 'HR', 'TB', 'RBI', 'SB', 'CS', 'BB', 'HP', 'IB', 'SO', 'GDP', 'SH', 'SF', '비율', '비율', '비율', '비율', '비율', '비율', 'WAR▼']\n",
      "13 ['Rank', 'Name', 'Team', 'WAR', 'G', 'PA', 'ePA', 'AB', 'R', 'H', '2B', '3B', 'HR', 'TB', 'RBI', 'SB', 'CS', 'BB', 'HP', 'IB', 'SO', 'GDP', 'SH', 'SF', 'AVG', 'OBP', 'SLG', 'OPS', 'R/ePA', 'wRC+', 'WAR▼']\n",
      "14 ['11', '양석환', '24  1B', '0.27', '43', '174', '174', '153', '22', '37', '10', '0', '7', '68', '29', '2', '2', '17', '3', '0', '36', '10', '0', '1', '0.242', '0.328', '0.444', '0.772', '0.005', '101.0', '0.27']\n",
      "15 ['12', '김민혁', '24  1B', '0.25', '5', '8', '8', '5', '1', '1', '0', '0', '1', '4', '2', '0', '0', '3', '0', '0', '3', '0', '0', '0', '0.200', '0.500', '0.800', '1.300', '0.228', '270.6', '0.25']\n",
      "16 ['13', '김재호', '24  SS', '0.06', '5', '18', '16', '11', '4', '3', '2', '0', '0', '5', '2', '0', '0', '4', '0', '0', '1', '1', '2', '1', '0.273', '0.438', '0.455', '0.893', '0.062', '139.0', '0.06']\n",
      "17 ['14', '서예일', '24  SS', '0.06', '2', '0', '0', '0', '0', '0', '0', '0', '0', '0', '0', '0', '0', '0', '0', '0', '0', '0', '0', '0', '', '', '', '', '', '', '0.06']\n",
      "18 ['15', '홍성호', '24  RF', '0.03', '3', '3', '3', '3', '0', '1', '1', '0', '0', '2', '0', '0', '0', '0', '0', '0', '1', '0', '0', '0', '0.333', '0.333', '0.667', '1.000', '0.099', '171.9', '0.03']\n",
      "19 ['16', '장승현', '24  C', '0.02', '9', '23', '22', '20', '1', '4', '2', '0', '0', '6', '0', '0', '1', '2', '0', '0', '5', '0', '1', '0', '0.200', '0.273', '0.300', '0.573', '-0.062', '52.1', '0.02']\n",
      "20 ['17', '안승한', '24  C', '0.01', '4', '5', '5', '5', '0', '1', '0', '0', '0', '1', '0', '0', '0', '0', '0', '0', '1', '0', '0', '0', '0.200', '0.200', '0.200', '0.400', '-0.146', '-14.1', '0.01']\n",
      "21 ['18', '김호준', '24  P', '0.00', '1', '0', '0', '0', '0', '0', '0', '0', '0', '0', '0', '0', '0', '0', '0', '0', '0', '0', '0', '0', '', '', '', '', '', '', '0.00']\n",
      "22 ['18', '김동주', '24  P', '0.00', '1', '0', '0', '0', '0', '0', '0', '0', '0', '0', '0', '0', '0', '0', '0', '0', '0', '0', '0', '0', '', '', '', '', '', '', '0.00']\n",
      "23 ['18', '김민규', '24  P', '0.00', '1', '0', '0', '0', '0', '0', '0', '0', '0', '0', '0', '0', '0', '0', '0', '0', '0', '0', '0', '0', '', '', '', '', '', '', '0.00']\n",
      "24 ['Rank', 'Name', 'Team', 'Sort▼', 'G', 'PA', 'ePA', 'AB', 'R', 'H', '2B', '3B', 'HR', 'TB', 'RBI', 'SB', 'CS', 'BB', 'HP', 'IB', 'SO', 'GDP', 'SH', 'SF', '비율', '비율', '비율', '비율', '비율', '비율', 'WAR▼']\n",
      "25 ['Rank', 'Name', 'Team', 'WAR', 'G', 'PA', 'ePA', 'AB', 'R', 'H', '2B', '3B', 'HR', 'TB', 'RBI', 'SB', 'CS', 'BB', 'HP', 'IB', 'SO', 'GDP', 'SH', 'SF', 'AVG', 'OBP', 'SLG', 'OPS', 'R/ePA', 'wRC+', 'WAR▼']\n",
      "26 ['18', '이영하', '24  P', '0.00', '1', '0', '0', '0', '0', '0', '0', '0', '0', '0', '0', '0', '0', '0', '0', '0', '0', '0', '0', '0', '', '', '', '', '', '', '0.00']\n",
      "27 ['18', '정철원', '24  P', '0.00', '2', '0', '0', '0', '0', '0', '0', '0', '0', '0', '0', '0', '0', '0', '0', '0', '0', '0', '0', '0', '', '', '', '', '', '', '0.00']\n",
      "28 ['23', '전다민', '24  RF', '-0.03', '2', '1', '1', '1', '1', '0', '0', '0', '0', '0', '0', '0', '0', '0', '0', '0', '0', '0', '0', '0', '0.000', '0.000', '0.000', '0.000', '-0.328', '-152.6', '-0.03']\n",
      "29 ['24', '윤준호', '24  C', '-0.07', '1', '1', '1', '1', '0', '0', '0', '0', '0', '0', '1', '0', '0', '0', '0', '0', '0', '0', '0', '0', '0.000', '0.000', '0.000', '0.000', '-0.328', '-152.6', '-0.07']\n",
      "30 ['25', '전민재', '24  2B', '-0.25', '24', '47', '47', '46', '6', '12', '1', '0', '2', '19', '6', '0', '1', '0', '0', '0', '7', '2', '0', '1', '0.261', '0.255', '0.413', '0.668', '-0.061', '50.7', '-0.25']\n",
      "31 ['26', '김대한', '24  CF', '-0.28', '26', '58', '56', '47', '7', '6', '1', '0', '0', '7', '4', '1', '1', '7', '1', '0', '16', '0', '2', '1', '0.128', '0.250', '0.149', '0.399', '-0.108', '17.6', '-0.28']\n",
      "32 ['27', '김인태', '24  LF', '-0.42', '10', '26', '26', '23', '3', '4', '0', '0', '1', '7', '2', '0', '0', '2', '0', '0', '7', '1', '0', '1', '0.174', '0.231', '0.304', '0.535', '-0.123', '2.9', '-0.42']\n",
      "33 ['28', '박계범', '24  SS', '-0.43', '24', '20', '20', '15', '5', '3', '1', '0', '0', '4', '0', '1', '0', '5', '0', '0', '7', '2', '0', '0', '0.200', '0.400', '0.267', '0.667', '0.031', '120.1', '-0.43']\n",
      "34 ['29', '김태근', '24  LF', '-0.55', '19', '19', '18', '16', '1', '2', '0', '0', '0', '2', '1', '0', '0', '0', '2', '0', '6', '0', '1', '0', '0.125', '0.222', '0.125', '0.347', '-0.148', '-9.5', '-0.55']\n",
      "35\n"
     ]
    }
   ],
   "source": [
    "temp = soup.find_all('table')\n",
    "p = parser.make2d(temp[0])    \n",
    "for i in range(len(p)):\n",
    "    print(i, p[i])\n",
    "print(len(p))"
   ]
  },
  {
   "cell_type": "code",
   "execution_count": 10,
   "id": "b5523464",
   "metadata": {},
   "outputs": [],
   "source": [
    "num = (len(p) // 10)-1\n",
    "start_num = 2\n",
    "for i in range(num*2+1, 1, -1):\n",
    "    n = start_num * 10 + (i)\n",
    "    p.pop(n)\n",
    "    if i % 2 == 0:\n",
    "        start_num -= 1"
   ]
  },
  {
   "cell_type": "code",
   "execution_count": 15,
   "id": "7147ff2d",
   "metadata": {},
   "outputs": [
    {
     "name": "stdout",
     "output_type": "stream",
     "text": [
      "   Rank Name Position    WAR   G   PA  ePA   AB   R   H  ... GDP SH SF    AVG  \\\n",
      "2     1  허경민       3B   2.46  42  172  172  147  28  54  ...   1  0  4  0.367   \n",
      "3     2  강승호       2B   2.44  43  185  184  175  27  59  ...   2  0  2  0.337   \n",
      "4     3  양의지        C   1.41  38  159  158  144  19  50  ...   3  0  4  0.347   \n",
      "5     4  조수행       CF   0.99  36   92   87   82  19  26  ...   1  5  1  0.317   \n",
      "6     5  라모스       RF   0.97  30  127  127  113  17  34  ...   1  0  5  0.301   \n",
      "7     6  박준영       SS   0.95  34  118  117   99  16  21  ...   0  1  1  0.212   \n",
      "8     7  정수빈       CF   0.73  42  190  186  159  31  44  ...   4  4  3  0.277   \n",
      "9     8  이유찬       2B   0.34  17    8    8    8   5   4  ...   0  0  0  0.500   \n",
      "10    9  김재환       LF   0.32  41  168  166  139  24  33  ...   5  0  3  0.237   \n",
      "11   10  김기연        C   0.31  18   52   52   49   6  18  ...   3  0  0  0.367   \n",
      "12   11  양석환       1B   0.27  43  174  174  153  22  37  ...  10  0  1  0.242   \n",
      "13   12  김민혁       1B   0.25   5    8    8    5   1   1  ...   0  0  0  0.200   \n",
      "14   13  김재호       SS   0.06   5   18   16   11   4   3  ...   1  2  1  0.273   \n",
      "15   14  서예일       SS   0.06   2    0    0    0   0   0  ...   0  0  0          \n",
      "16   15  홍성호       RF   0.03   3    3    3    3   0   1  ...   0  0  0  0.333   \n",
      "17   16  장승현        C   0.02   9   23   22   20   1   4  ...   0  1  0  0.200   \n",
      "18   17  안승한        C   0.01   4    5    5    5   0   1  ...   0  0  0  0.200   \n",
      "19   18  김호준        P   0.00   1    0    0    0   0   0  ...   0  0  0          \n",
      "20   18  김동주        P   0.00   1    0    0    0   0   0  ...   0  0  0          \n",
      "21   18  김민규        P   0.00   1    0    0    0   0   0  ...   0  0  0          \n",
      "22   18  이영하        P   0.00   1    0    0    0   0   0  ...   0  0  0          \n",
      "23   18  정철원        P   0.00   2    0    0    0   0   0  ...   0  0  0          \n",
      "24   23  전다민       RF  -0.03   2    1    1    1   1   0  ...   0  0  0  0.000   \n",
      "25   24  윤준호        C  -0.07   1    1    1    1   0   0  ...   0  0  0  0.000   \n",
      "26   25  전민재       2B  -0.25  24   47   47   46   6  12  ...   2  0  1  0.261   \n",
      "27   26  김대한       CF  -0.28  26   58   56   47   7   6  ...   0  2  1  0.128   \n",
      "28   27  김인태       LF  -0.42  10   26   26   23   3   4  ...   1  0  1  0.174   \n",
      "29   28  박계범       SS  -0.43  24   20   20   15   5   3  ...   2  0  0  0.200   \n",
      "30   29  김태근       LF  -0.55  19   19   18   16   1   2  ...   0  1  0  0.125   \n",
      "\n",
      "      OBP    SLG    OPS   R/ePA    wRC+    Team  \n",
      "2   0.436  0.469  0.905   0.070   150.1  Doosan  \n",
      "3   0.362  0.600  0.962   0.067   147.5  Doosan  \n",
      "4   0.384  0.514  0.898   0.053   136.8  Doosan  \n",
      "5   0.345  0.329  0.674  -0.015    86.4  Doosan  \n",
      "6   0.339  0.513  0.852   0.040   127.6  Doosan  \n",
      "7   0.325  0.404  0.729  -0.001    95.8  Doosan  \n",
      "8   0.366  0.352  0.718  -0.003    94.7  Doosan  \n",
      "9   0.500  0.625  1.125   0.256   291.5  Doosan  \n",
      "10  0.351  0.468  0.819   0.013   106.9  Doosan  \n",
      "11  0.404  0.469  0.873   0.051   135.6  Doosan  \n",
      "12  0.328  0.444  0.772   0.005   101.0  Doosan  \n",
      "13  0.500  0.800  1.300   0.228   270.6  Doosan  \n",
      "14  0.438  0.455  0.893   0.062   139.0  Doosan  \n",
      "15                                       Doosan  \n",
      "16  0.333  0.667  1.000   0.099   171.9  Doosan  \n",
      "17  0.273  0.300  0.573  -0.062    52.1  Doosan  \n",
      "18  0.200  0.200  0.400  -0.146   -14.1  Doosan  \n",
      "19                                       Doosan  \n",
      "20                                       Doosan  \n",
      "21                                       Doosan  \n",
      "22                                       Doosan  \n",
      "23                                       Doosan  \n",
      "24  0.000  0.000  0.000  -0.328  -152.6  Doosan  \n",
      "25  0.000  0.000  0.000  -0.328  -152.6  Doosan  \n",
      "26  0.255  0.413  0.668  -0.061    50.7  Doosan  \n",
      "27  0.250  0.149  0.399  -0.108    17.6  Doosan  \n",
      "28  0.231  0.304  0.535  -0.123     2.9  Doosan  \n",
      "29  0.400  0.267  0.667   0.031   120.1  Doosan  \n",
      "30  0.222  0.125  0.347  -0.148    -9.5  Doosan  \n",
      "\n",
      "[29 rows x 31 columns]\n"
     ]
    }
   ],
   "source": [
    "data=pd.DataFrame(p)\n",
    "data = data[2:]\n",
    "data.columns=[\"Rank\",\"Name\",\"Position\",\"WAR\",\"G\",\"PA\",\"ePA\",\"AB\",\"R\",\"H\",\"2B\",\"3B\",\"HR\",\"TB\",\"RBI\",\"SB\",\"CS\",\"BB\",\"HP\",\"IB\",\"SO\",\"GDP\",\"SH\",\"SF\",\"AVG\",\"OBP\",\"SLG\",\"OPS\",\"R/ePA\",\"wRC+\",\"WAR2\"]\n",
    "data['Position'].replace({\"24  \" : \"\"}, regex=True,inplace=True)\n",
    "data['Team']=\"Doosan\"\n",
    "data.drop(columns=[\"WAR2\"], inplace=True)\n",
    "print(data)"
   ]
  },
  {
   "cell_type": "code",
   "execution_count": 16,
   "id": "9109adba",
   "metadata": {},
   "outputs": [],
   "source": [
    "data.to_csv(\"Doosan_hit.csv\", index=False)"
   ]
  },
  {
   "cell_type": "code",
   "execution_count": null,
   "id": "3476ffda",
   "metadata": {},
   "outputs": [],
   "source": []
  }
 ],
 "metadata": {
  "kernelspec": {
   "display_name": "Python 3 (ipykernel)",
   "language": "python",
   "name": "python3"
  },
  "language_info": {
   "codemirror_mode": {
    "name": "ipython",
    "version": 3
   },
   "file_extension": ".py",
   "mimetype": "text/x-python",
   "name": "python",
   "nbconvert_exporter": "python",
   "pygments_lexer": "ipython3",
   "version": "3.11.5"
  }
 },
 "nbformat": 4,
 "nbformat_minor": 5
}
