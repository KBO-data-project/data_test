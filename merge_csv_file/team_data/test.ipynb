{
 "cells": [
  {
   "cell_type": "code",
   "execution_count": 6,
   "metadata": {},
   "outputs": [],
   "source": [
    "import pandas as pd\n",
    "\n",
    "c = 'team_fielding_IF.csv'\n",
    "d = 'team_fielding_OF.csv'\n",
    "e = 'team_pitching.csv'\n",
    "#인코딩 이슈\n",
    "\n",
    "df_c = pd.read_csv(c, encoding='euc-kr')\n",
    "df_d = pd.read_csv(d, encoding='euc-kr')\n",
    "df_e = pd.read_csv(e, encoding='euc-kr')\n",
    "\n",
    "df_c.to_csv(c)\n",
    "df_d.to_csv(d)\n",
    "df_e.to_csv(e)\n",
    "\n",
    "\n"
   ]
  }
 ],
 "metadata": {
  "kernelspec": {
   "display_name": "Python 3",
   "language": "python",
   "name": "python3"
  },
  "language_info": {
   "codemirror_mode": {
    "name": "ipython",
    "version": 3
   },
   "file_extension": ".py",
   "mimetype": "text/x-python",
   "name": "python",
   "nbconvert_exporter": "python",
   "pygments_lexer": "ipython3",
   "version": "3.11.5"
  }
 },
 "nbformat": 4,
 "nbformat_minor": 2
}
