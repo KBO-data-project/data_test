{
 "cells": [
  {
   "cell_type": "code",
   "execution_count": 28,
   "metadata": {},
   "outputs": [
    {
     "name": "stdout",
     "output_type": "stream",
     "text": [
      "Index(['Name', 'Team', 'Position', 'Total RAA', 'G', 'GS', 'IP', 'WP', 'PB',\n",
      "       'Pass9', 'SB', 'CS', 'CS%', 'SBA', 'SBA%', 'SB 2', 'SB 3', 'SB H',\n",
      "       'SB Double', 'CS 2', 'CS 3', 'CS H', 'CS Double', 'Range RAA',\n",
      "       'Err RAA', 'CS RAA', 'Blk RAA', 'Frm RAA', '/144'],\n",
      "      dtype='object')\n",
      "Index(['NAME', 'TEAM', 'POSITION', 'TOTAL RAA', 'G', 'GS', 'IP', 'WP', 'PB',\n",
      "       'PASS9', 'SB', 'CS', 'CS%', 'SBA', 'SBA%', 'SB 2', 'SB 3', 'SB H',\n",
      "       'SB DOUBLE', 'CS 2', 'CS 3', 'CS H', 'CS DOUBLE', 'RANGE RAA',\n",
      "       'ERR RAA', 'CS RAA', 'BLK RAA', 'FRM RAA', '/144'],\n",
      "      dtype='object')\n",
      "29\n",
      "29\n"
     ]
    }
   ],
   "source": [
    "import pandas as pd\n",
    "a = 'KT_fielding_C.csv'\n",
    "b = 'merged_C.csv'\n",
    "#인코딩 이슈\n",
    "#df_ch = pd.read_csv(a, encoding='euc-kr')\n",
    "#df_ch.to_csv(a)\n",
    "\n",
    "df_ch = pd.read_csv(a)\n",
    "df_cl = pd.read_csv(b)\n",
    "\n",
    "\n",
    "df_ch = df_ch.drop(['Unnamed: 0'],axis=1)\n",
    "#df_cl = df_cl.drop(['UNNAMED: 0'],axis=1)\n",
    "#df_cl = df_cl.drop(['RANK'],axis=1)\n",
    "print(df_ch.columns)\n",
    "print(df_cl.columns)\n",
    "\n",
    "print(len(df_ch.columns))\n",
    "print(len(df_cl.columns))\n",
    "\n"
   ]
  },
  {
   "cell_type": "code",
   "execution_count": 29,
   "metadata": {},
   "outputs": [
    {
     "name": "stdout",
     "output_type": "stream",
     "text": [
      "  NAME TEAM POSITION  TOTAL RAA   G  GS     IP  WP  PB  PASS9  ...  CS 2  \\\n",
      "0  장성우   KT        C       2.27  34  31  244.2  10   0  0.368  ...     7   \n",
      "1  김준태   KT        C       0.49  10   3   36.0   1   0  0.250  ...     1   \n",
      "2  조대현   KT        C       0.15   7   1   22.2   1   0  0.397  ...     0   \n",
      "3  강백호   KT        C      -2.89  11   7   66.0   7   1  1.091  ...     1   \n",
      "4  이지영  SSG        C       2.34  38  32  285.1   8   0  0.252  ...    10   \n",
      "\n",
      "   CS 3  CS H  CS DOUBLE  RANGE RAA  ERR RAA  CS RAA  BLK RAA  FRM RAA  /144  \n",
      "0     0     0          0      -0.64     1.11    0.87     0.86      NaN  8.38  \n",
      "1     0     0          0       0.00     0.16   -0.47     0.80      NaN  5.89  \n",
      "2     0     0          0       0.00     0.10     NaN     0.05      NaN  3.12  \n",
      "3     0     0          0      -0.08    -0.70   -0.40    -1.71      NaN -9.90  \n",
      "4     0     1          0      -0.09    -0.19    0.04     2.51      NaN  8.41  \n",
      "\n",
      "[5 rows x 29 columns]\n"
     ]
    }
   ],
   "source": [
    "#cather part merge\n",
    "import pandas as pd\n",
    "\n",
    "df_ch.columns = [col.upper() for col in df_ch.columns]\n",
    "df_cl.columns = [col.upper() for col in df_cl.columns]\n",
    "\n",
    "# df_ch의 컬럼을 기준으로 df_cl의 컬럼명 매핑\n",
    "# df_ch에 있는 컬럼명만 df_cl에서 선택\n",
    "matched_columns = [col for col in df_cl.columns if col in df_ch.columns]\n",
    "\n",
    "# df_cl에서 df_ch와 일치하는 컬럼만 선택\n",
    "df_cl_matched = df_cl[matched_columns]\n",
    "\n",
    "# 두 데이터 프레임 병합\n",
    "merged_df = pd.concat([df_ch, df_cl_matched], ignore_index=True)\n",
    "\n",
    "# 병합된 데이터 프레임 출력 및 저장\n",
    "print(merged_df.head())\n",
    "merged_df.to_csv(b, index=False)\n"
   ]
  },
  {
   "cell_type": "code",
   "execution_count": null,
   "metadata": {},
   "outputs": [],
   "source": []
  }
 ],
 "metadata": {
  "kernelspec": {
   "display_name": "Python 3",
   "language": "python",
   "name": "python3"
  },
  "language_info": {
   "codemirror_mode": {
    "name": "ipython",
    "version": 3
   },
   "file_extension": ".py",
   "mimetype": "text/x-python",
   "name": "python",
   "nbconvert_exporter": "python",
   "pygments_lexer": "ipython3",
   "version": "3.11.5"
  }
 },
 "nbformat": 4,
 "nbformat_minor": 2
}
