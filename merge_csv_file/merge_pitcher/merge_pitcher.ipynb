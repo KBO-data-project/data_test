{
 "cells": [
  {
   "cell_type": "code",
   "execution_count": 17,
   "metadata": {},
   "outputs": [
    {
     "name": "stdout",
     "output_type": "stream",
     "text": [
      "Index(['Name', 'Team', 'Position', 'WAR', 'G', 'GS', 'GR', 'GF', 'CG', 'SHO',\n",
      "       'W', 'L', 'S', 'HD', 'IP', 'ER', 'R', 'rRA', 'TBF', 'H', '2B', '3B',\n",
      "       'HR', 'BB', 'HP', 'IB', 'SO', 'ROE', 'BK', 'WP', 'ERA', 'RA9', 'rRA9',\n",
      "       'rRA9pf', 'FIP', 'WHIP'],\n",
      "      dtype='object')\n",
      "Index(['NAME', 'TEAM', 'POSITION', 'WAR', 'G', 'GS', 'GR', 'GF', 'CG', 'SHO',\n",
      "       'W', 'L', 'S', 'HD', 'IP', 'ER', 'R', 'RRA', 'TBF', 'H', '2B', '3B',\n",
      "       'HR', 'BB', 'HP', 'IB', 'SO', 'ROE', 'BK', 'WP', 'ERA', 'RA9', 'RRA9',\n",
      "       'RRA9PF', 'FIP', 'WHIP'],\n",
      "      dtype='object')\n",
      "36\n",
      "36\n"
     ]
    }
   ],
   "source": [
    "import pandas as pd\n",
    "a = 'SSG_pitching.csv'\n",
    "b = 'merged_pitcher.csv'\n",
    "#인코딩 이슈\n",
    "#df_ch = pd.read_csv(a, encoding='euc-kr')\n",
    "#df_ch.to_csv(a)\n",
    "\n",
    "df_ch = pd.read_csv(a)\n",
    "df_cl = pd.read_csv(b)\n",
    "\n",
    "\n",
    "df_ch = df_ch.drop(['Unnamed: 0'],axis=1)\n",
    "#df_cl = df_cl.drop(['UNNAMED: 0'],axis=1)\n",
    "#df_cl = df_cl.drop(['RANK'],axis=1)\n",
    "print(df_ch.columns)\n",
    "print(df_cl.columns)\n",
    "\n",
    "print(len(df_ch.columns))\n",
    "print(len(df_cl.columns))\n",
    "\n"
   ]
  },
  {
   "cell_type": "code",
   "execution_count": 18,
   "metadata": {},
   "outputs": [
    {
     "name": "stdout",
     "output_type": "stream",
     "text": [
      "   NAME TEAM POSITION   WAR   G  GS  GR  GF  CG  SHO  ...  SO  ROE  BK  WP  \\\n",
      "0   김광현  SSG        P  0.89   9   9   0   0   0    0  ...  52    2   0   1   \n",
      "1  엘리아스  SSG        P  0.74   7   7   0   0   0    0  ...  34    4   0   2   \n",
      "2   문승원  SSG        P  0.65  17   0  17  17   0    0  ...  16    1   0   1   \n",
      "3   오원석  SSG        P  0.62   9   8   1   0   0    0  ...  34    1   0   3   \n",
      "4   노경은  SSG        P  0.53  23   0  23   2   0    0  ...  20    0   0   0   \n",
      "\n",
      "    ERA   RA9  RRA9  RRA9PF   FIP  WHIP  \n",
      "0  5.13  5.13  5.07    4.93  4.53  1.25  \n",
      "1  4.73  5.40  5.40    5.21  4.58  1.35  \n",
      "2  2.45  2.45  3.22    3.10  4.01  0.93  \n",
      "3  5.63  5.63  5.31    5.26  5.28  1.60  \n",
      "4  3.20  3.20  4.48    4.31  6.65  1.26  \n",
      "\n",
      "[5 rows x 36 columns]\n"
     ]
    }
   ],
   "source": [
    "#cather part merge\n",
    "import pandas as pd\n",
    "\n",
    "\n",
    "\n",
    "df_ch.columns = [col.upper() for col in df_ch.columns]\n",
    "df_cl.columns = [col.upper() for col in df_cl.columns]\n",
    "\n",
    "# df_ch의 컬럼을 기준으로 df_cl의 컬럼명 매핑\n",
    "# df_ch에 있는 컬럼명만 df_cl에서 선택\n",
    "matched_columns = [col for col in df_cl.columns if col in df_ch.columns]\n",
    "\n",
    "# df_cl에서 df_ch와 일치하는 컬럼만 선택\n",
    "df_cl_matched = df_cl[matched_columns]\n",
    "\n",
    "# 두 데이터 프레임 병합\n",
    "merged_df = pd.concat([df_ch, df_cl_matched], ignore_index=True)\n",
    "\n",
    "# 병합된 데이터 프레임 출력 및 저장\n",
    "print(merged_df.head())\n",
    "merged_df.to_csv(b, index=False)\n"
   ]
  },
  {
   "cell_type": "code",
   "execution_count": null,
   "metadata": {},
   "outputs": [],
   "source": []
  }
 ],
 "metadata": {
  "kernelspec": {
   "display_name": "Python 3",
   "language": "python",
   "name": "python3"
  },
  "language_info": {
   "codemirror_mode": {
    "name": "ipython",
    "version": 3
   },
   "file_extension": ".py",
   "mimetype": "text/x-python",
   "name": "python",
   "nbconvert_exporter": "python",
   "pygments_lexer": "ipython3",
   "version": "3.11.5"
  }
 },
 "nbformat": 4,
 "nbformat_minor": 2
}
