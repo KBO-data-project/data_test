{
 "cells": [
  {
   "cell_type": "code",
   "execution_count": 20,
   "metadata": {},
   "outputs": [
    {
     "name": "stdout",
     "output_type": "stream",
     "text": [
      "Index(['Name', 'Team', 'Position', 'WAR', 'G', 'PA', 'ePA', 'AB', 'R', 'H',\n",
      "       '2B', '3B', 'HR', 'TB', 'RBI', 'SB', 'CS', 'BB', 'HP', 'IB', 'SO',\n",
      "       'GDP', 'SH', 'SF', 'AVG', 'OBP', 'SLG', 'OPS', 'R/ePA', 'wRC+'],\n",
      "      dtype='object')\n",
      "Index(['NAME', 'TEAM', 'POSITION', 'WAR', 'G', 'PA', 'EPA', 'AB', 'R', 'H',\n",
      "       '2B', '3B', 'HR', 'TB', 'RBI', 'SB', 'CS', 'BB', 'HP', 'IB', 'SO',\n",
      "       'GDP', 'SH', 'SF', 'AVG', 'OBP', 'SLG', 'OPS', 'R/EPA', 'WRC+'],\n",
      "      dtype='object')\n",
      "30\n",
      "30\n"
     ]
    }
   ],
   "source": [
    "import pandas as pd\n",
    "a = 'SSG_batting.csv'\n",
    "b = 'merged_hit.csv'\n",
    "#인코딩 이슈\n",
    "#df_ch = pd.read_csv(a, encoding='euc-kr')\n",
    "#df_ch.to_csv(a)\n",
    "\n",
    "df_ch = pd.read_csv(a)\n",
    "df_cl = pd.read_csv(b)\n",
    "\n",
    "\n",
    "df_ch = df_ch.drop(['Unnamed: 0'],axis=1)\n",
    "df_cl = df_cl.drop(['UNNAMED: 0'],axis=1)\n",
    "#df_cl = df_cl.drop(['RANK'],axis=1)\n",
    "print(df_ch.columns)\n",
    "print(df_cl.columns)\n",
    "\n",
    "print(len(df_ch.columns))\n",
    "print(len(df_cl.columns))\n",
    "\n"
   ]
  },
  {
   "cell_type": "code",
   "execution_count": 21,
   "metadata": {},
   "outputs": [
    {
     "name": "stdout",
     "output_type": "stream",
     "text": [
      "   NAME TEAM POSITION   WAR     G   PA  EPA   AB   R   H  ...  SO  GDP  SH  \\\n",
      "0  에레디아  SSG       LF  1.56  39.0  165  163  149  27  58  ...  22    4   0   \n",
      "1   최지훈  SSG       CF  1.36  42.0  195  194  172  31  48  ...  29    2   1   \n",
      "2    최정  SSG       3B  1.33  36.0  152  152  129  25  35  ...  32    4   0   \n",
      "3   박성한  SSG       SS  1.01  42.0  184  182  163  24  49  ...  24    3   1   \n",
      "4   이지영  SSG        C  0.80  40.0  133  132  122  14  35  ...   9    1   1   \n",
      "\n",
      "   SF    AVG    OBP    SLG    OPS  R/EPA   WRC+  \n",
      "0   2  0.389  0.436  0.557  0.993  0.079  156.5  \n",
      "1   1  0.279  0.356  0.384  0.740 -0.005   93.0  \n",
      "2   1  0.271  0.375  0.628  1.003  0.065  146.3  \n",
      "3   0  0.301  0.377  0.374  0.751  0.001   97.6  \n",
      "4   1  0.287  0.333  0.303  0.636 -0.026   77.1  \n",
      "\n",
      "[5 rows x 30 columns]\n"
     ]
    }
   ],
   "source": [
    "#cather part merge\n",
    "import pandas as pd\n",
    "\n",
    "df_ch.columns = [col.upper() for col in df_ch.columns]\n",
    "df_cl.columns = [col.upper() for col in df_cl.columns]\n",
    "\n",
    "# df_ch의 컬럼을 기준으로 df_cl의 컬럼명 매핑\n",
    "# df_ch에 있는 컬럼명만 df_cl에서 선택\n",
    "matched_columns = [col for col in df_cl.columns if col in df_ch.columns]\n",
    "\n",
    "# df_cl에서 df_ch와 일치하는 컬럼만 선택\n",
    "df_cl_matched = df_cl[matched_columns]\n",
    "\n",
    "# 두 데이터 프레임 병합\n",
    "merged_df = pd.concat([df_ch, df_cl_matched], ignore_index=True)\n",
    "\n",
    "# 병합된 데이터 프레임 출력 및 저장\n",
    "print(merged_df.head())\n",
    "merged_df.to_csv(b, index=False)\n"
   ]
  },
  {
   "cell_type": "code",
   "execution_count": null,
   "metadata": {},
   "outputs": [],
   "source": []
  }
 ],
 "metadata": {
  "kernelspec": {
   "display_name": "Python 3",
   "language": "python",
   "name": "python3"
  },
  "language_info": {
   "codemirror_mode": {
    "name": "ipython",
    "version": 3
   },
   "file_extension": ".py",
   "mimetype": "text/x-python",
   "name": "python",
   "nbconvert_exporter": "python",
   "pygments_lexer": "ipython3",
   "version": "3.11.5"
  }
 },
 "nbformat": 4,
 "nbformat_minor": 2
}
