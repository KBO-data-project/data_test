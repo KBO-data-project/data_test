{
 "cells": [
  {
   "cell_type": "code",
   "execution_count": 17,
   "metadata": {},
   "outputs": [
    {
     "name": "stdout",
     "output_type": "stream",
     "text": [
      "Index(['Name', 'Team', 'Position', 'Total RAA', 'G', 'GS', 'IP', 'BAFZ', 'RF9',\n",
      "       'ofAss', 'F12 A', 'F12 N', 'F12 %', 'F23 A', 'F23 N', 'F23 %', 'F34 A',\n",
      "       'F34 N', 'F34 %', 'H13 A', 'H13 N', 'H13 %', 'H24 A', 'H24 N', 'H24 %',\n",
      "       'D14 A', 'D14 N', 'D14 %', 'Range RAA', 'Arm RAA', 'Err RAA', '/144'],\n",
      "      dtype='object')\n",
      "Index(['NAME', 'TEAM', 'POSITION', 'TOTAL RAA', 'G', 'GS', 'IP', 'BAFZ', 'RF9',\n",
      "       'OFASS', 'F12 A', 'F12 N', 'F12 %', 'F23 A', 'F23 N', 'F23 %', 'F34 A',\n",
      "       'F34 N', 'F34 %', 'H13 A', 'H13 N', 'H13 %', 'H24 A', 'H24 N', 'H24 %',\n",
      "       'D14 A', 'D14 N', 'D14 %', 'RANGE RAA', 'ARM RAA', 'ERR RAA', '/144'],\n",
      "      dtype='object')\n",
      "32\n",
      "32\n"
     ]
    }
   ],
   "source": [
    "import pandas as pd\n",
    "a = 'SSG_fielding_OF.csv'\n",
    "b = 'merged_OF.csv'\n",
    "#인코딩 이슈\n",
    "#df_ch = pd.read_csv(a, encoding='euc-kr')\n",
    "#df_ch.to_csv(a)\n",
    "\n",
    "df_ch = pd.read_csv(a)\n",
    "df_cl = pd.read_csv(b)\n",
    "\n",
    "\n",
    "df_ch = df_ch.drop(['Unnamed: 0'],axis=1)\n",
    "#df_cl = df_cl.drop(['UNNAMED: 0'],axis=1)\n",
    "#df_cl = df_cl.drop(['RANK'],axis=1)\n",
    "print(df_ch.columns)\n",
    "print(df_cl.columns)\n",
    "\n",
    "print(len(df_ch.columns))\n",
    "print(len(df_cl.columns))\n",
    "\n"
   ]
  },
  {
   "cell_type": "code",
   "execution_count": 18,
   "metadata": {},
   "outputs": [
    {
     "name": "stdout",
     "output_type": "stream",
     "text": [
      "  NAME TEAM POSITION  TOTAL RAA   G  GS     IP  BAFZ   RF9  OFASS  ...  H24 A  \\\n",
      "0  최지훈  SSG       CF       4.71  42  41  358.0  46.6  2.51      1  ...      0   \n",
      "1  하재훈  SSG       LF       0.49  11   8   88.0  16.7  2.15      3  ...      0   \n",
      "2  강진성  SSG       LF       0.31   1   0    3.0   NaN  3.00      0  ...      0   \n",
      "3  김창평  SSG       RF       0.26   1   1    4.0   NaN  6.75      0  ...      0   \n",
      "4  하재훈  SSG       CF       0.17   1   0    1.0   NaN  9.00      0  ...      0   \n",
      "\n",
      "   H24 N  H24 %  D14 A  D14 N  D14 %  RANGE RAA  ARM RAA  ERR RAA   /144  \n",
      "0     13    0.0      1      1    0.0       4.60     1.06    -0.95  16.14  \n",
      "1      2    NaN      1      2    NaN       0.59     0.32    -0.41   1.85  \n",
      "2      0    NaN      0      0    NaN       0.31      NaN     0.00   7.54  \n",
      "3      0    NaN      0      0    NaN       0.25      NaN     0.01   6.24  \n",
      "4      0    NaN      0      0    NaN       0.17      NaN     0.00   0.65  \n",
      "\n",
      "[5 rows x 32 columns]\n"
     ]
    }
   ],
   "source": [
    "#cather part merge\n",
    "import pandas as pd\n",
    "\n",
    "\n",
    "df_ch.columns = [col.upper() for col in df_ch.columns]\n",
    "df_cl.columns = [col.upper() for col in df_cl.columns]\n",
    "\n",
    "# df_ch의 컬럼을 기준으로 df_cl의 컬럼명 매핑\n",
    "# df_ch에 있는 컬럼명만 df_cl에서 선택\n",
    "matched_columns = [col for col in df_cl.columns if col in df_ch.columns]\n",
    "\n",
    "# df_cl에서 df_ch와 일치하는 컬럼만 선택\n",
    "df_cl_matched = df_cl[matched_columns]\n",
    "\n",
    "# 두 데이터 프레임 병합\n",
    "merged_df = pd.concat([df_ch, df_cl_matched], ignore_index=True)\n",
    "\n",
    "# 병합된 데이터 프레임 출력 및 저장\n",
    "print(merged_df.head())\n",
    "merged_df.to_csv(b, index=False)\n"
   ]
  },
  {
   "cell_type": "code",
   "execution_count": null,
   "metadata": {},
   "outputs": [],
   "source": []
  }
 ],
 "metadata": {
  "kernelspec": {
   "display_name": "Python 3",
   "language": "python",
   "name": "python3"
  },
  "language_info": {
   "codemirror_mode": {
    "name": "ipython",
    "version": 3
   },
   "file_extension": ".py",
   "mimetype": "text/x-python",
   "name": "python",
   "nbconvert_exporter": "python",
   "pygments_lexer": "ipython3",
   "version": "3.11.5"
  }
 },
 "nbformat": 4,
 "nbformat_minor": 2
}
