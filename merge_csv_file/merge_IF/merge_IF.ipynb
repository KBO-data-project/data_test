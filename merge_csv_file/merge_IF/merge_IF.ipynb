{
 "cells": [
  {
   "cell_type": "code",
   "execution_count": 31,
   "metadata": {},
   "outputs": [
    {
     "name": "stdout",
     "output_type": "stream",
     "text": [
      "Index(['Name', 'Team', 'Position', 'Total RAA', 'G', 'GS', 'IP', 'ifH', 'FC',\n",
      "       'PO', 'Ass', 'E', 'BBO', 'BBO%', 'F%', 'RF9', 'Range RAA', 'Err RAA',\n",
      "       'DP RAA', 'Bt RAA', '/144'],\n",
      "      dtype='object')\n",
      "Index(['NAME', 'TEAM', 'POSITION', 'TOTAL RAA', 'G', 'GS', 'IP', 'IFH', 'FC',\n",
      "       'PO', 'ASS', 'E', 'BBO', 'BBO%', 'F%', 'RF9', 'RANGE RAA', 'ERR RAA',\n",
      "       'DP RAA', 'BT RAA', '/144'],\n",
      "      dtype='object')\n",
      "21\n",
      "21\n"
     ]
    }
   ],
   "source": [
    "import pandas as pd\n",
    "a = 'SSG_fielding_IF.csv'\n",
    "b = 'merged_IF.csv'\n",
    "#인코딩 이슈\n",
    "#df_ch = pd.read_csv(a, encoding='euc-kr')\n",
    "#df_ch.to_csv(a)\n",
    "\n",
    "df_ch = pd.read_csv(a)\n",
    "df_cl = pd.read_csv(b)\n",
    "\n",
    "\n",
    "df_ch = df_ch.drop(['Unnamed: 0'],axis=1)\n",
    "#df_cl = df_cl.drop(['UNNAMED: 0'],axis=1)\n",
    "#df_cl = df_cl.drop(['RANK'],axis=1)\n",
    "print(df_ch.columns)\n",
    "print(df_cl.columns)\n",
    "\n",
    "print(len(df_ch.columns))\n",
    "print(len(df_cl.columns))\n",
    "\n"
   ]
  },
  {
   "cell_type": "code",
   "execution_count": 32,
   "metadata": {},
   "outputs": [
    {
     "name": "stdout",
     "output_type": "stream",
     "text": [
      "  NAME TEAM POSITION  TOTAL RAA   G  GS     IP  IFH  FC   PO  ...  E  BBO  \\\n",
      "0  오태곤  SSG       1B       5.28  23   4   79.0    2   0   77  ...  0   36   \n",
      "1  고명준  SSG       1B       4.96  32  31  238.0    9   0  198  ...  1  114   \n",
      "2  김성현  SSG       3B       3.83   9   7   67.0    1   0    4  ...  0   11   \n",
      "3  최경모  SSG       2B       1.97  10   2   38.2    2   0    6  ...  1    3   \n",
      "4  정준재  SSG       2B       1.74   3   3   15.1    0   0    2  ...  0    8   \n",
      "\n",
      "    BBO%     F%   RF9  RANGE RAA  ERR RAA  DP RAA  BT RAA   /144  \n",
      "0   94.4  100.0  9.34       4.96     0.20     NaN    0.12  21.13  \n",
      "1   91.2   99.5  8.24       4.38     0.59     NaN   -0.01  17.86  \n",
      "2   90.9  100.0  2.82       3.55     0.24    0.00    0.03  29.00  \n",
      "3    0.0   95.5  4.89       2.13    -0.36    0.19     NaN  10.50  \n",
      "4  100.0  100.0  6.46       1.69     0.06     NaN     NaN  41.86  \n",
      "\n",
      "[5 rows x 21 columns]\n"
     ]
    }
   ],
   "source": [
    "#cather part merge\n",
    "import pandas as pd\n",
    "\n",
    "\n",
    "df_ch.columns = [col.upper() for col in df_ch.columns]\n",
    "df_cl.columns = [col.upper() for col in df_cl.columns]\n",
    "\n",
    "# df_ch의 컬럼을 기준으로 df_cl의 컬럼명 매핑\n",
    "# df_ch에 있는 컬럼명만 df_cl에서 선택\n",
    "matched_columns = [col for col in df_cl.columns if col in df_ch.columns]\n",
    "\n",
    "# df_cl에서 df_ch와 일치하는 컬럼만 선택\n",
    "df_cl_matched = df_cl[matched_columns]\n",
    "\n",
    "# 두 데이터 프레임 병합\n",
    "merged_df = pd.concat([df_ch, df_cl_matched], ignore_index=True)\n",
    "\n",
    "# 병합된 데이터 프레임 출력 및 저장\n",
    "print(merged_df.head())\n",
    "merged_df.to_csv(b, index=False)\n"
   ]
  },
  {
   "cell_type": "code",
   "execution_count": null,
   "metadata": {},
   "outputs": [],
   "source": []
  }
 ],
 "metadata": {
  "kernelspec": {
   "display_name": "Python 3",
   "language": "python",
   "name": "python3"
  },
  "language_info": {
   "codemirror_mode": {
    "name": "ipython",
    "version": 3
   },
   "file_extension": ".py",
   "mimetype": "text/x-python",
   "name": "python",
   "nbconvert_exporter": "python",
   "pygments_lexer": "ipython3",
   "version": "3.11.5"
  }
 },
 "nbformat": 4,
 "nbformat_minor": 2
}
