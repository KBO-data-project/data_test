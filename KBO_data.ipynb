{
 "cells": [
  {
   "cell_type": "code",
   "execution_count": 1,
   "metadata": {},
   "outputs": [],
   "source": [
    "# library import\n",
    "from bs4 import BeautifulSoup\n",
    "import re\n",
    "from selenium import webdriver\n",
    "from selenium.webdriver.common.by import By\n",
    "from selenium.webdriver.common.keys import Keys\n",
    "from selenium.webdriver.chrome.service import Service\n",
    "from webdriver_manager.chrome import ChromeDriverManager\n",
    "import pandas as pd\n",
    "from selenium.webdriver.support.ui import WebDriverWait\n",
    "from selenium.webdriver.support import expected_conditions as EC\n",
    "\n",
    "from selenium import webdriver\n",
    "from selenium.webdriver.common.by import By\n",
    "from selenium.webdriver.chrome.service import Service\n",
    "from selenium.webdriver.support.ui import WebDriverWait\n",
    "from selenium.webdriver.support import expected_conditions as EC\n",
    "from selenium.common.exceptions import NoSuchElementException, TimeoutException\n",
    "from webdriver_manager.chrome import ChromeDriverManager\n",
    "import time"
   ]
  },
  {
   "cell_type": "markdown",
   "metadata": {},
   "source": [
    "타자 데이터 - 한화"
   ]
  },
  {
   "cell_type": "code",
   "execution_count": 61,
   "metadata": {},
   "outputs": [
    {
     "data": {
      "text/plain": [
       "'\\nfor i in range(3,12,1):\\n    position_btn = driver.find_element(By.XPATH,f\\'//*[@id=\"select_position\"]/button\\').click()\\n    time.sleep(1)\\n    position_btn = driver.find_element(By.XPATH,f\\'//*[@id=\"select_position\"]/ul/li[{i}]\\').click()\\n    time.sleep(1)\\n\\n'"
      ]
     },
     "execution_count": 61,
     "metadata": {},
     "output_type": "execute_result"
    }
   ],
   "source": [
    "\n",
    "URL = \"https://statiz.sporki.com/stats/?m=main&m2=batting&m3=default&so=WAR&ob=DESC&year=2024&sy=&ey=&te=7002&po=&lt=10100&reg=A&pe=&ds=&de=&we=&hr=&ha=&ct=&st=&vp=&bo=&pt=&pp=&ii=&vc=&um=&oo=&rr=&sc=&bc=&ba=&li=&as=&ae=&pl=&gc=&lr=&pr=50&ph=&hs=&us=&na=&ls=&sf1=&sk1=&sv1=&sf2=&sk2=&sv2=\"\n",
    "option = webdriver.ChromeOptions()\n",
    "option.add_experimental_option(\"excludeSwitches\", [\"enable-logging\"])\n",
    "driver = webdriver.Chrome(service=Service(ChromeDriverManager().install()),options=option)\n",
    "driver.get(URL)\n",
    "time.sleep(3)\n",
    "columns = [\n",
    "    \"RANK\", \"NAME\", \"season\", \"Position\", \"WAR\", \"G\", \"PA\", \"ePA\", \"AB\", \"R\", \n",
    "    \"H\", \"2B\", \"3B\", \"HR\", \"TB\", \"RBI\", \"SB\", \"CS\", \"BB\", \"HP\", \"IB\", \"SO\", \n",
    "    \"GDP\", \"SH\", \"SF\", \"AVG\", \"OBP\", \"SLG\", \"OPS\", \"R/ePA\", \"wRC+\",\"WAR2\"\n",
    "]\n",
    "data_rows=[]\n",
    "\n",
    "\n",
    "\n",
    "\n",
    "for i in range(3,12,1):\n",
    "    position_btn = driver.find_element(By.XPATH,f'//*[@id=\"select_position\"]/button').click()\n",
    "    time.sleep(1)\n",
    "    position_btn = driver.find_element(By.XPATH,f'//*[@id=\"select_position\"]/ul/li[{i}]').click()\n",
    "    time.sleep(1)\n",
    "    table_xpath = \"/html/body/div[2]/div[5]/section/div[8]/table\"\n",
    "    table = driver.find_element(By.XPATH,table_xpath)\n",
    "    tbody = table.find_element(By.TAG_NAME,\"tbody\")\n",
    "    for j in range(3,30,1):\n",
    "        try:\n",
    "            row = driver.find_element(By.XPATH, f'/html/body/div[2]/div[5]/section/div[8]/table/tbody/tr[{j}]').text\n",
    "            data = row.split()\n",
    "            data_rows.append(data)\n",
    "            \n",
    "        except NoSuchElementException:\n",
    "            \n",
    "            continue\n",
    "\n",
    "\n",
    "\n",
    "df = pd.DataFrame(data_rows, columns=columns)\n",
    "df = df.drop(df.columns[-1],axis=1)\n",
    "df.to_csv(\"hitter_hanhwa_eagles.csv\",encoding='utf-8-sig')\n",
    "\n",
    "'''\n",
    "for i in range(3,12,1):\n",
    "    position_btn = driver.find_element(By.XPATH,f'//*[@id=\"select_position\"]/button').click()\n",
    "    time.sleep(1)\n",
    "    position_btn = driver.find_element(By.XPATH,f'//*[@id=\"select_position\"]/ul/li[{i}]').click()\n",
    "    time.sleep(1)\n",
    "\n",
    "'''\n",
    "\n",
    "\n"
   ]
  },
  {
   "cell_type": "markdown",
   "metadata": {},
   "source": [
    "투수 데이터 - 한화"
   ]
  },
  {
   "cell_type": "code",
   "execution_count": 4,
   "metadata": {},
   "outputs": [
    {
     "ename": "NoSuchWindowException",
     "evalue": "Message: no such window: target window already closed\nfrom unknown error: web view not found\n  (Session info: chrome=124.0.6367.158)\nStacktrace:\n\tGetHandleVerifier [0x00B5C183+48259]\n\t(No symbol) [0x00AECAB1]\n\t(No symbol) [0x009E0A17]\n\t(No symbol) [0x009BE02B]\n\t(No symbol) [0x00A4742E]\n\t(No symbol) [0x00A59476]\n\t(No symbol) [0x00A40B36]\n\t(No symbol) [0x00A1570D]\n\t(No symbol) [0x00A162CD]\n\tGetHandleVerifier [0x00E16613+2908435]\n\tGetHandleVerifier [0x00E53C2B+3159851]\n\tGetHandleVerifier [0x00BF513B+674875]\n\tGetHandleVerifier [0x00BFB2FC+699900]\n\t(No symbol) [0x00AF62B4]\n\t(No symbol) [0x00AF2308]\n\t(No symbol) [0x00AF249C]\n\t(No symbol) [0x00AE4C20]\n\tBaseThreadInitThunk [0x76BE7BA9+25]\n\tRtlInitializeExceptionChain [0x77DDBE3B+107]\n\tRtlClearBits [0x77DDBDBF+191]\n",
     "output_type": "error",
     "traceback": [
      "\u001b[1;31m---------------------------------------------------------------------------\u001b[0m",
      "\u001b[1;31mNoSuchWindowException\u001b[0m                     Traceback (most recent call last)",
      "Cell \u001b[1;32mIn[4], line 15\u001b[0m\n\u001b[0;32m     12\u001b[0m driver\u001b[38;5;241m.\u001b[39mget(URL)\n\u001b[0;32m     14\u001b[0m table_xpath \u001b[38;5;241m=\u001b[39m \u001b[38;5;124m\"\u001b[39m\u001b[38;5;124m/html/body/div[2]/div[5]/section/div[8]/table\u001b[39m\u001b[38;5;124m\"\u001b[39m\n\u001b[1;32m---> 15\u001b[0m table \u001b[38;5;241m=\u001b[39m \u001b[43mdriver\u001b[49m\u001b[38;5;241;43m.\u001b[39;49m\u001b[43mfind_element\u001b[49m\u001b[43m(\u001b[49m\u001b[43mBy\u001b[49m\u001b[38;5;241;43m.\u001b[39;49m\u001b[43mXPATH\u001b[49m\u001b[43m,\u001b[49m\u001b[43m \u001b[49m\u001b[43mtable_xpath\u001b[49m\u001b[43m)\u001b[49m\n\u001b[0;32m     16\u001b[0m tbody \u001b[38;5;241m=\u001b[39m table\u001b[38;5;241m.\u001b[39mfind_element(By\u001b[38;5;241m.\u001b[39mTAG_NAME, \u001b[38;5;124m\"\u001b[39m\u001b[38;5;124mtbody\u001b[39m\u001b[38;5;124m\"\u001b[39m)\n\u001b[0;32m     18\u001b[0m columns \u001b[38;5;241m=\u001b[39m [\n\u001b[0;32m     19\u001b[0m     \u001b[38;5;124m\"\u001b[39m\u001b[38;5;124mRank\u001b[39m\u001b[38;5;124m\"\u001b[39m, \u001b[38;5;124m\"\u001b[39m\u001b[38;5;124mName\u001b[39m\u001b[38;5;124m\"\u001b[39m,\u001b[38;5;124m\"\u001b[39m\u001b[38;5;124mseason\u001b[39m\u001b[38;5;124m\"\u001b[39m, \u001b[38;5;124m\"\u001b[39m\u001b[38;5;124mPosition\u001b[39m\u001b[38;5;124m\"\u001b[39m, \u001b[38;5;124m\"\u001b[39m\u001b[38;5;124mWAR\u001b[39m\u001b[38;5;124m\"\u001b[39m, \u001b[38;5;124m\"\u001b[39m\u001b[38;5;124mG\u001b[39m\u001b[38;5;124m\"\u001b[39m, \u001b[38;5;124m\"\u001b[39m\u001b[38;5;124mGS\u001b[39m\u001b[38;5;124m\"\u001b[39m, \u001b[38;5;124m\"\u001b[39m\u001b[38;5;124mGR\u001b[39m\u001b[38;5;124m\"\u001b[39m, \u001b[38;5;124m\"\u001b[39m\u001b[38;5;124mGF\u001b[39m\u001b[38;5;124m\"\u001b[39m, \u001b[38;5;124m\"\u001b[39m\u001b[38;5;124mCG\u001b[39m\u001b[38;5;124m\"\u001b[39m, \u001b[38;5;124m\"\u001b[39m\u001b[38;5;124mSHO\u001b[39m\u001b[38;5;124m\"\u001b[39m,\n\u001b[0;32m     20\u001b[0m     \u001b[38;5;124m\"\u001b[39m\u001b[38;5;124mW\u001b[39m\u001b[38;5;124m\"\u001b[39m, \u001b[38;5;124m\"\u001b[39m\u001b[38;5;124mL\u001b[39m\u001b[38;5;124m\"\u001b[39m, \u001b[38;5;124m\"\u001b[39m\u001b[38;5;124mS\u001b[39m\u001b[38;5;124m\"\u001b[39m, \u001b[38;5;124m\"\u001b[39m\u001b[38;5;124mHD\u001b[39m\u001b[38;5;124m\"\u001b[39m, \u001b[38;5;124m\"\u001b[39m\u001b[38;5;124mIP\u001b[39m\u001b[38;5;124m\"\u001b[39m, \u001b[38;5;124m\"\u001b[39m\u001b[38;5;124mER\u001b[39m\u001b[38;5;124m\"\u001b[39m, \u001b[38;5;124m\"\u001b[39m\u001b[38;5;124mR\u001b[39m\u001b[38;5;124m\"\u001b[39m, \u001b[38;5;124m\"\u001b[39m\u001b[38;5;124mrRA\u001b[39m\u001b[38;5;124m\"\u001b[39m, \u001b[38;5;124m\"\u001b[39m\u001b[38;5;124mTBF\u001b[39m\u001b[38;5;124m\"\u001b[39m, \u001b[38;5;124m\"\u001b[39m\u001b[38;5;124mH\u001b[39m\u001b[38;5;124m\"\u001b[39m, \u001b[38;5;124m\"\u001b[39m\u001b[38;5;124m2B\u001b[39m\u001b[38;5;124m\"\u001b[39m, \u001b[38;5;124m\"\u001b[39m\u001b[38;5;124m3B\u001b[39m\u001b[38;5;124m\"\u001b[39m,\n\u001b[0;32m     21\u001b[0m     \u001b[38;5;124m\"\u001b[39m\u001b[38;5;124mHR\u001b[39m\u001b[38;5;124m\"\u001b[39m, \u001b[38;5;124m\"\u001b[39m\u001b[38;5;124mBB\u001b[39m\u001b[38;5;124m\"\u001b[39m, \u001b[38;5;124m\"\u001b[39m\u001b[38;5;124mHP\u001b[39m\u001b[38;5;124m\"\u001b[39m, \u001b[38;5;124m\"\u001b[39m\u001b[38;5;124mIB\u001b[39m\u001b[38;5;124m\"\u001b[39m, \u001b[38;5;124m\"\u001b[39m\u001b[38;5;124mSO\u001b[39m\u001b[38;5;124m\"\u001b[39m, \u001b[38;5;124m\"\u001b[39m\u001b[38;5;124mROE\u001b[39m\u001b[38;5;124m\"\u001b[39m, \u001b[38;5;124m\"\u001b[39m\u001b[38;5;124mBK\u001b[39m\u001b[38;5;124m\"\u001b[39m, \u001b[38;5;124m\"\u001b[39m\u001b[38;5;124mWP\u001b[39m\u001b[38;5;124m\"\u001b[39m, \u001b[38;5;124m\"\u001b[39m\u001b[38;5;124mERA\u001b[39m\u001b[38;5;124m\"\u001b[39m, \u001b[38;5;124m\"\u001b[39m\u001b[38;5;124mRA9\u001b[39m\u001b[38;5;124m\"\u001b[39m, \u001b[38;5;124m\"\u001b[39m\u001b[38;5;124mrRA9\u001b[39m\u001b[38;5;124m\"\u001b[39m,\n\u001b[0;32m     22\u001b[0m     \u001b[38;5;124m\"\u001b[39m\u001b[38;5;124mrRA9pf\u001b[39m\u001b[38;5;124m\"\u001b[39m, \u001b[38;5;124m\"\u001b[39m\u001b[38;5;124mFIP\u001b[39m\u001b[38;5;124m\"\u001b[39m, \u001b[38;5;124m\"\u001b[39m\u001b[38;5;124mWHIP\u001b[39m\u001b[38;5;124m\"\u001b[39m, \u001b[38;5;124m\"\u001b[39m\u001b[38;5;124mWAR2\u001b[39m\u001b[38;5;124m\"\u001b[39m\n\u001b[0;32m     23\u001b[0m ]\n",
      "File \u001b[1;32mc:\\Users\\dldud\\AppData\\Local\\Programs\\Python\\Python311\\Lib\\site-packages\\selenium\\webdriver\\remote\\webdriver.py:741\u001b[0m, in \u001b[0;36mWebDriver.find_element\u001b[1;34m(self, by, value)\u001b[0m\n\u001b[0;32m    738\u001b[0m     by \u001b[38;5;241m=\u001b[39m By\u001b[38;5;241m.\u001b[39mCSS_SELECTOR\n\u001b[0;32m    739\u001b[0m     value \u001b[38;5;241m=\u001b[39m \u001b[38;5;124mf\u001b[39m\u001b[38;5;124m'\u001b[39m\u001b[38;5;124m[name=\u001b[39m\u001b[38;5;124m\"\u001b[39m\u001b[38;5;132;01m{\u001b[39;00mvalue\u001b[38;5;132;01m}\u001b[39;00m\u001b[38;5;124m\"\u001b[39m\u001b[38;5;124m]\u001b[39m\u001b[38;5;124m'\u001b[39m\n\u001b[1;32m--> 741\u001b[0m \u001b[38;5;28;01mreturn\u001b[39;00m \u001b[38;5;28;43mself\u001b[39;49m\u001b[38;5;241;43m.\u001b[39;49m\u001b[43mexecute\u001b[49m\u001b[43m(\u001b[49m\u001b[43mCommand\u001b[49m\u001b[38;5;241;43m.\u001b[39;49m\u001b[43mFIND_ELEMENT\u001b[49m\u001b[43m,\u001b[49m\u001b[43m \u001b[49m\u001b[43m{\u001b[49m\u001b[38;5;124;43m\"\u001b[39;49m\u001b[38;5;124;43musing\u001b[39;49m\u001b[38;5;124;43m\"\u001b[39;49m\u001b[43m:\u001b[49m\u001b[43m \u001b[49m\u001b[43mby\u001b[49m\u001b[43m,\u001b[49m\u001b[43m \u001b[49m\u001b[38;5;124;43m\"\u001b[39;49m\u001b[38;5;124;43mvalue\u001b[39;49m\u001b[38;5;124;43m\"\u001b[39;49m\u001b[43m:\u001b[49m\u001b[43m \u001b[49m\u001b[43mvalue\u001b[49m\u001b[43m}\u001b[49m\u001b[43m)\u001b[49m[\u001b[38;5;124m\"\u001b[39m\u001b[38;5;124mvalue\u001b[39m\u001b[38;5;124m\"\u001b[39m]\n",
      "File \u001b[1;32mc:\\Users\\dldud\\AppData\\Local\\Programs\\Python\\Python311\\Lib\\site-packages\\selenium\\webdriver\\remote\\webdriver.py:347\u001b[0m, in \u001b[0;36mWebDriver.execute\u001b[1;34m(self, driver_command, params)\u001b[0m\n\u001b[0;32m    345\u001b[0m response \u001b[38;5;241m=\u001b[39m \u001b[38;5;28mself\u001b[39m\u001b[38;5;241m.\u001b[39mcommand_executor\u001b[38;5;241m.\u001b[39mexecute(driver_command, params)\n\u001b[0;32m    346\u001b[0m \u001b[38;5;28;01mif\u001b[39;00m response:\n\u001b[1;32m--> 347\u001b[0m     \u001b[38;5;28;43mself\u001b[39;49m\u001b[38;5;241;43m.\u001b[39;49m\u001b[43merror_handler\u001b[49m\u001b[38;5;241;43m.\u001b[39;49m\u001b[43mcheck_response\u001b[49m\u001b[43m(\u001b[49m\u001b[43mresponse\u001b[49m\u001b[43m)\u001b[49m\n\u001b[0;32m    348\u001b[0m     response[\u001b[38;5;124m\"\u001b[39m\u001b[38;5;124mvalue\u001b[39m\u001b[38;5;124m\"\u001b[39m] \u001b[38;5;241m=\u001b[39m \u001b[38;5;28mself\u001b[39m\u001b[38;5;241m.\u001b[39m_unwrap_value(response\u001b[38;5;241m.\u001b[39mget(\u001b[38;5;124m\"\u001b[39m\u001b[38;5;124mvalue\u001b[39m\u001b[38;5;124m\"\u001b[39m, \u001b[38;5;28;01mNone\u001b[39;00m))\n\u001b[0;32m    349\u001b[0m     \u001b[38;5;28;01mreturn\u001b[39;00m response\n",
      "File \u001b[1;32mc:\\Users\\dldud\\AppData\\Local\\Programs\\Python\\Python311\\Lib\\site-packages\\selenium\\webdriver\\remote\\errorhandler.py:229\u001b[0m, in \u001b[0;36mErrorHandler.check_response\u001b[1;34m(self, response)\u001b[0m\n\u001b[0;32m    227\u001b[0m         alert_text \u001b[38;5;241m=\u001b[39m value[\u001b[38;5;124m\"\u001b[39m\u001b[38;5;124malert\u001b[39m\u001b[38;5;124m\"\u001b[39m]\u001b[38;5;241m.\u001b[39mget(\u001b[38;5;124m\"\u001b[39m\u001b[38;5;124mtext\u001b[39m\u001b[38;5;124m\"\u001b[39m)\n\u001b[0;32m    228\u001b[0m     \u001b[38;5;28;01mraise\u001b[39;00m exception_class(message, screen, stacktrace, alert_text)  \u001b[38;5;66;03m# type: ignore[call-arg]  # mypy is not smart enough here\u001b[39;00m\n\u001b[1;32m--> 229\u001b[0m \u001b[38;5;28;01mraise\u001b[39;00m exception_class(message, screen, stacktrace)\n",
      "\u001b[1;31mNoSuchWindowException\u001b[0m: Message: no such window: target window already closed\nfrom unknown error: web view not found\n  (Session info: chrome=124.0.6367.158)\nStacktrace:\n\tGetHandleVerifier [0x00B5C183+48259]\n\t(No symbol) [0x00AECAB1]\n\t(No symbol) [0x009E0A17]\n\t(No symbol) [0x009BE02B]\n\t(No symbol) [0x00A4742E]\n\t(No symbol) [0x00A59476]\n\t(No symbol) [0x00A40B36]\n\t(No symbol) [0x00A1570D]\n\t(No symbol) [0x00A162CD]\n\tGetHandleVerifier [0x00E16613+2908435]\n\tGetHandleVerifier [0x00E53C2B+3159851]\n\tGetHandleVerifier [0x00BF513B+674875]\n\tGetHandleVerifier [0x00BFB2FC+699900]\n\t(No symbol) [0x00AF62B4]\n\t(No symbol) [0x00AF2308]\n\t(No symbol) [0x00AF249C]\n\t(No symbol) [0x00AE4C20]\n\tBaseThreadInitThunk [0x76BE7BA9+25]\n\tRtlInitializeExceptionChain [0x77DDBE3B+107]\n\tRtlClearBits [0x77DDBDBF+191]\n"
     ]
    }
   ],
   "source": [
    "from selenium import webdriver\n",
    "from selenium.webdriver.common.by import By\n",
    "from selenium.webdriver.chrome.service import Service\n",
    "from webdriver_manager.chrome import ChromeDriverManager\n",
    "import pandas as pd\n",
    "from selenium.common.exceptions import NoSuchElementException\n",
    "\n",
    "URL = \"https://statiz.sporki.com/stats/?m=main&m2=pitching&m3=default&so=WAR&ob=DESC&year=2024&sy=&ey=&te=7002&po=&lt=10100&reg=A&pe=&ds=&de=&we=&hr=&ha=&ct=&st=&vp=&bo=&pt=&pp=&ii=&vc=&um=&oo=&rr=&sc=&bc=&ba=&li=&as=&ae=&pl=&gc=&lr=&pr=50&ph=&hs=&us=&na=&ls=&sf1=&sk1=&sv1=&sf2=&sk2=&sv2=\"\n",
    "option = webdriver.ChromeOptions()\n",
    "option.add_experimental_option(\"excludeSwitches\", [\"enable-logging\"])\n",
    "driver = webdriver.Chrome(service=Service(ChromeDriverManager().install()), options=option)\n",
    "driver.get(URL)\n",
    "\n",
    "table_xpath = \"/html/body/div[2]/div[5]/section/div[8]/table\"\n",
    "table = driver.find_element(By.XPATH, table_xpath)\n",
    "tbody = table.find_element(By.TAG_NAME, \"tbody\")\n",
    "\n",
    "columns = [\n",
    "    \"Rank\", \"Name\",\"season\", \"Position\", \"WAR\", \"G\", \"GS\", \"GR\", \"GF\", \"CG\", \"SHO\",\n",
    "    \"W\", \"L\", \"S\", \"HD\", \"IP\", \"ER\", \"R\", \"rRA\", \"TBF\", \"H\", \"2B\", \"3B\",\n",
    "    \"HR\", \"BB\", \"HP\", \"IB\", \"SO\", \"ROE\", \"BK\", \"WP\", \"ERA\", \"RA9\", \"rRA9\",\n",
    "    \"rRA9pf\", \"FIP\", \"WHIP\", \"WAR2\"\n",
    "]\n",
    "data_rows = []\n",
    "\n",
    "for j in range(3, 30):\n",
    "    try:\n",
    "        row = driver.find_element(By.XPATH, f'/html/body/div[2]/div[5]/section/div[8]/table/tbody/tr[{j}]').text\n",
    "        data = row.split()\n",
    "        data_rows.append(data)\n",
    "    except NoSuchElementException:\n",
    "        continue\n",
    "\n",
    "df2 = pd.DataFrame(data_rows, columns=columns)\n",
    "df2 = df2.drop(df2.columns[-1], axis=1)  # 마지막 컬럼 삭제\n",
    "df2.to_csv(\"pitcher_hanhwa_eagles.csv\",encoding='utf-8-sig')\n",
    "#driver.quit()  # 브라우저 닫기\n"
   ]
  },
  {
   "cell_type": "markdown",
   "metadata": {},
   "source": [
    "수비 데이터 - 포수"
   ]
  },
  {
   "cell_type": "code",
   "execution_count": 6,
   "metadata": {},
   "outputs": [],
   "source": [
    "URL = \"https://statiz.sporki.com/stats/?m=main&m2=fielding&m3=catcher&so=&ob=&year=2024&sy=&ey=&te=7002&po=13&lt=10100&reg=A&pe=&ds=&de=&we=&hr=&ha=&ct=&st=&vp=&bo=&pt=&pp=&ii=&vc=&um=&oo=&rr=&sc=&bc=&ba=&li=&as=&ae=&pl=&gc=&lr=&pr=50&ph=&hs=&us=&na=&ls=&sf1=&sk1=&sv1=&sf2=&sk2=&sv2=\"\n",
    "option = webdriver.ChromeOptions()\n",
    "option.add_experimental_option(\"excludeSwitches\", [\"enable-logging\"])\n",
    "driver = webdriver.Chrome(service=Service(ChromeDriverManager().install()), options=option)\n",
    "driver.get(URL)\n",
    "\n",
    "columns = [\"RANK\",\"NAME\",\"season\",\"position\",\n",
    "    \"Total RAA\", \"G\", \"GS\", \"IP\", \"WP\", \"PB\", \"Pass9\", \"SB\", \"CS\", \"CS%\", \n",
    "    \"SBA\", \"SBA%\", \"SB 2\", \"SB 3\", \"SB H\", \"SB Double\", \"CS 2\", \"CS 3\", \n",
    "    \"CS H\", \"CS Double\", \"Range RAA\", \"Err RAA\", \"CS RAA\", \"Blk RAA\", \n",
    "    \"Frm RAA\", \"/144\"\n",
    "]\n",
    "\n",
    "data_rows = []\n",
    "\n",
    "\n",
    "\n",
    "table_xpath = \"/html/body/div[2]/div[5]/section/div[7]/table\"\n",
    "table = driver.find_element(By.XPATH, table_xpath)\n",
    "tbody = table.find_element(By.TAG_NAME, \"tbody\")\n",
    "\n",
    "\n",
    "for j in range(3, 30):\n",
    "    try:\n",
    "        row = driver.find_element(By.XPATH, f'/html/body/div[2]/div[5]/section/div[7]/table/tbody/tr[{j}]').text\n",
    "        data = row.split()\n",
    "        data_rows.append(data)\n",
    "    except NoSuchElementException:\n",
    "        continue\n",
    "df3 = pd.DataFrame(data_rows, columns=columns)\n",
    "df3.to_csv(\"catcher_hanhwa_eagles.csv\",encoding='utf-8-sig')"
   ]
  },
  {
   "cell_type": "code",
   "execution_count": null,
   "metadata": {},
   "outputs": [],
   "source": [
    "data_rows"
   ]
  },
  {
   "cell_type": "markdown",
   "metadata": {},
   "source": [
    "수비 데이터 - 외야수\n",
    "\n"
   ]
  },
  {
   "cell_type": "code",
   "execution_count": 24,
   "metadata": {},
   "outputs": [],
   "source": [
    "from selenium import webdriver\n",
    "from selenium.webdriver.common.by import By\n",
    "from selenium.webdriver.chrome.service import Service\n",
    "from webdriver_manager.chrome import ChromeDriverManager\n",
    "import pandas as pd\n",
    "from selenium.common.exceptions import NoSuchElementException\n",
    "\n",
    "URL = \"https://statiz.sporki.com/stats/?m=main&m2=fielding&m3=outField&so=&ob=&year=2024&sy=&ey=&te=7002&po=13&lt=10100&reg=A&pe=&ds=&de=&we=&hr=&ha=&ct=&st=&vp=&bo=&pt=&pp=&ii=&vc=&um=&oo=&rr=&sc=&bc=&ba=&li=&as=&ae=&pl=&gc=&lr=&pr=50&ph=&hs=&us=&na=&ls=&sf1=&sk1=&sv1=&sf2=&sk2=&sv2=\"\n",
    "option = webdriver.ChromeOptions()\n",
    "option.add_experimental_option(\"excludeSwitches\", [\"enable-logging\"])\n",
    "driver = webdriver.Chrome(service=Service(ChromeDriverManager().install()), options=option)\n",
    "driver.get(URL)\n",
    "\n",
    "columns = [\n",
    "    \"RANK\",\"NAME\",\"position\",\n",
    "    \"Total RAA\", \"G\", \"GS\", \"IP\", \"BAFZ\", \"RF9\", \"ofAss\", \"F12 A\", \"F12 N\", \"F12 %\",\n",
    "    \"F23 A\", \"F23 N\", \"F23 %\", \"F34 A\", \"F34 N\", \"F34 %\", \"H13 A\", \"H13 N\", \"H13 %\",\n",
    "    \"H24 A\", \"H24 N\", \"H24 %\", \"D14 A\", \"D14 N\", \"D14 %\", \"Range RAA\", \"Arm RAA\", \n",
    "    \"Err RAA\", \"total RAA2\", \"/144\"\n",
    "]\n",
    "\n",
    "data_rows = []\n",
    "\n",
    "table_xpath = \"/html/body/div[2]/div[5]/section/div[7]/table\"\n",
    "table = driver.find_element(By.XPATH, table_xpath)\n",
    "tbody = table.find_element(By.TAG_NAME, \"tbody\")\n",
    "\n",
    "row_count = len(tbody.find_elements(By.TAG_NAME, \"tr\"))  # 행의 수를 구합니다.\n",
    "\n",
    "for j in range(3, row_count + 1):  # 행을 순회합니다.\n",
    "    data = []\n",
    "    if(j == 13 or j == 14):\n",
    "        continue\n",
    "    for k in range(1, len(columns) + 1):  # 각 행의 셀을 순회합니다.\n",
    "        try:\n",
    "            cell_text = driver.find_element(By.XPATH, f'/html/body/div[2]/div[5]/section/div[7]/table/tbody/tr[{j}]/td[{k}]').text\n",
    "            cell_text.replace(\" \",\"\")\n",
    "            data.append(cell_text if cell_text != '' else '0')  # 빈 셀이면 '0'을 추가\n",
    "        except NoSuchElementException:\n",
    "            data.append('0')  # 셀이 없는 경우 '0' 추가\n",
    "    data_rows.append(data)\n",
    "\n",
    "df3 = pd.DataFrame(data_rows, columns=columns)\n",
    "df3.to_csv(\"out_hanhwa_eagles.csv\", encoding='utf-8-sig')\n",
    "\n"
   ]
  },
  {
   "cell_type": "markdown",
   "metadata": {},
   "source": [
    "수비 데이터 - 내야수"
   ]
  },
  {
   "cell_type": "code",
   "execution_count": 23,
   "metadata": {},
   "outputs": [],
   "source": [
    "URL = \"https://statiz.sporki.com/stats/?m=main&m2=fielding&m3=inField&so=&ob=&year=2024&sy=&ey=&te=7002&po=14&lt=10100&reg=A&pe=&ds=&de=&we=&hr=&ha=&ct=&st=&vp=&bo=&pt=&pp=&ii=&vc=&um=&oo=&rr=&sc=&bc=&ba=&li=&as=&ae=&pl=&gc=&lr=&pr=50&ph=&hs=&us=&na=&ls=&sf1=&sk1=&sv1=&sf2=&sk2=&sv2=\"\n",
    "option = webdriver.ChromeOptions()\n",
    "option.add_experimental_option(\"excludeSwitches\", [\"enable-logging\"])\n",
    "driver = webdriver.Chrome(service=Service(ChromeDriverManager().install()), options=option)\n",
    "driver.get(URL)\n",
    "\n",
    "\n",
    "\n",
    "columns = [ \"RANK\",\"NAME\",\"position\",\n",
    "    \"Total RAA\", \"G\", \"GS\", \"IP\", \"ifH\", \"FC\", \"PO\", \"Ass\", \"E\", \"BBO\", \n",
    "    \"BBO%\", \"F%\", \"RF9\", \"Range RAA\", \"Err RAA\", \"DP RAA\", \"Bt RAA\",\"total RAA2\", \"/144\"\n",
    "]\n",
    "\n",
    "\n",
    "data_rows = []\n",
    "\n",
    "\n",
    "\n",
    "table_xpath = \"/html/body/div[2]/div[5]/section/div[7]/table\"\n",
    "table = driver.find_element(By.XPATH, table_xpath)\n",
    "tbody = table.find_element(By.TAG_NAME, \"tbody\")\n",
    "\n",
    "\n",
    "row_count = len(tbody.find_elements(By.TAG_NAME, \"tr\"))  # 행의 수를 구합니다.\n",
    "\n",
    "for j in range(3, row_count + 1):  # 행을 순회합니다.\n",
    "    data = []\n",
    "    if(j == 13 or j == 14):\n",
    "        continue\n",
    "    for k in range(1, len(columns) + 1):  # 각 행의 셀을 순회합니다.\n",
    "        try:\n",
    "            cell_text = driver.find_element(By.XPATH, f'/html/body/div[2]/div[5]/section/div[7]/table/tbody/tr[{j}]/td[{k}]').text\n",
    "            data.append(cell_text if cell_text != '' else '0')  # 빈 셀이면 '0'을 추가\n",
    "        except NoSuchElementException:\n",
    "            data.append('0')  # 셀이 없는 경우 '0' 추가\n",
    "    data_rows.append(data)\n",
    "    \n",
    "    \n",
    "df4 = pd.DataFrame(data_rows, columns=columns)\n",
    "df4.to_csv(\"in_hanhwa_eagles.csv\",encoding='utf-8-sig')"
   ]
  }
 ],
 "metadata": {
  "kernelspec": {
   "display_name": "Python 3",
   "language": "python",
   "name": "python3"
  },
  "language_info": {
   "codemirror_mode": {
    "name": "ipython",
    "version": 3
   },
   "file_extension": ".py",
   "mimetype": "text/x-python",
   "name": "python",
   "nbconvert_exporter": "python",
   "pygments_lexer": "ipython3",
   "version": "3.11.5"
  }
 },
 "nbformat": 4,
 "nbformat_minor": 2
}
