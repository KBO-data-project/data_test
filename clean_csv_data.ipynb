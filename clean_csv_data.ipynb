{
 "cells": [
  {
   "cell_type": "code",
   "execution_count": 2,
   "metadata": {},
   "outputs": [],
   "source": [
    "# 이 파일은 24라고 쓰여져 있는 부분을 team에 맞게 바꾸는 파트\n",
    "import pandas as pd\n",
    "\n",
    "# CSV 파일 읽기\n",
    "df = pd.read_csv('pitcher_lotte.csv')\n",
    "\n",
    "# 'season' 열의 이름을 'Team'으로 변경\n",
    "df.rename(columns={'season': 'Team'}, inplace=True)\n",
    "\n",
    "# 'Team' 컬럼의 모든 데이터를 'hanhwa'로 설정\n",
    "df['Team'] = 'lotte'\n",
    "\n",
    "# 결과를 새로운 CSV 파일로 저장\n",
    "df.to_csv('pitcher_lotte.csv', index=False)  \n"
   ]
  },
  {
   "cell_type": "code",
   "execution_count": 6,
   "metadata": {},
   "outputs": [],
   "source": [
    "# 이 파일은 내야수,외야수 수비 지표의 쓸대 없는 컬럼을 지우고 24라는 부분을 지우는 곳\n",
    "import pandas as pd\n",
    "df = pd.read_csv('in_lotte.csv') \n",
    "df['position'] = df['position'].str.replace('24 ', '')\n",
    "df['Team'] = 'lotte'\n",
    "df = df.drop(['total RAA2'],axis=1)\n",
    "df.to_csv('in_lotte.csv', index=False) \n"
   ]
  },
  {
   "cell_type": "code",
   "execution_count": 5,
   "metadata": {},
   "outputs": [],
   "source": [
    "import pandas as pd\n",
    "df = pd.read_csv('catcher_lotte.csv') \n",
    "df['position'] = df['position'].str.replace('24 ', '')\n",
    "df['Team'] = 'lotte'\n",
    "df = df.drop(['total RAA2'],axis=1)\n",
    "df.to_csv('catcher_lotte.csv', index=False) "
   ]
  }
 ],
 "metadata": {
  "kernelspec": {
   "display_name": "Python 3",
   "language": "python",
   "name": "python3"
  },
  "language_info": {
   "codemirror_mode": {
    "name": "ipython",
    "version": 3
   },
   "file_extension": ".py",
   "mimetype": "text/x-python",
   "name": "python",
   "nbconvert_exporter": "python",
   "pygments_lexer": "ipython3",
   "version": "3.11.5"
  }
 },
 "nbformat": 4,
 "nbformat_minor": 2
}
