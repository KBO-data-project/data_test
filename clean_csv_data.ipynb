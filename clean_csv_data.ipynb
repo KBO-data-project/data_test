{
 "cells": [
  {
   "cell_type": "code",
   "execution_count": 1,
   "metadata": {},
   "outputs": [],
   "source": [
    "import pandas as pd\n",
    "\n",
    "# CSV 파일 읽기\n",
    "df = pd.read_csv('pitcher_hanhwa_eagles.csv')  # 'your_file.csv'를 실제 파일 경로로 변경해야 합니다.\n",
    "\n",
    "# 'season' 열의 이름을 'Team'으로 변경\n",
    "df.rename(columns={'season': 'Team'}, inplace=True)\n",
    "\n",
    "# 'Team' 컬럼의 모든 데이터를 'hanhwa'로 설정\n",
    "df['Team'] = 'hanhwa'\n",
    "\n",
    "# 결과를 새로운 CSV 파일로 저장\n",
    "df.to_csv('pitcher_hanhwa_eagles.csv', index=False)  # 파일 이름은 원하는 대로 변경 가능합니다.\n"
   ]
  },
  {
   "cell_type": "code",
   "execution_count": 6,
   "metadata": {},
   "outputs": [],
   "source": [
    "import pandas as pd\n",
    "df = pd.read_csv('in_hanhwa_eagles.csv') \n",
    "df['position'] = df['position'].str.replace('24 ', '')\n",
    "df['Team'] = 'hanhwa'\n",
    "df = df.drop(['total RAA2'],axis=1)\n",
    "df.to_csv('in_hanhwa_eagles.csv', index=False) \n"
   ]
  },
  {
   "cell_type": "code",
   "execution_count": 7,
   "metadata": {},
   "outputs": [],
   "source": [
    "import pandas as pd\n",
    "df = pd.read_csv('out_hanhwa_eagles.csv') \n",
    "df['position'] = df['position'].str.replace('24 ', '')\n",
    "df['Team'] = 'hanhwa'\n",
    "df = df.drop(['total RAA2'],axis=1)\n",
    "df.to_csv('out_hanhwa_eagles.csv', index=False) "
   ]
  }
 ],
 "metadata": {
  "kernelspec": {
   "display_name": "Python 3",
   "language": "python",
   "name": "python3"
  },
  "language_info": {
   "codemirror_mode": {
    "name": "ipython",
    "version": 3
   },
   "file_extension": ".py",
   "mimetype": "text/x-python",
   "name": "python",
   "nbconvert_exporter": "python",
   "pygments_lexer": "ipython3",
   "version": "3.11.5"
  }
 },
 "nbformat": 4,
 "nbformat_minor": 2
}
