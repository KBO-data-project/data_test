{
 "cells": [
  {
   "cell_type": "code",
   "execution_count": 1,
   "metadata": {},
   "outputs": [],
   "source": [
    "import pandas as pd\n",
    "field_C = 'merged_C.csv'\n",
    "field_IF = 'merged_IF.csv'\n",
    "field_OF = 'merged_OF.csv'\n",
    "#인코딩 이슈\n",
    "#df_ch = pd.read_csv(a, encoding='euc-kr')\n",
    "#df_ch.to_csv(a)\n",
    "\n",
    "df_C = pd.read_csv(field_C)\n",
    "df_IF = pd.read_csv(field_IF)\n",
    "df_OF = pd.read_csv(field_OF)\n",
    "\n",
    "\n"
   ]
  },
  {
   "cell_type": "code",
   "execution_count": 8,
   "metadata": {},
   "outputs": [
    {
     "data": {
      "text/plain": [
       "Index(['NAME', 'TEAM', 'POSITION', 'TOTAL RAA', 'G', 'GS', 'IP', 'WP', 'PB',\n",
       "       'PASS9', 'SB', 'CS', 'CS%', 'SBA', 'SBA%', 'SB 2', 'SB 3', 'SB H',\n",
       "       'SB DOUBLE', 'CS 2', 'CS 3', 'CS H', 'CS DOUBLE', 'RANGE RAA',\n",
       "       'ERR RAA', 'CS RAA', 'BLK RAA', 'FRM RAA', '/144'],\n",
       "      dtype='object')"
      ]
     },
     "execution_count": 8,
     "metadata": {},
     "output_type": "execute_result"
    }
   ],
   "source": [
    "df_C.columns\n"
   ]
  },
  {
   "cell_type": "markdown",
   "metadata": {},
   "source": [
    "NAME: 선수 이름\n",
    "TEAM: 팀 이름\n",
    "POSITION: 포지션 (포수)\n",
    "TOTAL RAA: 전체 Runs Above Average, 포수의 종합적인 수비 기여도\n",
    "G: 경기 수, 포수가 출전한 경기 수\n",
    "GS: 선발 경기 수, 포수가 선발로 출전한 경기 수\n",
    "IP: 이닝 수, 포수가 출전한 총 이닝 수\n",
    "\n",
    "\n",
    "\n",
    "PASS9: 9이닝 당 패스트볼+폭투 수, 9이닝 기준으로 포수가 놓친 공의 수 (낮을 수록 좋음) *\n",
    "CS%: 도루 저지율, 도루 시도에 대한 포수의 도루 저지 성공률 *\n",
    "BLK RAA: 블로킹 Runs Above Average, 포수의 블로킹 능력 평가 *\n",
    "CS RAA: 도루 저지 Runs Above Average, 도루 저지 능력 평가 *\n"
   ]
  },
  {
   "cell_type": "code",
   "execution_count": 9,
   "metadata": {},
   "outputs": [
    {
     "data": {
      "text/plain": [
       "Index(['NAME', 'TEAM', 'POSITION', 'TOTAL RAA', 'G', 'GS', 'IP', 'IFH', 'FC',\n",
       "       'PO', 'ASS', 'E', 'BBO', 'BBO%', 'F%', 'RF9', 'RANGE RAA', 'ERR RAA',\n",
       "       'DP RAA', 'BT RAA', '/144'],\n",
       "      dtype='object')"
      ]
     },
     "execution_count": 9,
     "metadata": {},
     "output_type": "execute_result"
    }
   ],
   "source": [
    "df_IF.columns"
   ]
  },
  {
   "cell_type": "markdown",
   "metadata": {},
   "source": [
    "default\n",
    "NAME 이름\n",
    "TEAM\n",
    "POSITION\n",
    "TOTAL RAA - 팀에 기여한 총 점수\n",
    "G - 경기수\n",
    "GS - 선발 경기 수\n",
    "IP - 이닝\n",
    "\n",
    "\n",
    "수치\n",
    "E - 에러(낮을수록 좋음)\n",
    "ERR RAA - 실책 방지 능력 평가\n",
    "\n",
    "DP RAA - 병살 성공률\n",
    "ERR RAA - 수비 범위\n",
    "ASS - 어시스트 수\n"
   ]
  },
  {
   "cell_type": "code",
   "execution_count": 10,
   "metadata": {},
   "outputs": [
    {
     "data": {
      "text/plain": [
       "Index(['NAME', 'TEAM', 'POSITION', 'TOTAL RAA', 'G', 'GS', 'IP', 'BAFZ', 'RF9',\n",
       "       'OFASS', 'F12 A', 'F12 N', 'F12 %', 'F23 A', 'F23 N', 'F23 %', 'F34 A',\n",
       "       'F34 N', 'F34 %', 'H13 A', 'H13 N', 'H13 %', 'H24 A', 'H24 N', 'H24 %',\n",
       "       'D14 A', 'D14 N', 'D14 %', 'RANGE RAA', 'ARM RAA', 'ERR RAA', '/144'],\n",
       "      dtype='object')"
      ]
     },
     "execution_count": 10,
     "metadata": {},
     "output_type": "execute_result"
    }
   ],
   "source": [
    "df_OF.columns"
   ]
  },
  {
   "cell_type": "markdown",
   "metadata": {},
   "source": [
    "DEFAULT\n",
    "\n",
    "NAME - 이름\n",
    "TEAM \n",
    "POSITION\n",
    "TOTAL RAA 팀에 기여한 총 점수\n",
    "G 경기 수 \n",
    "GS 선발 경기\n",
    "IP 이닝\n",
    "\n",
    "\n",
    "수치\n",
    "RF9 9이닝당 수비 범위\n",
    "OFASS 외야 어시스트 수\n",
    "RANGE RAA 수비 범위\n",
    "ARM RAA 어깨 능력\n",
    "ERR RAA 실책 방지 능력 평가"
   ]
  }
 ],
 "metadata": {
  "kernelspec": {
   "display_name": "Python 3",
   "language": "python",
   "name": "python3"
  },
  "language_info": {
   "codemirror_mode": {
    "name": "ipython",
    "version": 3
   },
   "file_extension": ".py",
   "mimetype": "text/x-python",
   "name": "python",
   "nbconvert_exporter": "python",
   "pygments_lexer": "ipython3",
   "version": "3.11.5"
  }
 },
 "nbformat": 4,
 "nbformat_minor": 2
}
