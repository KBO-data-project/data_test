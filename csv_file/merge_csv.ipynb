{
 "cells": [
  {
   "cell_type": "code",
   "execution_count": 8,
   "metadata": {},
   "outputs": [
    {
     "data": {
      "text/plain": [
       "30"
      ]
     },
     "execution_count": 8,
     "metadata": {},
     "output_type": "execute_result"
    }
   ],
   "source": [
    "#cather part merge\n",
    "import pandas as pd\n",
    "\n",
    "# CSV 파일 읽기\n",
    "df_ch = pd.read_csv('catcher_hanhwa_eagles.csv')\n",
    "df_cl = pd.read_csv(\"catcher_lotte.csv\")\n",
    "df_ch = df_ch.drop(['Unnamed: 0'],axis=1)\n",
    "df_cl = df_cl.drop(['Unnamed: 0'],axis=1)\n",
    "\n"
   ]
  },
  {
   "cell_type": "code",
   "execution_count": 14,
   "metadata": {},
   "outputs": [
    {
     "name": "stdout",
     "output_type": "stream",
     "text": [
      "   RANK NAME    Team position  Total RAA   G  GS     IP  WP  PB  ...  CS 2  \\\n",
      "0     1  이재원  hanhwa        C       0.57  17  12   88.0   4   2  ...     4   \n",
      "1     2  최재훈  hanhwa        C      -0.17  26  22  190.0   8   0  ...     7   \n",
      "2     3  박상언  hanhwa        C      -0.95  12   6   72.0   5   0  ...     0   \n",
      "3     1  손성빈   lotte        C       1.36  12   3   45.0   1   0  ...     0   \n",
      "4     2  정보근   lotte        C       0.28  25  15  138.1  13   0  ...     4   \n",
      "\n",
      "   CS 3  CS H  CS Double  Range RAA  Err RAA  CS RAA  Blk RAA  Frm RAA   /144  \n",
      "0     0     0          0       0.00     0.40    0.62     0.04     0.57   4.85  \n",
      "1     1     0          1      -0.15    -0.14    0.22    -0.13    -0.17  -0.97  \n",
      "2     0     0          0      -0.04    -0.17   -0.83     0.09    -0.95 -11.43  \n",
      "3     0     0          0      -0.08     0.20    0.00     0.75     0.00  16.38  \n",
      "4     2     0          1       0.40     0.63    0.33    -1.07     0.00   1.63  \n",
      "\n",
      "[5 rows x 30 columns]\n"
     ]
    }
   ],
   "source": [
    "df_ch.rename(columns={'team': 'Team'}, inplace=True)\n",
    "\n",
    "# 두 데이터 프레임 병합\n",
    "merged_df = pd.concat([df_ch, df_cl], ignore_index=True)\n",
    "\n",
    "# 병합된 데이터 프레임 출력\n",
    "print(merged_df.head())\n",
    "merged_df.to_csv('lotte_hanhwa_catcher.csv', index=False) "
   ]
  },
  {
   "cell_type": "code",
   "execution_count": 17,
   "metadata": {},
   "outputs": [],
   "source": [
    "# 타자 공격지표 merge part\n",
    "df_ch = pd.read_csv('hitter_hanhwa_eagles.csv')\n",
    "df_cl = pd.read_csv(\"hitter_lotte.csv\")\n",
    "df_ch = df_ch.drop(['Unnamed: 0'],axis=1)\n",
    "df_cl = df_cl.drop(['Unnamed: 0'],axis=1)"
   ]
  },
  {
   "cell_type": "code",
   "execution_count": 20,
   "metadata": {},
   "outputs": [],
   "source": [
    "# 열 이름 변경\n",
    "df_ch.rename(columns={'season': 'Team'}, inplace=True)\n",
    "df_cl.rename(columns={'season': 'Team'}, inplace=True)\n",
    "\n",
    "# 팀 이름으로 값 채우기\n",
    "df_ch['Team'] = 'hanhwa'\n",
    "df_cl['Team'] = 'lotte'\n",
    "\n",
    "# 두 데이터 프레임 병합\n",
    "merged_df = pd.concat([df_ch, df_cl], ignore_index=True)\n",
    "merged_df.to_csv('lotte_hanhwa_hitter.csv', index=False) "
   ]
  },
  {
   "cell_type": "code",
   "execution_count": 23,
   "metadata": {},
   "outputs": [],
   "source": [
    "#이 부분은 투수 병합임\n",
    "df_ch = pd.read_csv('pitcher_hanhwa_eagles.csv')\n",
    "df_cl = pd.read_csv(\"pitcher_lotte.csv\")\n",
    "df_ch = df_ch.drop(['Unnamed: 0'],axis=1)\n",
    "df_cl = df_cl.drop(['Unnamed: 0'],axis=1)"
   ]
  },
  {
   "cell_type": "code",
   "execution_count": 25,
   "metadata": {},
   "outputs": [
    {
     "name": "stdout",
     "output_type": "stream",
     "text": [
      "Index(['Rank', 'Name', 'Team', 'Position', 'WAR', 'G', 'GS', 'GR', 'GF', 'CG',\n",
      "       'SHO', 'W', 'L', 'S', 'HD', 'IP', 'ER', 'R', 'rRA', 'TBF', 'H', '2B',\n",
      "       '3B', 'HR', 'BB', 'HP', 'IB', 'SO', 'ROE', 'BK', 'WP', 'ERA', 'RA9',\n",
      "       'rRA9', 'rRA9pf', 'FIP', 'WHIP'],\n",
      "      dtype='object')\n",
      "Index(['Rank', 'Name', 'Team', 'Position', 'WAR', 'G', 'GS', 'GR', 'GF', 'CG',\n",
      "       'SHO', 'W', 'L', 'S', 'HD', 'IP', 'ER', 'R', 'rRA', 'TBF', 'H', '2B',\n",
      "       '3B', 'HR', 'BB', 'HP', 'IB', 'SO', 'ROE', 'BK', 'WP', 'ERA', 'RA9',\n",
      "       'rRA9', 'rRA9pf', 'FIP', 'WHIP'],\n",
      "      dtype='object')\n"
     ]
    }
   ],
   "source": [
    "print(df_ch.columns)\n",
    "print(df_cl.columns)\n",
    "merged_df = pd.concat([df_ch, df_cl], ignore_index=True)\n",
    "merged_df.to_csv('lotte_hanhwa_pitcher.csv', index=False) "
   ]
  },
  {
   "cell_type": "code",
   "execution_count": 29,
   "metadata": {},
   "outputs": [],
   "source": [
    "# 이 부분은 내야수 수비 지표 통합\n",
    "df_ch = pd.read_csv('in_hanhwa_eagles.csv')\n",
    "df_cl = pd.read_csv(\"in_lotte.csv\")\n",
    "df_ch = df_ch.drop(['Unnamed: 0'],axis=1)\n",
    "df_cl = df_cl.drop(['Unnamed: 0'],axis=1)"
   ]
  },
  {
   "cell_type": "code",
   "execution_count": 33,
   "metadata": {},
   "outputs": [],
   "source": [
    "merged_df = pd.concat([df_ch, df_cl], ignore_index=True)\n",
    "merged_df.to_csv('in_lotte_hanhwa.csv', index=False) "
   ]
  },
  {
   "cell_type": "code",
   "execution_count": 34,
   "metadata": {},
   "outputs": [],
   "source": [
    "#외야수 수비 지표 통합\n",
    "df_ch = pd.read_csv('out_hanhwa_eagles.csv')\n",
    "df_cl = pd.read_csv(\"out_lotte.csv\")\n",
    "df_ch = df_ch.drop(['Unnamed: 0'],axis=1)\n",
    "df_cl = df_cl.drop(['Unnamed: 0'],axis=1)"
   ]
  },
  {
   "cell_type": "code",
   "execution_count": 36,
   "metadata": {},
   "outputs": [],
   "source": [
    "merged_df = pd.concat([df_ch, df_cl], ignore_index=True)\n",
    "merged_df.to_csv('out_lotte_hanhwa.csv', index=False) "
   ]
  }
 ],
 "metadata": {
  "kernelspec": {
   "display_name": "Python 3",
   "language": "python",
   "name": "python3"
  },
  "language_info": {
   "codemirror_mode": {
    "name": "ipython",
    "version": 3
   },
   "file_extension": ".py",
   "mimetype": "text/x-python",
   "name": "python",
   "nbconvert_exporter": "python",
   "pygments_lexer": "ipython3",
   "version": "3.11.5"
  }
 },
 "nbformat": 4,
 "nbformat_minor": 2
}
